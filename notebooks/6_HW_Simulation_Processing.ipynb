{
 "cells": [
  {
   "cell_type": "code",
   "execution_count": 1,
   "id": "f5051988",
   "metadata": {},
   "outputs": [],
   "source": [
    "%load_ext autoreload\n",
    "%autoreload 2"
   ]
  },
  {
   "cell_type": "code",
   "execution_count": 2,
   "id": "e292853a",
   "metadata": {},
   "outputs": [],
   "source": [
    "SIMULATION_OUTPUT=\"/mnt/Archivos/Nextcloud/MaestriaPUCP/Thesis/development/project\""
   ]
  },
  {
   "cell_type": "code",
   "execution_count": 3,
   "id": "7722e170",
   "metadata": {},
   "outputs": [],
   "source": [
    "import pandas as pd"
   ]
  },
  {
   "cell_type": "code",
   "execution_count": 4,
   "id": "aed5d8c6",
   "metadata": {},
   "outputs": [],
   "source": [
    "RELATIVE_FILE_PATH=\"results/output_lcadc_comp_single_stage_noise_v3.vcsv\""
   ]
  },
  {
   "cell_type": "code",
   "execution_count": 5,
   "id": "a8abcadc",
   "metadata": {},
   "outputs": [],
   "source": [
    "from pathlib import Path"
   ]
  },
  {
   "cell_type": "code",
   "execution_count": 6,
   "id": "3c287400",
   "metadata": {},
   "outputs": [],
   "source": [
    "filepath = Path(SIMULATION_OUTPUT)/RELATIVE_FILE_PATH"
   ]
  },
  {
   "cell_type": "code",
   "execution_count": 7,
   "id": "5f2c8152",
   "metadata": {},
   "outputs": [],
   "source": [
    "df = pd.read_csv(filepath, comment=';', header=None, \n",
    "                 names=[\"time_VOUT\", \"VOUT\"])\n",
    "df = df[[\"time_VOUT\", \"VOUT\"]].copy()"
   ]
  },
  {
   "cell_type": "code",
   "execution_count": 8,
   "id": "a3a1de25",
   "metadata": {},
   "outputs": [
    {
     "data": {
      "text/html": [
       "<div>\n",
       "<style scoped>\n",
       "    .dataframe tbody tr th:only-of-type {\n",
       "        vertical-align: middle;\n",
       "    }\n",
       "\n",
       "    .dataframe tbody tr th {\n",
       "        vertical-align: top;\n",
       "    }\n",
       "\n",
       "    .dataframe thead th {\n",
       "        text-align: right;\n",
       "    }\n",
       "</style>\n",
       "<table border=\"1\" class=\"dataframe\">\n",
       "  <thead>\n",
       "    <tr style=\"text-align: right;\">\n",
       "      <th></th>\n",
       "      <th>time_VOUT</th>\n",
       "      <th>VOUT</th>\n",
       "    </tr>\n",
       "  </thead>\n",
       "  <tbody>\n",
       "    <tr>\n",
       "      <th>0</th>\n",
       "      <td>0.000000e+00</td>\n",
       "      <td>0.0</td>\n",
       "    </tr>\n",
       "    <tr>\n",
       "      <th>1</th>\n",
       "      <td>5.000000e-07</td>\n",
       "      <td>0.0</td>\n",
       "    </tr>\n",
       "    <tr>\n",
       "      <th>2</th>\n",
       "      <td>5.549152e-07</td>\n",
       "      <td>0.0</td>\n",
       "    </tr>\n",
       "    <tr>\n",
       "      <th>3</th>\n",
       "      <td>6.308933e-07</td>\n",
       "      <td>0.0</td>\n",
       "    </tr>\n",
       "    <tr>\n",
       "      <th>4</th>\n",
       "      <td>7.059475e-07</td>\n",
       "      <td>0.0</td>\n",
       "    </tr>\n",
       "  </tbody>\n",
       "</table>\n",
       "</div>"
      ],
      "text/plain": [
       "      time_VOUT  VOUT\n",
       "0  0.000000e+00   0.0\n",
       "1  5.000000e-07   0.0\n",
       "2  5.549152e-07   0.0\n",
       "3  6.308933e-07   0.0\n",
       "4  7.059475e-07   0.0"
      ]
     },
     "execution_count": 8,
     "metadata": {},
     "output_type": "execute_result"
    }
   ],
   "source": [
    "df.head()"
   ]
  },
  {
   "cell_type": "code",
   "execution_count": 9,
   "id": "bd20e788",
   "metadata": {},
   "outputs": [],
   "source": [
    "import numpy as np"
   ]
  },
  {
   "cell_type": "code",
   "execution_count": 10,
   "id": "e1d9c3a3",
   "metadata": {},
   "outputs": [],
   "source": [
    "df[\"delayed\"] = df[\"VOUT\"].shift(periods=1, fill_value=0)"
   ]
  },
  {
   "cell_type": "code",
   "execution_count": 11,
   "id": "de69e035",
   "metadata": {},
   "outputs": [
    {
     "data": {
      "text/html": [
       "<div>\n",
       "<style scoped>\n",
       "    .dataframe tbody tr th:only-of-type {\n",
       "        vertical-align: middle;\n",
       "    }\n",
       "\n",
       "    .dataframe tbody tr th {\n",
       "        vertical-align: top;\n",
       "    }\n",
       "\n",
       "    .dataframe thead th {\n",
       "        text-align: right;\n",
       "    }\n",
       "</style>\n",
       "<table border=\"1\" class=\"dataframe\">\n",
       "  <thead>\n",
       "    <tr style=\"text-align: right;\">\n",
       "      <th></th>\n",
       "      <th>time_VOUT</th>\n",
       "      <th>VOUT</th>\n",
       "      <th>delayed</th>\n",
       "    </tr>\n",
       "  </thead>\n",
       "  <tbody>\n",
       "    <tr>\n",
       "      <th>0</th>\n",
       "      <td>0.000000e+00</td>\n",
       "      <td>0.0</td>\n",
       "      <td>0.0</td>\n",
       "    </tr>\n",
       "    <tr>\n",
       "      <th>1</th>\n",
       "      <td>5.000000e-07</td>\n",
       "      <td>0.0</td>\n",
       "      <td>0.0</td>\n",
       "    </tr>\n",
       "    <tr>\n",
       "      <th>2</th>\n",
       "      <td>5.549152e-07</td>\n",
       "      <td>0.0</td>\n",
       "      <td>0.0</td>\n",
       "    </tr>\n",
       "    <tr>\n",
       "      <th>3</th>\n",
       "      <td>6.308933e-07</td>\n",
       "      <td>0.0</td>\n",
       "      <td>0.0</td>\n",
       "    </tr>\n",
       "    <tr>\n",
       "      <th>4</th>\n",
       "      <td>7.059475e-07</td>\n",
       "      <td>0.0</td>\n",
       "      <td>0.0</td>\n",
       "    </tr>\n",
       "  </tbody>\n",
       "</table>\n",
       "</div>"
      ],
      "text/plain": [
       "      time_VOUT  VOUT  delayed\n",
       "0  0.000000e+00   0.0      0.0\n",
       "1  5.000000e-07   0.0      0.0\n",
       "2  5.549152e-07   0.0      0.0\n",
       "3  6.308933e-07   0.0      0.0\n",
       "4  7.059475e-07   0.0      0.0"
      ]
     },
     "execution_count": 11,
     "metadata": {},
     "output_type": "execute_result"
    }
   ],
   "source": [
    "df.head()"
   ]
  },
  {
   "cell_type": "code",
   "execution_count": 12,
   "id": "4b07a2a1",
   "metadata": {},
   "outputs": [],
   "source": [
    "df[\"abs_diff\"] = np.absolute(df[\"VOUT\"] - df[\"delayed\"])"
   ]
  },
  {
   "cell_type": "code",
   "execution_count": 13,
   "id": "450d2e56",
   "metadata": {},
   "outputs": [
    {
     "data": {
      "text/html": [
       "<div>\n",
       "<style scoped>\n",
       "    .dataframe tbody tr th:only-of-type {\n",
       "        vertical-align: middle;\n",
       "    }\n",
       "\n",
       "    .dataframe tbody tr th {\n",
       "        vertical-align: top;\n",
       "    }\n",
       "\n",
       "    .dataframe thead th {\n",
       "        text-align: right;\n",
       "    }\n",
       "</style>\n",
       "<table border=\"1\" class=\"dataframe\">\n",
       "  <thead>\n",
       "    <tr style=\"text-align: right;\">\n",
       "      <th></th>\n",
       "      <th>time_VOUT</th>\n",
       "      <th>VOUT</th>\n",
       "      <th>delayed</th>\n",
       "      <th>abs_diff</th>\n",
       "    </tr>\n",
       "  </thead>\n",
       "  <tbody>\n",
       "    <tr>\n",
       "      <th>0</th>\n",
       "      <td>0.000000e+00</td>\n",
       "      <td>0.0</td>\n",
       "      <td>0.0</td>\n",
       "      <td>0.0</td>\n",
       "    </tr>\n",
       "    <tr>\n",
       "      <th>1</th>\n",
       "      <td>5.000000e-07</td>\n",
       "      <td>0.0</td>\n",
       "      <td>0.0</td>\n",
       "      <td>0.0</td>\n",
       "    </tr>\n",
       "    <tr>\n",
       "      <th>2</th>\n",
       "      <td>5.549152e-07</td>\n",
       "      <td>0.0</td>\n",
       "      <td>0.0</td>\n",
       "      <td>0.0</td>\n",
       "    </tr>\n",
       "    <tr>\n",
       "      <th>3</th>\n",
       "      <td>6.308933e-07</td>\n",
       "      <td>0.0</td>\n",
       "      <td>0.0</td>\n",
       "      <td>0.0</td>\n",
       "    </tr>\n",
       "    <tr>\n",
       "      <th>4</th>\n",
       "      <td>7.059475e-07</td>\n",
       "      <td>0.0</td>\n",
       "      <td>0.0</td>\n",
       "      <td>0.0</td>\n",
       "    </tr>\n",
       "  </tbody>\n",
       "</table>\n",
       "</div>"
      ],
      "text/plain": [
       "      time_VOUT  VOUT  delayed  abs_diff\n",
       "0  0.000000e+00   0.0      0.0       0.0\n",
       "1  5.000000e-07   0.0      0.0       0.0\n",
       "2  5.549152e-07   0.0      0.0       0.0\n",
       "3  6.308933e-07   0.0      0.0       0.0\n",
       "4  7.059475e-07   0.0      0.0       0.0"
      ]
     },
     "execution_count": 13,
     "metadata": {},
     "output_type": "execute_result"
    }
   ],
   "source": [
    "df.head()"
   ]
  },
  {
   "cell_type": "code",
   "execution_count": 14,
   "id": "287be797",
   "metadata": {},
   "outputs": [],
   "source": [
    "ndf = df.loc[df[\"abs_diff\"]!=0].copy()"
   ]
  },
  {
   "cell_type": "code",
   "execution_count": 15,
   "id": "f0ae0d7f",
   "metadata": {},
   "outputs": [
    {
     "data": {
      "text/html": [
       "<div>\n",
       "<style scoped>\n",
       "    .dataframe tbody tr th:only-of-type {\n",
       "        vertical-align: middle;\n",
       "    }\n",
       "\n",
       "    .dataframe tbody tr th {\n",
       "        vertical-align: top;\n",
       "    }\n",
       "\n",
       "    .dataframe thead th {\n",
       "        text-align: right;\n",
       "    }\n",
       "</style>\n",
       "<table border=\"1\" class=\"dataframe\">\n",
       "  <thead>\n",
       "    <tr style=\"text-align: right;\">\n",
       "      <th></th>\n",
       "      <th>time_VOUT</th>\n",
       "      <th>VOUT</th>\n",
       "      <th>delayed</th>\n",
       "      <th>abs_diff</th>\n",
       "    </tr>\n",
       "  </thead>\n",
       "  <tbody>\n",
       "    <tr>\n",
       "      <th>5095</th>\n",
       "      <td>0.000005</td>\n",
       "      <td>0.000002</td>\n",
       "      <td>0.000000</td>\n",
       "      <td>0.000002</td>\n",
       "    </tr>\n",
       "    <tr>\n",
       "      <th>5096</th>\n",
       "      <td>0.000005</td>\n",
       "      <td>0.000004</td>\n",
       "      <td>0.000002</td>\n",
       "      <td>0.000002</td>\n",
       "    </tr>\n",
       "    <tr>\n",
       "      <th>5097</th>\n",
       "      <td>0.000005</td>\n",
       "      <td>0.000007</td>\n",
       "      <td>0.000004</td>\n",
       "      <td>0.000003</td>\n",
       "    </tr>\n",
       "    <tr>\n",
       "      <th>5098</th>\n",
       "      <td>0.000005</td>\n",
       "      <td>0.000010</td>\n",
       "      <td>0.000007</td>\n",
       "      <td>0.000004</td>\n",
       "    </tr>\n",
       "    <tr>\n",
       "      <th>5099</th>\n",
       "      <td>0.000005</td>\n",
       "      <td>0.000014</td>\n",
       "      <td>0.000010</td>\n",
       "      <td>0.000004</td>\n",
       "    </tr>\n",
       "    <tr>\n",
       "      <th>...</th>\n",
       "      <td>...</td>\n",
       "      <td>...</td>\n",
       "      <td>...</td>\n",
       "      <td>...</td>\n",
       "    </tr>\n",
       "    <tr>\n",
       "      <th>3533967</th>\n",
       "      <td>0.007992</td>\n",
       "      <td>-0.424931</td>\n",
       "      <td>-0.424791</td>\n",
       "      <td>0.000141</td>\n",
       "    </tr>\n",
       "    <tr>\n",
       "      <th>3533968</th>\n",
       "      <td>0.007992</td>\n",
       "      <td>-0.425196</td>\n",
       "      <td>-0.424931</td>\n",
       "      <td>0.000264</td>\n",
       "    </tr>\n",
       "    <tr>\n",
       "      <th>3533969</th>\n",
       "      <td>0.007992</td>\n",
       "      <td>-0.425595</td>\n",
       "      <td>-0.425196</td>\n",
       "      <td>0.000399</td>\n",
       "    </tr>\n",
       "    <tr>\n",
       "      <th>3533970</th>\n",
       "      <td>0.007992</td>\n",
       "      <td>-0.426055</td>\n",
       "      <td>-0.425595</td>\n",
       "      <td>0.000460</td>\n",
       "    </tr>\n",
       "    <tr>\n",
       "      <th>3533971</th>\n",
       "      <td>0.007992</td>\n",
       "      <td>-0.426563</td>\n",
       "      <td>-0.426055</td>\n",
       "      <td>0.000507</td>\n",
       "    </tr>\n",
       "  </tbody>\n",
       "</table>\n",
       "<p>1089893 rows × 4 columns</p>\n",
       "</div>"
      ],
      "text/plain": [
       "         time_VOUT      VOUT   delayed  abs_diff\n",
       "5095      0.000005  0.000002  0.000000  0.000002\n",
       "5096      0.000005  0.000004  0.000002  0.000002\n",
       "5097      0.000005  0.000007  0.000004  0.000003\n",
       "5098      0.000005  0.000010  0.000007  0.000004\n",
       "5099      0.000005  0.000014  0.000010  0.000004\n",
       "...            ...       ...       ...       ...\n",
       "3533967   0.007992 -0.424931 -0.424791  0.000141\n",
       "3533968   0.007992 -0.425196 -0.424931  0.000264\n",
       "3533969   0.007992 -0.425595 -0.425196  0.000399\n",
       "3533970   0.007992 -0.426055 -0.425595  0.000460\n",
       "3533971   0.007992 -0.426563 -0.426055  0.000507\n",
       "\n",
       "[1089893 rows x 4 columns]"
      ]
     },
     "execution_count": 15,
     "metadata": {},
     "output_type": "execute_result"
    }
   ],
   "source": [
    "ndf"
   ]
  },
  {
   "cell_type": "code",
   "execution_count": 16,
   "id": "a4d981c8",
   "metadata": {},
   "outputs": [],
   "source": [
    "ndf[\"time_diff\"] = ndf[\"time_VOUT\"].shift(periods=-1, fill_value=0) - ndf[\"time_VOUT\"]"
   ]
  },
  {
   "cell_type": "code",
   "execution_count": 17,
   "id": "845fa89b",
   "metadata": {},
   "outputs": [
    {
     "data": {
      "text/html": [
       "<div>\n",
       "<style scoped>\n",
       "    .dataframe tbody tr th:only-of-type {\n",
       "        vertical-align: middle;\n",
       "    }\n",
       "\n",
       "    .dataframe tbody tr th {\n",
       "        vertical-align: top;\n",
       "    }\n",
       "\n",
       "    .dataframe thead th {\n",
       "        text-align: right;\n",
       "    }\n",
       "</style>\n",
       "<table border=\"1\" class=\"dataframe\">\n",
       "  <thead>\n",
       "    <tr style=\"text-align: right;\">\n",
       "      <th></th>\n",
       "      <th>time_VOUT</th>\n",
       "      <th>VOUT</th>\n",
       "      <th>delayed</th>\n",
       "      <th>abs_diff</th>\n",
       "      <th>time_diff</th>\n",
       "    </tr>\n",
       "  </thead>\n",
       "  <tbody>\n",
       "    <tr>\n",
       "      <th>5095</th>\n",
       "      <td>0.000005</td>\n",
       "      <td>0.000002</td>\n",
       "      <td>0.000000</td>\n",
       "      <td>0.000002</td>\n",
       "      <td>3.751190e-12</td>\n",
       "    </tr>\n",
       "    <tr>\n",
       "      <th>5096</th>\n",
       "      <td>0.000005</td>\n",
       "      <td>0.000004</td>\n",
       "      <td>0.000002</td>\n",
       "      <td>0.000002</td>\n",
       "      <td>6.395883e-12</td>\n",
       "    </tr>\n",
       "    <tr>\n",
       "      <th>5097</th>\n",
       "      <td>0.000005</td>\n",
       "      <td>0.000007</td>\n",
       "      <td>0.000004</td>\n",
       "      <td>0.000003</td>\n",
       "      <td>7.589974e-12</td>\n",
       "    </tr>\n",
       "    <tr>\n",
       "      <th>5098</th>\n",
       "      <td>0.000005</td>\n",
       "      <td>0.000010</td>\n",
       "      <td>0.000007</td>\n",
       "      <td>0.000004</td>\n",
       "      <td>8.613331e-12</td>\n",
       "    </tr>\n",
       "    <tr>\n",
       "      <th>5099</th>\n",
       "      <td>0.000005</td>\n",
       "      <td>0.000014</td>\n",
       "      <td>0.000010</td>\n",
       "      <td>0.000004</td>\n",
       "      <td>3.785595e-12</td>\n",
       "    </tr>\n",
       "    <tr>\n",
       "      <th>...</th>\n",
       "      <td>...</td>\n",
       "      <td>...</td>\n",
       "      <td>...</td>\n",
       "      <td>...</td>\n",
       "      <td>...</td>\n",
       "    </tr>\n",
       "    <tr>\n",
       "      <th>3533967</th>\n",
       "      <td>0.007992</td>\n",
       "      <td>-0.424931</td>\n",
       "      <td>-0.424791</td>\n",
       "      <td>0.000141</td>\n",
       "      <td>2.819949e-10</td>\n",
       "    </tr>\n",
       "    <tr>\n",
       "      <th>3533968</th>\n",
       "      <td>0.007992</td>\n",
       "      <td>-0.425196</td>\n",
       "      <td>-0.424931</td>\n",
       "      <td>0.000264</td>\n",
       "      <td>4.259337e-10</td>\n",
       "    </tr>\n",
       "    <tr>\n",
       "      <th>3533969</th>\n",
       "      <td>0.007992</td>\n",
       "      <td>-0.425595</td>\n",
       "      <td>-0.425196</td>\n",
       "      <td>0.000399</td>\n",
       "      <td>4.907735e-10</td>\n",
       "    </tr>\n",
       "    <tr>\n",
       "      <th>3533970</th>\n",
       "      <td>0.007992</td>\n",
       "      <td>-0.426055</td>\n",
       "      <td>-0.425595</td>\n",
       "      <td>0.000460</td>\n",
       "      <td>5.412815e-10</td>\n",
       "    </tr>\n",
       "    <tr>\n",
       "      <th>3533971</th>\n",
       "      <td>0.007992</td>\n",
       "      <td>-0.426563</td>\n",
       "      <td>-0.426055</td>\n",
       "      <td>0.000507</td>\n",
       "      <td>-7.992490e-03</td>\n",
       "    </tr>\n",
       "  </tbody>\n",
       "</table>\n",
       "<p>1089893 rows × 5 columns</p>\n",
       "</div>"
      ],
      "text/plain": [
       "         time_VOUT      VOUT   delayed  abs_diff     time_diff\n",
       "5095      0.000005  0.000002  0.000000  0.000002  3.751190e-12\n",
       "5096      0.000005  0.000004  0.000002  0.000002  6.395883e-12\n",
       "5097      0.000005  0.000007  0.000004  0.000003  7.589974e-12\n",
       "5098      0.000005  0.000010  0.000007  0.000004  8.613331e-12\n",
       "5099      0.000005  0.000014  0.000010  0.000004  3.785595e-12\n",
       "...            ...       ...       ...       ...           ...\n",
       "3533967   0.007992 -0.424931 -0.424791  0.000141  2.819949e-10\n",
       "3533968   0.007992 -0.425196 -0.424931  0.000264  4.259337e-10\n",
       "3533969   0.007992 -0.425595 -0.425196  0.000399  4.907735e-10\n",
       "3533970   0.007992 -0.426055 -0.425595  0.000460  5.412815e-10\n",
       "3533971   0.007992 -0.426563 -0.426055  0.000507 -7.992490e-03\n",
       "\n",
       "[1089893 rows x 5 columns]"
      ]
     },
     "execution_count": 17,
     "metadata": {},
     "output_type": "execute_result"
    }
   ],
   "source": [
    "ndf"
   ]
  },
  {
   "cell_type": "code",
   "execution_count": 18,
   "id": "5711c276",
   "metadata": {},
   "outputs": [],
   "source": [
    "sel_df = ndf.loc[ndf[\"time_diff\"]>1e-8].copy()"
   ]
  },
  {
   "cell_type": "code",
   "execution_count": 19,
   "id": "cf153a2f",
   "metadata": {},
   "outputs": [
    {
     "data": {
      "text/html": [
       "<div>\n",
       "<style scoped>\n",
       "    .dataframe tbody tr th:only-of-type {\n",
       "        vertical-align: middle;\n",
       "    }\n",
       "\n",
       "    .dataframe tbody tr th {\n",
       "        vertical-align: top;\n",
       "    }\n",
       "\n",
       "    .dataframe thead th {\n",
       "        text-align: right;\n",
       "    }\n",
       "</style>\n",
       "<table border=\"1\" class=\"dataframe\">\n",
       "  <thead>\n",
       "    <tr style=\"text-align: right;\">\n",
       "      <th></th>\n",
       "      <th>time_VOUT</th>\n",
       "      <th>VOUT</th>\n",
       "      <th>delayed</th>\n",
       "      <th>abs_diff</th>\n",
       "      <th>time_diff</th>\n",
       "    </tr>\n",
       "  </thead>\n",
       "  <tbody>\n",
       "    <tr>\n",
       "      <th>5327</th>\n",
       "      <td>0.000005</td>\n",
       "      <td>-0.004687</td>\n",
       "      <td>-0.004165</td>\n",
       "      <td>0.000523</td>\n",
       "      <td>5.038093e-07</td>\n",
       "    </tr>\n",
       "    <tr>\n",
       "      <th>7425</th>\n",
       "      <td>0.000006</td>\n",
       "      <td>-0.009375</td>\n",
       "      <td>-0.008896</td>\n",
       "      <td>0.000479</td>\n",
       "      <td>2.611981e-07</td>\n",
       "    </tr>\n",
       "    <tr>\n",
       "      <th>9147</th>\n",
       "      <td>0.000006</td>\n",
       "      <td>-0.014063</td>\n",
       "      <td>-0.013634</td>\n",
       "      <td>0.000429</td>\n",
       "      <td>2.174492e-06</td>\n",
       "    </tr>\n",
       "    <tr>\n",
       "      <th>11354</th>\n",
       "      <td>0.000008</td>\n",
       "      <td>-0.009375</td>\n",
       "      <td>-0.009670</td>\n",
       "      <td>0.000295</td>\n",
       "      <td>1.466202e-06</td>\n",
       "    </tr>\n",
       "    <tr>\n",
       "      <th>12635</th>\n",
       "      <td>0.000010</td>\n",
       "      <td>-0.004687</td>\n",
       "      <td>-0.004936</td>\n",
       "      <td>0.000248</td>\n",
       "      <td>1.447085e-06</td>\n",
       "    </tr>\n",
       "    <tr>\n",
       "      <th>...</th>\n",
       "      <td>...</td>\n",
       "      <td>...</td>\n",
       "      <td>...</td>\n",
       "      <td>...</td>\n",
       "      <td>...</td>\n",
       "    </tr>\n",
       "    <tr>\n",
       "      <th>3528986</th>\n",
       "      <td>0.007967</td>\n",
       "      <td>-0.403125</td>\n",
       "      <td>-0.402886</td>\n",
       "      <td>0.000239</td>\n",
       "      <td>4.061024e-06</td>\n",
       "    </tr>\n",
       "    <tr>\n",
       "      <th>3529922</th>\n",
       "      <td>0.007971</td>\n",
       "      <td>-0.407813</td>\n",
       "      <td>-0.407480</td>\n",
       "      <td>0.000333</td>\n",
       "      <td>4.515525e-06</td>\n",
       "    </tr>\n",
       "    <tr>\n",
       "      <th>3531047</th>\n",
       "      <td>0.007975</td>\n",
       "      <td>-0.412500</td>\n",
       "      <td>-0.412232</td>\n",
       "      <td>0.000268</td>\n",
       "      <td>4.791485e-06</td>\n",
       "    </tr>\n",
       "    <tr>\n",
       "      <th>3531902</th>\n",
       "      <td>0.007980</td>\n",
       "      <td>-0.417187</td>\n",
       "      <td>-0.416818</td>\n",
       "      <td>0.000370</td>\n",
       "      <td>5.751881e-06</td>\n",
       "    </tr>\n",
       "    <tr>\n",
       "      <th>3533022</th>\n",
       "      <td>0.007986</td>\n",
       "      <td>-0.421875</td>\n",
       "      <td>-0.421669</td>\n",
       "      <td>0.000206</td>\n",
       "      <td>6.521996e-06</td>\n",
       "    </tr>\n",
       "  </tbody>\n",
       "</table>\n",
       "<p>3498 rows × 5 columns</p>\n",
       "</div>"
      ],
      "text/plain": [
       "         time_VOUT      VOUT   delayed  abs_diff     time_diff\n",
       "5327      0.000005 -0.004687 -0.004165  0.000523  5.038093e-07\n",
       "7425      0.000006 -0.009375 -0.008896  0.000479  2.611981e-07\n",
       "9147      0.000006 -0.014063 -0.013634  0.000429  2.174492e-06\n",
       "11354     0.000008 -0.009375 -0.009670  0.000295  1.466202e-06\n",
       "12635     0.000010 -0.004687 -0.004936  0.000248  1.447085e-06\n",
       "...            ...       ...       ...       ...           ...\n",
       "3528986   0.007967 -0.403125 -0.402886  0.000239  4.061024e-06\n",
       "3529922   0.007971 -0.407813 -0.407480  0.000333  4.515525e-06\n",
       "3531047   0.007975 -0.412500 -0.412232  0.000268  4.791485e-06\n",
       "3531902   0.007980 -0.417187 -0.416818  0.000370  5.751881e-06\n",
       "3533022   0.007986 -0.421875 -0.421669  0.000206  6.521996e-06\n",
       "\n",
       "[3498 rows x 5 columns]"
      ]
     },
     "execution_count": 19,
     "metadata": {},
     "output_type": "execute_result"
    }
   ],
   "source": [
    "sel_df"
   ]
  },
  {
   "cell_type": "code",
   "execution_count": 20,
   "id": "5cf57fd6",
   "metadata": {},
   "outputs": [
    {
     "data": {
      "text/html": [
       "<div>\n",
       "<style scoped>\n",
       "    .dataframe tbody tr th:only-of-type {\n",
       "        vertical-align: middle;\n",
       "    }\n",
       "\n",
       "    .dataframe tbody tr th {\n",
       "        vertical-align: top;\n",
       "    }\n",
       "\n",
       "    .dataframe thead th {\n",
       "        text-align: right;\n",
       "    }\n",
       "</style>\n",
       "<table border=\"1\" class=\"dataframe\">\n",
       "  <thead>\n",
       "    <tr style=\"text-align: right;\">\n",
       "      <th></th>\n",
       "      <th>time_VOUT</th>\n",
       "      <th>VOUT</th>\n",
       "      <th>delayed</th>\n",
       "      <th>abs_diff</th>\n",
       "      <th>time_diff</th>\n",
       "    </tr>\n",
       "  </thead>\n",
       "  <tbody>\n",
       "    <tr>\n",
       "      <th>489180</th>\n",
       "      <td>0.001041</td>\n",
       "      <td>0.342187</td>\n",
       "      <td>0.341972</td>\n",
       "      <td>0.000215</td>\n",
       "      <td>0.000002</td>\n",
       "    </tr>\n",
       "    <tr>\n",
       "      <th>490165</th>\n",
       "      <td>0.001043</td>\n",
       "      <td>0.346875</td>\n",
       "      <td>0.346619</td>\n",
       "      <td>0.000256</td>\n",
       "      <td>0.000002</td>\n",
       "    </tr>\n",
       "    <tr>\n",
       "      <th>491148</th>\n",
       "      <td>0.001045</td>\n",
       "      <td>0.351562</td>\n",
       "      <td>0.351347</td>\n",
       "      <td>0.000216</td>\n",
       "      <td>0.000002</td>\n",
       "    </tr>\n",
       "    <tr>\n",
       "      <th>492231</th>\n",
       "      <td>0.001047</td>\n",
       "      <td>0.356250</td>\n",
       "      <td>0.355996</td>\n",
       "      <td>0.000254</td>\n",
       "      <td>0.000002</td>\n",
       "    </tr>\n",
       "    <tr>\n",
       "      <th>493174</th>\n",
       "      <td>0.001049</td>\n",
       "      <td>0.360938</td>\n",
       "      <td>0.360696</td>\n",
       "      <td>0.000241</td>\n",
       "      <td>0.000002</td>\n",
       "    </tr>\n",
       "  </tbody>\n",
       "</table>\n",
       "</div>"
      ],
      "text/plain": [
       "        time_VOUT      VOUT   delayed  abs_diff  time_diff\n",
       "489180   0.001041  0.342187  0.341972  0.000215   0.000002\n",
       "490165   0.001043  0.346875  0.346619  0.000256   0.000002\n",
       "491148   0.001045  0.351562  0.351347  0.000216   0.000002\n",
       "492231   0.001047  0.356250  0.355996  0.000254   0.000002\n",
       "493174   0.001049  0.360938  0.360696  0.000241   0.000002"
      ]
     },
     "execution_count": 20,
     "metadata": {},
     "output_type": "execute_result"
    }
   ],
   "source": [
    "nsel_df = sel_df[(sel_df[\"time_VOUT\"]>1.04e-3) & (sel_df[\"time_VOUT\"]<7.44e-3)]\n",
    "nsel_df.head()"
   ]
  },
  {
   "cell_type": "code",
   "execution_count": 21,
   "id": "747346c2",
   "metadata": {},
   "outputs": [],
   "source": [
    "import matplotlib.pylab as plt"
   ]
  },
  {
   "cell_type": "code",
   "execution_count": 22,
   "id": "7686eab3",
   "metadata": {},
   "outputs": [
    {
     "data": {
      "text/plain": [
       "(array([1395.,    0.,    0.,    0.,    0.,    0.,    0.,    0.,    0.,\n",
       "        1395.]),\n",
       " array([-0.0046875, -0.00375  , -0.0028125, -0.001875 , -0.0009375,\n",
       "         0.       ,  0.0009375,  0.001875 ,  0.0028125,  0.00375  ,\n",
       "         0.0046875]),\n",
       " <BarContainer object of 10 artists>)"
      ]
     },
     "execution_count": 22,
     "metadata": {},
     "output_type": "execute_result"
    },
    {
     "data": {
      "image/png": "[encoded data removed]",
      "text/plain": [
       "<Figure size 432x288 with 1 Axes>"
      ]
     },
     "metadata": {
      "needs_background": "light"
     },
     "output_type": "display_data"
    }
   ],
   "source": [
    "diff = nsel_df[\"VOUT\"].shift(periods=-1, fill_value=0) - nsel_df[\"VOUT\"]\n",
    "diff = diff[:-1]\n",
    "plt.hist(diff)"
   ]
  },
  {
   "cell_type": "code",
   "execution_count": 23,
   "id": "1daa07be",
   "metadata": {},
   "outputs": [
    {
     "data": {
      "text/plain": [
       "0.004687499999999897"
      ]
     },
     "execution_count": 23,
     "metadata": {},
     "output_type": "execute_result"
    }
   ],
   "source": [
    "min(np.abs(diff))"
   ]
  },
  {
   "cell_type": "code",
   "execution_count": 24,
   "id": "17535e28",
   "metadata": {},
   "outputs": [
    {
     "data": {
      "text/plain": [
       "1.3574374592003821e-06"
      ]
     },
     "execution_count": 24,
     "metadata": {},
     "output_type": "execute_result"
    }
   ],
   "source": [
    "nsel_df[\"time_diff\"].min()"
   ]
  },
  {
   "cell_type": "code",
   "execution_count": 25,
   "id": "19dcc06c",
   "metadata": {},
   "outputs": [
    {
     "data": {
      "text/plain": [
       "736682.1898292569"
      ]
     },
     "execution_count": 25,
     "metadata": {},
     "output_type": "execute_result"
    }
   ],
   "source": [
    "fmax = 1/nsel_df[\"time_diff\"].min()\n",
    "fmax"
   ]
  },
  {
   "cell_type": "code",
   "execution_count": 26,
   "id": "083473f5",
   "metadata": {},
   "outputs": [],
   "source": [
    "import matplotlib.pylab as plt"
   ]
  },
  {
   "cell_type": "code",
   "execution_count": 27,
   "id": "459a9ff0",
   "metadata": {
    "scrolled": false
   },
   "outputs": [
    {
     "data": {
      "text/plain": [
       "[<matplotlib.lines.Line2D at 0x7fa40f4491b0>]"
      ]
     },
     "execution_count": 27,
     "metadata": {},
     "output_type": "execute_result"
    },
    {
     "data": {
      "image/png": "[encoded data removed]",
      "text/plain": [
       "<Figure size 864x576 with 1 Axes>"
      ]
     },
     "metadata": {
      "needs_background": "light"
     },
     "output_type": "display_data"
    }
   ],
   "source": [
    "fig = plt.figure(figsize=(12,8))\n",
    "ax = fig.add_subplot(1,1,1)\n",
    "ax.plot(sel_df[\"time_VOUT\"],sel_df[\"VOUT\"],'-')"
   ]
  },
  {
   "cell_type": "code",
   "execution_count": 50,
   "id": "d5cc7fa9",
   "metadata": {},
   "outputs": [],
   "source": [
    "from eapprocessor.tools.resample import resample, decimate"
   ]
  },
  {
   "cell_type": "code",
   "execution_count": 51,
   "id": "dfde736e",
   "metadata": {},
   "outputs": [],
   "source": [
    "fs = 20e3*128\n",
    "x = np.arange(0.00104, 0.00744, 1/fs)\n",
    "y = resample(sel_df[\"time_VOUT\"], sel_df[\"VOUT\"],x,3)"
   ]
  },
  {
   "cell_type": "code",
   "execution_count": 58,
   "id": "1a155ea4",
   "metadata": {},
   "outputs": [],
   "source": [
    "d_time,d_signal= decimate(x, y,16)\n",
    "d_time,d_signal= decimate(d_time, d_signal,8)"
   ]
  },
  {
   "cell_type": "code",
   "execution_count": 59,
   "id": "ba7b086e",
   "metadata": {},
   "outputs": [
    {
     "data": {
      "text/plain": [
       "[<matplotlib.lines.Line2D at 0x7fa40c3cdcf0>]"
      ]
     },
     "execution_count": 59,
     "metadata": {},
     "output_type": "execute_result"
    },
    {
     "data": {
      "image/png": "[encoded data removed]",
      "text/plain": [
       "<Figure size 432x288 with 1 Axes>"
      ]
     },
     "metadata": {
      "needs_background": "light"
     },
     "output_type": "display_data"
    }
   ],
   "source": [
    "plt.plot(x,y,\"-o\")"
   ]
  },
  {
   "cell_type": "code",
   "execution_count": 60,
   "id": "a2922a9e",
   "metadata": {},
   "outputs": [],
   "source": [
    "from eapprocessor.tools.fft import fft"
   ]
  },
  {
   "cell_type": "code",
   "execution_count": 61,
   "id": "f2ebf335",
   "metadata": {},
   "outputs": [],
   "source": [
    "xf, yf = fft(np.array(y), fs)"
   ]
  },
  {
   "cell_type": "code",
   "execution_count": 62,
   "id": "eeeff934",
   "metadata": {},
   "outputs": [],
   "source": [
    "xf, yf = fft(np.array(d_signal), fs)"
   ]
  },
  {
   "cell_type": "code",
   "execution_count": 63,
   "id": "5d9d91ba",
   "metadata": {},
   "outputs": [],
   "source": [
    "def plot_spectrum_db(xf,yf,fs):\n",
    "    fig= plt.figure(figsize=(8,6))\n",
    "    ax = fig.add_subplot(1,1,1)\n",
    "    ax.plot(xf,20*np.log10(np.abs(yf)),\"--.\")\n",
    "    ax.grid()\n",
    "    ax.set_xlabel(\"Frequency (Hz)\")\n",
    "    ax.set_ylabel(\"Power density (dB)\")\n",
    "    ax.set_title(f\"Spectrum at {fs}Hz sampling\")"
   ]
  },
  {
   "cell_type": "code",
   "execution_count": 64,
   "id": "73eddf97",
   "metadata": {
    "scrolled": false
   },
   "outputs": [
    {
     "data": {
      "image/png": "[encoded data removed]",
      "text/plain": [
       "<Figure size 576x432 with 1 Axes>"
      ]
     },
     "metadata": {
      "needs_background": "light"
     },
     "output_type": "display_data"
    }
   ],
   "source": [
    "plot_spectrum_db(xf,yf,fs)"
   ]
  },
  {
   "cell_type": "code",
   "execution_count": 65,
   "id": "25634011",
   "metadata": {},
   "outputs": [],
   "source": [
    "def calculate_snr(yf):\n",
    "    peak_index = np.argmax(yf)\n",
    "    noise = np.delete(yf,[0, peak_index],None)\n",
    "    pw_signal = yf[peak_index]**2\n",
    "    pw_noise = np.sum(np.power(noise, 2))\n",
    "    return 10*np.log10(pw_signal/pw_noise)"
   ]
  },
  {
   "cell_type": "code",
   "execution_count": 66,
   "id": "65a98b69",
   "metadata": {},
   "outputs": [],
   "source": [
    "def calculate_enob(snr):\n",
    "    return (snr -1.76)/6.02"
   ]
  },
  {
   "cell_type": "code",
   "execution_count": 67,
   "id": "a4cfcf9b",
   "metadata": {},
   "outputs": [
    {
     "data": {
      "text/plain": [
       "46.548519266440984"
      ]
     },
     "execution_count": 67,
     "metadata": {},
     "output_type": "execute_result"
    }
   ],
   "source": [
    "calculate_snr(yf)"
   ]
  },
  {
   "cell_type": "code",
   "execution_count": 68,
   "id": "5c3c36c1",
   "metadata": {},
   "outputs": [
    {
     "data": {
      "text/plain": [
       "7.439953366518437"
      ]
     },
     "execution_count": 68,
     "metadata": {},
     "output_type": "execute_result"
    }
   ],
   "source": [
    "calculate_enob(calculate_snr(yf))"
   ]
  },
  {
   "cell_type": "code",
   "execution_count": 40,
   "id": "a5b9c137",
   "metadata": {},
   "outputs": [],
   "source": [
    "import itertools\n",
    "import pandas as pd\n",
    "from pathlib import Path"
   ]
  },
  {
   "cell_type": "code",
   "execution_count": 78,
   "id": "6a551837",
   "metadata": {},
   "outputs": [],
   "source": [
    "#Defining parameters\n",
    "kind_interpolator=[1,3,5]\n",
    "fs=[20e3,40e3,100e3]\n",
    "t_start=[0.00104]\n",
    "t_stop=[0.00744]\n"
   ]
  },
  {
   "cell_type": "code",
   "execution_count": 79,
   "id": "f604a48f",
   "metadata": {},
   "outputs": [
    {
     "data": {
      "text/plain": [
       "[[20000.0, 1, 0.00104, 0.00744],\n",
       " [20000.0, 3, 0.00104, 0.00744],\n",
       " [20000.0, 5, 0.00104, 0.00744],\n",
       " [40000.0, 1, 0.00104, 0.00744],\n",
       " [40000.0, 3, 0.00104, 0.00744],\n",
       " [40000.0, 5, 0.00104, 0.00744],\n",
       " [100000.0, 1, 0.00104, 0.00744],\n",
       " [100000.0, 3, 0.00104, 0.00744],\n",
       " [100000.0, 5, 0.00104, 0.00744]]"
      ]
     },
     "execution_count": 79,
     "metadata": {},
     "output_type": "execute_result"
    }
   ],
   "source": [
    "args = [list(x) for x in itertools.product(fs,kind_interpolator, t_start, t_stop)]\n",
    "args"
   ]
  },
  {
   "cell_type": "code",
   "execution_count": 80,
   "id": "1ea32882",
   "metadata": {},
   "outputs": [],
   "source": [
    "def evaluate_parameters(*args):\n",
    "    x = np.arange(args[2], args[3], 1/args[0])\n",
    "    y = resample(sel_df[\"time_VOUT\"], sel_df[\"VOUT\"],x,args[1])\n",
    "    xf, yf = fft(np.array(y), args[0])\n",
    "    snr = calculate_snr(yf)\n",
    "    enob = calculate_enob(snr)\n",
    "    return {\n",
    "        \"time\": x,\n",
    "        \"interpolated\":y,\n",
    "        \"xf\":xf,\n",
    "        \"yf\":yf,\n",
    "        \"snr\": snr,\n",
    "        \"enob\": enob\n",
    "    }"
   ]
  },
  {
   "cell_type": "code",
   "execution_count": 81,
   "id": "11c298b9",
   "metadata": {},
   "outputs": [],
   "source": [
    "rows = [ x + [evaluate_parameters(*x)] for x in args]"
   ]
  },
  {
   "cell_type": "code",
   "execution_count": 82,
   "id": "bf4c9ab2",
   "metadata": {},
   "outputs": [
    {
     "data": {
      "text/html": [
       "<div>\n",
       "<style scoped>\n",
       "    .dataframe tbody tr th:only-of-type {\n",
       "        vertical-align: middle;\n",
       "    }\n",
       "\n",
       "    .dataframe tbody tr th {\n",
       "        vertical-align: top;\n",
       "    }\n",
       "\n",
       "    .dataframe thead th {\n",
       "        text-align: right;\n",
       "    }\n",
       "</style>\n",
       "<table border=\"1\" class=\"dataframe\">\n",
       "  <thead>\n",
       "    <tr style=\"text-align: right;\">\n",
       "      <th></th>\n",
       "      <th>fs</th>\n",
       "      <th>order_interpolator</th>\n",
       "      <th>t_start</th>\n",
       "      <th>t_stop</th>\n",
       "      <th>result</th>\n",
       "    </tr>\n",
       "  </thead>\n",
       "  <tbody>\n",
       "    <tr>\n",
       "      <th>0</th>\n",
       "      <td>20000.0</td>\n",
       "      <td>1</td>\n",
       "      <td>0.00104</td>\n",
       "      <td>0.00744</td>\n",
       "      <td>{'time': [0.00104, 0.0010899999999999998, 0.00...</td>\n",
       "    </tr>\n",
       "    <tr>\n",
       "      <th>1</th>\n",
       "      <td>20000.0</td>\n",
       "      <td>3</td>\n",
       "      <td>0.00104</td>\n",
       "      <td>0.00744</td>\n",
       "      <td>{'time': [0.00104, 0.0010899999999999998, 0.00...</td>\n",
       "    </tr>\n",
       "    <tr>\n",
       "      <th>2</th>\n",
       "      <td>20000.0</td>\n",
       "      <td>5</td>\n",
       "      <td>0.00104</td>\n",
       "      <td>0.00744</td>\n",
       "      <td>{'time': [0.00104, 0.0010899999999999998, 0.00...</td>\n",
       "    </tr>\n",
       "    <tr>\n",
       "      <th>3</th>\n",
       "      <td>40000.0</td>\n",
       "      <td>1</td>\n",
       "      <td>0.00104</td>\n",
       "      <td>0.00744</td>\n",
       "      <td>{'time': [0.00104, 0.001065, 0.00109, 0.001115...</td>\n",
       "    </tr>\n",
       "    <tr>\n",
       "      <th>4</th>\n",
       "      <td>40000.0</td>\n",
       "      <td>3</td>\n",
       "      <td>0.00104</td>\n",
       "      <td>0.00744</td>\n",
       "      <td>{'time': [0.00104, 0.001065, 0.00109, 0.001115...</td>\n",
       "    </tr>\n",
       "    <tr>\n",
       "      <th>5</th>\n",
       "      <td>40000.0</td>\n",
       "      <td>5</td>\n",
       "      <td>0.00104</td>\n",
       "      <td>0.00744</td>\n",
       "      <td>{'time': [0.00104, 0.001065, 0.00109, 0.001115...</td>\n",
       "    </tr>\n",
       "    <tr>\n",
       "      <th>6</th>\n",
       "      <td>100000.0</td>\n",
       "      <td>1</td>\n",
       "      <td>0.00104</td>\n",
       "      <td>0.00744</td>\n",
       "      <td>{'time': [0.00104, 0.00105, 0.00106, 0.00107, ...</td>\n",
       "    </tr>\n",
       "    <tr>\n",
       "      <th>7</th>\n",
       "      <td>100000.0</td>\n",
       "      <td>3</td>\n",
       "      <td>0.00104</td>\n",
       "      <td>0.00744</td>\n",
       "      <td>{'time': [0.00104, 0.00105, 0.00106, 0.00107, ...</td>\n",
       "    </tr>\n",
       "    <tr>\n",
       "      <th>8</th>\n",
       "      <td>100000.0</td>\n",
       "      <td>5</td>\n",
       "      <td>0.00104</td>\n",
       "      <td>0.00744</td>\n",
       "      <td>{'time': [0.00104, 0.00105, 0.00106, 0.00107, ...</td>\n",
       "    </tr>\n",
       "  </tbody>\n",
       "</table>\n",
       "</div>"
      ],
      "text/plain": [
       "         fs  order_interpolator  t_start   t_stop  \\\n",
       "0   20000.0                   1  0.00104  0.00744   \n",
       "1   20000.0                   3  0.00104  0.00744   \n",
       "2   20000.0                   5  0.00104  0.00744   \n",
       "3   40000.0                   1  0.00104  0.00744   \n",
       "4   40000.0                   3  0.00104  0.00744   \n",
       "5   40000.0                   5  0.00104  0.00744   \n",
       "6  100000.0                   1  0.00104  0.00744   \n",
       "7  100000.0                   3  0.00104  0.00744   \n",
       "8  100000.0                   5  0.00104  0.00744   \n",
       "\n",
       "                                              result  \n",
       "0  {'time': [0.00104, 0.0010899999999999998, 0.00...  \n",
       "1  {'time': [0.00104, 0.0010899999999999998, 0.00...  \n",
       "2  {'time': [0.00104, 0.0010899999999999998, 0.00...  \n",
       "3  {'time': [0.00104, 0.001065, 0.00109, 0.001115...  \n",
       "4  {'time': [0.00104, 0.001065, 0.00109, 0.001115...  \n",
       "5  {'time': [0.00104, 0.001065, 0.00109, 0.001115...  \n",
       "6  {'time': [0.00104, 0.00105, 0.00106, 0.00107, ...  \n",
       "7  {'time': [0.00104, 0.00105, 0.00106, 0.00107, ...  \n",
       "8  {'time': [0.00104, 0.00105, 0.00106, 0.00107, ...  "
      ]
     },
     "execution_count": 82,
     "metadata": {},
     "output_type": "execute_result"
    }
   ],
   "source": [
    "df = pd.DataFrame(rows, columns=['fs', 'order_interpolator', 't_start', 't_stop','result'])\n",
    "df"
   ]
  },
  {
   "cell_type": "code",
   "execution_count": 83,
   "id": "bd653227",
   "metadata": {},
   "outputs": [
    {
     "data": {
      "text/html": [
       "<div>\n",
       "<style scoped>\n",
       "    .dataframe tbody tr th:only-of-type {\n",
       "        vertical-align: middle;\n",
       "    }\n",
       "\n",
       "    .dataframe tbody tr th {\n",
       "        vertical-align: top;\n",
       "    }\n",
       "\n",
       "    .dataframe thead th {\n",
       "        text-align: right;\n",
       "    }\n",
       "</style>\n",
       "<table border=\"1\" class=\"dataframe\">\n",
       "  <thead>\n",
       "    <tr style=\"text-align: right;\">\n",
       "      <th></th>\n",
       "      <th>fs</th>\n",
       "      <th>order_interpolator</th>\n",
       "      <th>t_start</th>\n",
       "      <th>t_stop</th>\n",
       "      <th>time</th>\n",
       "      <th>interpolated</th>\n",
       "      <th>xf</th>\n",
       "      <th>yf</th>\n",
       "      <th>snr</th>\n",
       "      <th>enob</th>\n",
       "    </tr>\n",
       "  </thead>\n",
       "  <tbody>\n",
       "    <tr>\n",
       "      <th>0</th>\n",
       "      <td>20000.0</td>\n",
       "      <td>1</td>\n",
       "      <td>0.00104</td>\n",
       "      <td>0.00744</td>\n",
       "      <td>[0.00104, 0.0010899999999999998, 0.00113999999...</td>\n",
       "      <td>[0.3390920409723496, 0.43986394272415585, 0.49...</td>\n",
       "      <td>[0.0, 156.25, 312.5, 468.75, 625.0, 781.25, 93...</td>\n",
       "      <td>[0.06268988904926495, 0.0011588850318710387, 0...</td>\n",
       "      <td>47.237217</td>\n",
       "      <td>7.554355</td>\n",
       "    </tr>\n",
       "    <tr>\n",
       "      <th>1</th>\n",
       "      <td>20000.0</td>\n",
       "      <td>3</td>\n",
       "      <td>0.00104</td>\n",
       "      <td>0.00744</td>\n",
       "      <td>[0.00104, 0.0010899999999999998, 0.00113999999...</td>\n",
       "      <td>[0.3391210107384248, 0.4398728893574509, 0.493...</td>\n",
       "      <td>[0.0, 156.25, 312.5, 468.75, 625.0, 781.25, 93...</td>\n",
       "      <td>[0.06269743463148894, 0.0011349046448480948, 0...</td>\n",
       "      <td>47.254551</td>\n",
       "      <td>7.557234</td>\n",
       "    </tr>\n",
       "    <tr>\n",
       "      <th>2</th>\n",
       "      <td>20000.0</td>\n",
       "      <td>5</td>\n",
       "      <td>0.00104</td>\n",
       "      <td>0.00744</td>\n",
       "      <td>[0.00104, 0.0010899999999999998, 0.00113999999...</td>\n",
       "      <td>[0.3391336172683852, 0.4398756877339224, 0.493...</td>\n",
       "      <td>[0.0, 156.25, 312.5, 468.75, 625.0, 781.25, 93...</td>\n",
       "      <td>[0.06270452406164224, 0.0011343745506633323, 0...</td>\n",
       "      <td>47.254237</td>\n",
       "      <td>7.557182</td>\n",
       "    </tr>\n",
       "    <tr>\n",
       "      <th>3</th>\n",
       "      <td>40000.0</td>\n",
       "      <td>1</td>\n",
       "      <td>0.00104</td>\n",
       "      <td>0.00744</td>\n",
       "      <td>[0.00104, 0.001065, 0.00109, 0.001115, 0.00114...</td>\n",
       "      <td>[0.3390920409723496, 0.39466160185233756, 0.43...</td>\n",
       "      <td>[0.0, 156.25, 312.5, 468.75, 625.0, 781.25, 93...</td>\n",
       "      <td>[0.06266896955962391, 0.0011391381122582093, 0...</td>\n",
       "      <td>47.177163</td>\n",
       "      <td>7.544379</td>\n",
       "    </tr>\n",
       "    <tr>\n",
       "      <th>4</th>\n",
       "      <td>40000.0</td>\n",
       "      <td>3</td>\n",
       "      <td>0.00104</td>\n",
       "      <td>0.00744</td>\n",
       "      <td>[0.00104, 0.001065, 0.00109, 0.001115, 0.00114...</td>\n",
       "      <td>[0.3391210107384248, 0.3946473023314257, 0.439...</td>\n",
       "      <td>[0.0, 156.25, 312.5, 468.75, 625.0, 781.25, 93...</td>\n",
       "      <td>[0.06269564806236098, 0.0011334796425450802, 0...</td>\n",
       "      <td>47.262942</td>\n",
       "      <td>7.558628</td>\n",
       "    </tr>\n",
       "    <tr>\n",
       "      <th>5</th>\n",
       "      <td>40000.0</td>\n",
       "      <td>5</td>\n",
       "      <td>0.00104</td>\n",
       "      <td>0.00744</td>\n",
       "      <td>[0.00104, 0.001065, 0.00109, 0.001115, 0.00114...</td>\n",
       "      <td>[0.3391336172683852, 0.3946430668536895, 0.439...</td>\n",
       "      <td>[0.0, 156.25, 312.5, 468.75, 625.0, 781.25, 93...</td>\n",
       "      <td>[0.06269354688962137, 0.0011286253777035985, 0...</td>\n",
       "      <td>47.248539</td>\n",
       "      <td>7.556236</td>\n",
       "    </tr>\n",
       "    <tr>\n",
       "      <th>6</th>\n",
       "      <td>100000.0</td>\n",
       "      <td>1</td>\n",
       "      <td>0.00104</td>\n",
       "      <td>0.00744</td>\n",
       "      <td>[0.00104, 0.00105, 0.00106, 0.00107, 0.00108, ...</td>\n",
       "      <td>[0.3390920409723496, 0.3625233058648774, 0.384...</td>\n",
       "      <td>[0.0, 156.25, 312.5, 468.75, 625.0, 781.25, 93...</td>\n",
       "      <td>[0.06267343524954515, 0.0011488027328614935, 0...</td>\n",
       "      <td>47.171922</td>\n",
       "      <td>7.543509</td>\n",
       "    </tr>\n",
       "    <tr>\n",
       "      <th>7</th>\n",
       "      <td>100000.0</td>\n",
       "      <td>3</td>\n",
       "      <td>0.00104</td>\n",
       "      <td>0.00744</td>\n",
       "      <td>[0.00104, 0.00105, 0.00106, 0.00107, 0.00108, ...</td>\n",
       "      <td>[0.3391210107384248, 0.3625173507488819, 0.384...</td>\n",
       "      <td>[0.0, 156.25, 312.5, 468.75, 625.0, 781.25, 93...</td>\n",
       "      <td>[0.06270776027746652, 0.001147169216357758, 0....</td>\n",
       "      <td>47.265298</td>\n",
       "      <td>7.559020</td>\n",
       "    </tr>\n",
       "    <tr>\n",
       "      <th>8</th>\n",
       "      <td>100000.0</td>\n",
       "      <td>5</td>\n",
       "      <td>0.00104</td>\n",
       "      <td>0.00744</td>\n",
       "      <td>[0.00104, 0.00105, 0.00106, 0.00107, 0.00108, ...</td>\n",
       "      <td>[0.3391336172683852, 0.36251414052893566, 0.38...</td>\n",
       "      <td>[0.0, 156.25, 312.5, 468.75, 625.0, 781.25, 93...</td>\n",
       "      <td>[0.06270685677672867, 0.001142558104167442, 0....</td>\n",
       "      <td>47.233115</td>\n",
       "      <td>7.553674</td>\n",
       "    </tr>\n",
       "  </tbody>\n",
       "</table>\n",
       "</div>"
      ],
      "text/plain": [
       "         fs  order_interpolator  t_start   t_stop  \\\n",
       "0   20000.0                   1  0.00104  0.00744   \n",
       "1   20000.0                   3  0.00104  0.00744   \n",
       "2   20000.0                   5  0.00104  0.00744   \n",
       "3   40000.0                   1  0.00104  0.00744   \n",
       "4   40000.0                   3  0.00104  0.00744   \n",
       "5   40000.0                   5  0.00104  0.00744   \n",
       "6  100000.0                   1  0.00104  0.00744   \n",
       "7  100000.0                   3  0.00104  0.00744   \n",
       "8  100000.0                   5  0.00104  0.00744   \n",
       "\n",
       "                                                time  \\\n",
       "0  [0.00104, 0.0010899999999999998, 0.00113999999...   \n",
       "1  [0.00104, 0.0010899999999999998, 0.00113999999...   \n",
       "2  [0.00104, 0.0010899999999999998, 0.00113999999...   \n",
       "3  [0.00104, 0.001065, 0.00109, 0.001115, 0.00114...   \n",
       "4  [0.00104, 0.001065, 0.00109, 0.001115, 0.00114...   \n",
       "5  [0.00104, 0.001065, 0.00109, 0.001115, 0.00114...   \n",
       "6  [0.00104, 0.00105, 0.00106, 0.00107, 0.00108, ...   \n",
       "7  [0.00104, 0.00105, 0.00106, 0.00107, 0.00108, ...   \n",
       "8  [0.00104, 0.00105, 0.00106, 0.00107, 0.00108, ...   \n",
       "\n",
       "                                        interpolated  \\\n",
       "0  [0.3390920409723496, 0.43986394272415585, 0.49...   \n",
       "1  [0.3391210107384248, 0.4398728893574509, 0.493...   \n",
       "2  [0.3391336172683852, 0.4398756877339224, 0.493...   \n",
       "3  [0.3390920409723496, 0.39466160185233756, 0.43...   \n",
       "4  [0.3391210107384248, 0.3946473023314257, 0.439...   \n",
       "5  [0.3391336172683852, 0.3946430668536895, 0.439...   \n",
       "6  [0.3390920409723496, 0.3625233058648774, 0.384...   \n",
       "7  [0.3391210107384248, 0.3625173507488819, 0.384...   \n",
       "8  [0.3391336172683852, 0.36251414052893566, 0.38...   \n",
       "\n",
       "                                                  xf  \\\n",
       "0  [0.0, 156.25, 312.5, 468.75, 625.0, 781.25, 93...   \n",
       "1  [0.0, 156.25, 312.5, 468.75, 625.0, 781.25, 93...   \n",
       "2  [0.0, 156.25, 312.5, 468.75, 625.0, 781.25, 93...   \n",
       "3  [0.0, 156.25, 312.5, 468.75, 625.0, 781.25, 93...   \n",
       "4  [0.0, 156.25, 312.5, 468.75, 625.0, 781.25, 93...   \n",
       "5  [0.0, 156.25, 312.5, 468.75, 625.0, 781.25, 93...   \n",
       "6  [0.0, 156.25, 312.5, 468.75, 625.0, 781.25, 93...   \n",
       "7  [0.0, 156.25, 312.5, 468.75, 625.0, 781.25, 93...   \n",
       "8  [0.0, 156.25, 312.5, 468.75, 625.0, 781.25, 93...   \n",
       "\n",
       "                                                  yf        snr      enob  \n",
       "0  [0.06268988904926495, 0.0011588850318710387, 0...  47.237217  7.554355  \n",
       "1  [0.06269743463148894, 0.0011349046448480948, 0...  47.254551  7.557234  \n",
       "2  [0.06270452406164224, 0.0011343745506633323, 0...  47.254237  7.557182  \n",
       "3  [0.06266896955962391, 0.0011391381122582093, 0...  47.177163  7.544379  \n",
       "4  [0.06269564806236098, 0.0011334796425450802, 0...  47.262942  7.558628  \n",
       "5  [0.06269354688962137, 0.0011286253777035985, 0...  47.248539  7.556236  \n",
       "6  [0.06267343524954515, 0.0011488027328614935, 0...  47.171922  7.543509  \n",
       "7  [0.06270776027746652, 0.001147169216357758, 0....  47.265298  7.559020  \n",
       "8  [0.06270685677672867, 0.001142558104167442, 0....  47.233115  7.553674  "
      ]
     },
     "execution_count": 83,
     "metadata": {},
     "output_type": "execute_result"
    }
   ],
   "source": [
    "ndf = pd.DataFrame(df[\"result\"].to_list(), index=df.index)\n",
    "df[ndf.columns] = ndf\n",
    "df.drop(columns=[\"result\"], inplace=True)\n",
    "df"
   ]
  },
  {
   "cell_type": "code",
   "execution_count": 84,
   "id": "b85590d4",
   "metadata": {},
   "outputs": [
    {
     "data": {
      "text/html": [
       "<div>\n",
       "<style scoped>\n",
       "    .dataframe tbody tr th:only-of-type {\n",
       "        vertical-align: middle;\n",
       "    }\n",
       "\n",
       "    .dataframe tbody tr th {\n",
       "        vertical-align: top;\n",
       "    }\n",
       "\n",
       "    .dataframe thead th {\n",
       "        text-align: right;\n",
       "    }\n",
       "</style>\n",
       "<table border=\"1\" class=\"dataframe\">\n",
       "  <thead>\n",
       "    <tr style=\"text-align: right;\">\n",
       "      <th></th>\n",
       "      <th>fs</th>\n",
       "      <th>order_interpolator</th>\n",
       "      <th>t_start</th>\n",
       "      <th>t_stop</th>\n",
       "      <th>snr</th>\n",
       "      <th>enob</th>\n",
       "    </tr>\n",
       "  </thead>\n",
       "  <tbody>\n",
       "    <tr>\n",
       "      <th>0</th>\n",
       "      <td>20000.0</td>\n",
       "      <td>1</td>\n",
       "      <td>0.00104</td>\n",
       "      <td>0.00744</td>\n",
       "      <td>47.237217</td>\n",
       "      <td>7.554355</td>\n",
       "    </tr>\n",
       "    <tr>\n",
       "      <th>1</th>\n",
       "      <td>20000.0</td>\n",
       "      <td>3</td>\n",
       "      <td>0.00104</td>\n",
       "      <td>0.00744</td>\n",
       "      <td>47.254551</td>\n",
       "      <td>7.557234</td>\n",
       "    </tr>\n",
       "    <tr>\n",
       "      <th>2</th>\n",
       "      <td>20000.0</td>\n",
       "      <td>5</td>\n",
       "      <td>0.00104</td>\n",
       "      <td>0.00744</td>\n",
       "      <td>47.254237</td>\n",
       "      <td>7.557182</td>\n",
       "    </tr>\n",
       "    <tr>\n",
       "      <th>3</th>\n",
       "      <td>40000.0</td>\n",
       "      <td>1</td>\n",
       "      <td>0.00104</td>\n",
       "      <td>0.00744</td>\n",
       "      <td>47.177163</td>\n",
       "      <td>7.544379</td>\n",
       "    </tr>\n",
       "    <tr>\n",
       "      <th>4</th>\n",
       "      <td>40000.0</td>\n",
       "      <td>3</td>\n",
       "      <td>0.00104</td>\n",
       "      <td>0.00744</td>\n",
       "      <td>47.262942</td>\n",
       "      <td>7.558628</td>\n",
       "    </tr>\n",
       "    <tr>\n",
       "      <th>5</th>\n",
       "      <td>40000.0</td>\n",
       "      <td>5</td>\n",
       "      <td>0.00104</td>\n",
       "      <td>0.00744</td>\n",
       "      <td>47.248539</td>\n",
       "      <td>7.556236</td>\n",
       "    </tr>\n",
       "    <tr>\n",
       "      <th>6</th>\n",
       "      <td>100000.0</td>\n",
       "      <td>1</td>\n",
       "      <td>0.00104</td>\n",
       "      <td>0.00744</td>\n",
       "      <td>47.171922</td>\n",
       "      <td>7.543509</td>\n",
       "    </tr>\n",
       "    <tr>\n",
       "      <th>7</th>\n",
       "      <td>100000.0</td>\n",
       "      <td>3</td>\n",
       "      <td>0.00104</td>\n",
       "      <td>0.00744</td>\n",
       "      <td>47.265298</td>\n",
       "      <td>7.559020</td>\n",
       "    </tr>\n",
       "    <tr>\n",
       "      <th>8</th>\n",
       "      <td>100000.0</td>\n",
       "      <td>5</td>\n",
       "      <td>0.00104</td>\n",
       "      <td>0.00744</td>\n",
       "      <td>47.233115</td>\n",
       "      <td>7.553674</td>\n",
       "    </tr>\n",
       "  </tbody>\n",
       "</table>\n",
       "</div>"
      ],
      "text/plain": [
       "         fs  order_interpolator  t_start   t_stop        snr      enob\n",
       "0   20000.0                   1  0.00104  0.00744  47.237217  7.554355\n",
       "1   20000.0                   3  0.00104  0.00744  47.254551  7.557234\n",
       "2   20000.0                   5  0.00104  0.00744  47.254237  7.557182\n",
       "3   40000.0                   1  0.00104  0.00744  47.177163  7.544379\n",
       "4   40000.0                   3  0.00104  0.00744  47.262942  7.558628\n",
       "5   40000.0                   5  0.00104  0.00744  47.248539  7.556236\n",
       "6  100000.0                   1  0.00104  0.00744  47.171922  7.543509\n",
       "7  100000.0                   3  0.00104  0.00744  47.265298  7.559020\n",
       "8  100000.0                   5  0.00104  0.00744  47.233115  7.553674"
      ]
     },
     "execution_count": 84,
     "metadata": {},
     "output_type": "execute_result"
    }
   ],
   "source": [
    "df.drop(columns=[\"xf\",\"yf\", \"interpolated\", \"time\"])"
   ]
  },
  {
   "cell_type": "code",
   "execution_count": 85,
   "id": "02d09891",
   "metadata": {},
   "outputs": [
    {
     "data": {
      "text/plain": [
       "7.558294092784688"
      ]
     },
     "execution_count": 85,
     "metadata": {},
     "output_type": "execute_result"
    }
   ],
   "source": [
    "enob = df.loc[df[\"order_interpolator\"]==3, \"enob\"].mean()\n",
    "enob"
   ]
  },
  {
   "cell_type": "code",
   "execution_count": 86,
   "id": "ea833ffb",
   "metadata": {},
   "outputs": [
    {
     "data": {
      "text/plain": [
       "4.377041966305227e-13"
      ]
     },
     "execution_count": 86,
     "metadata": {},
     "output_type": "execute_result"
    }
   ],
   "source": [
    "power = 3.30e-6\n",
    "fom = power/(40e3*(2**enob))\n",
    "fom"
   ]
  },
  {
   "cell_type": "markdown",
   "id": "a3179bbc",
   "metadata": {},
   "source": [
    "## Evaluation for multiple results"
   ]
  },
  {
   "cell_type": "code",
   "execution_count": 1,
   "id": "e98ceb62",
   "metadata": {
    "scrolled": true
   },
   "outputs": [
    {
     "name": "stdout",
     "output_type": "stream",
     "text": [
      "output_lcadc_comp_differential_level_shifter.vcsv\r\n",
      "output_lcadc_comp_differential_mirror.vcsv\r\n",
      "output_lcadc_comp_hysteresis_mixed.vcsv\r\n",
      "output_lcadc_comp_hysteresis.vcsv\r\n",
      "output_lcadc_comp_single_stage_noise_v2.vcsv\r\n",
      "output_lcadc_comp_single_stage_noise_v3.vcsv\r\n",
      "output_lcadc_comp_single_stage_noise_v4.vcsv\r\n",
      "output_lcadc_comp_single_stage_noise.vcsv\r\n",
      "output_lcadc_comp_single_stage.vcsv\r\n",
      "output_lcadc_v2.vcsv\r\n",
      "output_lcadc.vcsv\r\n",
      "output_sar.vcsv\r\n",
      "simulation_dac_cm_differential_var_0.grf\r\n",
      "simulation_dac_cm_differential_var_1.grf\r\n",
      "simulation_dac_cm_differential_var.grf.group\r\n",
      "simulation_sar_cm_1f_0.grf\r\n",
      "simulation_sar_cm_1f_1.grf\r\n",
      "simulation_sar_cm_1f.grf.group\r\n",
      "simulation_sar_cm_20f_1_1_0.grf\r\n",
      "simulation_sar_cm_20f_1_1_1.grf\r\n",
      "simulation_sar_cm_20f_1_1.grf.group\r\n"
     ]
    }
   ],
   "source": [
    "!ls /mnt/Archivos/Nextcloud/MaestriaPUCP/Thesis/development/project/results"
   ]
  },
  {
   "cell_type": "code",
   "execution_count": 2,
   "id": "8c152c57",
   "metadata": {},
   "outputs": [],
   "source": [
    "BASE_FOLDER=\"/mnt/Archivos/Nextcloud/MaestriaPUCP/Thesis/development/project/results\""
   ]
  },
  {
   "cell_type": "code",
   "execution_count": 47,
   "id": "ce4079a3",
   "metadata": {},
   "outputs": [],
   "source": [
    "files = [\n",
    "    \"output_lcadc_v2.vcsv\",\n",
    "    \"output_lcadc_comp_single_stage_noise_v3.vcsv\",\n",
    "    \"output_lcadc_comp_differential_level_shifter.vcsv\",\n",
    "    \"output_lcadc_comp_hysteresis.vcsv\",\n",
    "    \"output_lcadc_comp_hysteresis_mixed.vcsv\"\n",
    "]\n",
    "comp1=[\n",
    "    \"Three stage\",\n",
    "    \"A-class amplifier\",\n",
    "    \"Level shifter\",\n",
    "    \"Hysteresis\",\n",
    "    \"A-class amplifier\"\n",
    "]\n",
    "comp2=[\n",
    "    \"Three stage\",\n",
    "    \"A-class amplifier\",\n",
    "    \"Level shifter\",\n",
    "    \"Hysteresis\",\n",
    "    \"Hysteresis\"\n",
    "]\n",
    "map_files_to_comp1 = dict(zip(files,comp1))\n",
    "map_files_to_comp2 = dict(zip(files,comp2))"
   ]
  },
  {
   "cell_type": "code",
   "execution_count": 25,
   "id": "c15f0be7",
   "metadata": {},
   "outputs": [],
   "source": [
    "import itertools\n",
    "import pandas as pd\n",
    "from pathlib import Path\n",
    "import numpy as np"
   ]
  },
  {
   "cell_type": "code",
   "execution_count": 26,
   "id": "819d36f5",
   "metadata": {},
   "outputs": [],
   "source": [
    "files = [ Path(BASE_FOLDER) / file for file in files]"
   ]
  },
  {
   "cell_type": "code",
   "execution_count": 32,
   "id": "0ddfe691",
   "metadata": {},
   "outputs": [],
   "source": [
    "from eapprocessor.cadence.parse import parse_lcadc\n",
    "from eapprocessor.tools.fft import fft\n",
    "from eapprocessor.tools.resample import resample\n",
    "from eapprocessor.tools.metrics import calculate_enob, calculate_snr"
   ]
  },
  {
   "cell_type": "code",
   "execution_count": 33,
   "id": "f1e9e3b8",
   "metadata": {},
   "outputs": [],
   "source": [
    "#Defining parameters\n",
    "kind_interpolator=[1,3]\n",
    "fs=[20e3,40e3,100e3]\n",
    "t_start=[0.00104]\n",
    "t_stop=[0.00744]"
   ]
  },
  {
   "cell_type": "code",
   "execution_count": 34,
   "id": "d032c112",
   "metadata": {},
   "outputs": [],
   "source": [
    "def evaluate_parameters(*args):\n",
    "    x = np.arange(args[3], args[4], 1/args[1])\n",
    "    time, voltage = parse_lcadc(args[0])\n",
    "    y = resample(time, voltage,x,args[2])\n",
    "    xf, yf = fft(np.array(y), args[1])\n",
    "    snr = calculate_snr(yf)\n",
    "    enob = calculate_enob(snr)\n",
    "    return {\n",
    "        \"time\": x,\n",
    "        \"interpolated\":y,\n",
    "        \"xf\":xf,\n",
    "        \"yf\":yf,\n",
    "        \"snr\": snr,\n",
    "        \"enob\": enob\n",
    "    }"
   ]
  },
  {
   "cell_type": "code",
   "execution_count": 35,
   "id": "b3bfb02b",
   "metadata": {},
   "outputs": [],
   "source": [
    "args = [list(x) for x in itertools.product(files,fs,kind_interpolator, t_start, t_stop)]"
   ]
  },
  {
   "cell_type": "code",
   "execution_count": 36,
   "id": "5e327ca5",
   "metadata": {},
   "outputs": [],
   "source": [
    "rows = [ x + [evaluate_parameters(*x)] for x in args]"
   ]
  },
  {
   "cell_type": "code",
   "execution_count": 41,
   "id": "973fc23b",
   "metadata": {},
   "outputs": [],
   "source": [
    "df = pd.DataFrame(rows, columns=['filename','fs', 'order_interpolator', 't_start', 't_stop','result'])"
   ]
  },
  {
   "cell_type": "code",
   "execution_count": 42,
   "id": "62f27993",
   "metadata": {},
   "outputs": [],
   "source": [
    "ndf = pd.DataFrame(df[\"result\"].to_list(), index=df.index)\n",
    "df[ndf.columns] = ndf\n",
    "df.drop(columns=[\"result\"], inplace=True)"
   ]
  },
  {
   "cell_type": "code",
   "execution_count": 52,
   "id": "9d45a0ec",
   "metadata": {},
   "outputs": [],
   "source": [
    "df[\"file\"]=df[\"filename\"].apply(lambda x: Path(x).name)\n",
    "df[\"Comp1\"]=df[\"file\"].map(map_files_to_comp1)\n",
    "df[\"Comp2\"]=df[\"file\"].map(map_files_to_comp2)"
   ]
  },
  {
   "cell_type": "code",
   "execution_count": 58,
   "id": "b55a2649",
   "metadata": {},
   "outputs": [
    {
     "data": {
      "text/html": [
       "<div>\n",
       "<style scoped>\n",
       "    .dataframe tbody tr th:only-of-type {\n",
       "        vertical-align: middle;\n",
       "    }\n",
       "\n",
       "    .dataframe tbody tr th {\n",
       "        vertical-align: top;\n",
       "    }\n",
       "\n",
       "    .dataframe thead th {\n",
       "        text-align: right;\n",
       "    }\n",
       "</style>\n",
       "<table border=\"1\" class=\"dataframe\">\n",
       "  <thead>\n",
       "    <tr style=\"text-align: right;\">\n",
       "      <th></th>\n",
       "      <th>Comp1</th>\n",
       "      <th>Comp2</th>\n",
       "      <th>fs</th>\n",
       "      <th>order_interpolator</th>\n",
       "      <th>t_start</th>\n",
       "      <th>t_stop</th>\n",
       "      <th>snr</th>\n",
       "      <th>enob</th>\n",
       "    </tr>\n",
       "  </thead>\n",
       "  <tbody>\n",
       "    <tr>\n",
       "      <th>0</th>\n",
       "      <td>Three stage</td>\n",
       "      <td>Three stage</td>\n",
       "      <td>20000.0</td>\n",
       "      <td>1</td>\n",
       "      <td>0.00104</td>\n",
       "      <td>0.00744</td>\n",
       "      <td>46.520169</td>\n",
       "      <td>7.435244</td>\n",
       "    </tr>\n",
       "    <tr>\n",
       "      <th>1</th>\n",
       "      <td>Three stage</td>\n",
       "      <td>Three stage</td>\n",
       "      <td>20000.0</td>\n",
       "      <td>3</td>\n",
       "      <td>0.00104</td>\n",
       "      <td>0.00744</td>\n",
       "      <td>46.468178</td>\n",
       "      <td>7.426608</td>\n",
       "    </tr>\n",
       "    <tr>\n",
       "      <th>2</th>\n",
       "      <td>Three stage</td>\n",
       "      <td>Three stage</td>\n",
       "      <td>40000.0</td>\n",
       "      <td>1</td>\n",
       "      <td>0.00104</td>\n",
       "      <td>0.00744</td>\n",
       "      <td>46.544109</td>\n",
       "      <td>7.439221</td>\n",
       "    </tr>\n",
       "    <tr>\n",
       "      <th>3</th>\n",
       "      <td>Three stage</td>\n",
       "      <td>Three stage</td>\n",
       "      <td>40000.0</td>\n",
       "      <td>3</td>\n",
       "      <td>0.00104</td>\n",
       "      <td>0.00744</td>\n",
       "      <td>46.492331</td>\n",
       "      <td>7.430620</td>\n",
       "    </tr>\n",
       "    <tr>\n",
       "      <th>4</th>\n",
       "      <td>Three stage</td>\n",
       "      <td>Three stage</td>\n",
       "      <td>100000.0</td>\n",
       "      <td>1</td>\n",
       "      <td>0.00104</td>\n",
       "      <td>0.00744</td>\n",
       "      <td>46.527168</td>\n",
       "      <td>7.436407</td>\n",
       "    </tr>\n",
       "    <tr>\n",
       "      <th>5</th>\n",
       "      <td>Three stage</td>\n",
       "      <td>Three stage</td>\n",
       "      <td>100000.0</td>\n",
       "      <td>3</td>\n",
       "      <td>0.00104</td>\n",
       "      <td>0.00744</td>\n",
       "      <td>46.476187</td>\n",
       "      <td>7.427938</td>\n",
       "    </tr>\n",
       "    <tr>\n",
       "      <th>6</th>\n",
       "      <td>A-class amplifier</td>\n",
       "      <td>A-class amplifier</td>\n",
       "      <td>20000.0</td>\n",
       "      <td>1</td>\n",
       "      <td>0.00104</td>\n",
       "      <td>0.00744</td>\n",
       "      <td>47.237217</td>\n",
       "      <td>7.554355</td>\n",
       "    </tr>\n",
       "    <tr>\n",
       "      <th>7</th>\n",
       "      <td>A-class amplifier</td>\n",
       "      <td>A-class amplifier</td>\n",
       "      <td>20000.0</td>\n",
       "      <td>3</td>\n",
       "      <td>0.00104</td>\n",
       "      <td>0.00744</td>\n",
       "      <td>47.254551</td>\n",
       "      <td>7.557234</td>\n",
       "    </tr>\n",
       "    <tr>\n",
       "      <th>8</th>\n",
       "      <td>A-class amplifier</td>\n",
       "      <td>A-class amplifier</td>\n",
       "      <td>40000.0</td>\n",
       "      <td>1</td>\n",
       "      <td>0.00104</td>\n",
       "      <td>0.00744</td>\n",
       "      <td>47.177163</td>\n",
       "      <td>7.544379</td>\n",
       "    </tr>\n",
       "    <tr>\n",
       "      <th>9</th>\n",
       "      <td>A-class amplifier</td>\n",
       "      <td>A-class amplifier</td>\n",
       "      <td>40000.0</td>\n",
       "      <td>3</td>\n",
       "      <td>0.00104</td>\n",
       "      <td>0.00744</td>\n",
       "      <td>47.262942</td>\n",
       "      <td>7.558628</td>\n",
       "    </tr>\n",
       "    <tr>\n",
       "      <th>10</th>\n",
       "      <td>A-class amplifier</td>\n",
       "      <td>A-class amplifier</td>\n",
       "      <td>100000.0</td>\n",
       "      <td>1</td>\n",
       "      <td>0.00104</td>\n",
       "      <td>0.00744</td>\n",
       "      <td>47.171922</td>\n",
       "      <td>7.543509</td>\n",
       "    </tr>\n",
       "    <tr>\n",
       "      <th>11</th>\n",
       "      <td>A-class amplifier</td>\n",
       "      <td>A-class amplifier</td>\n",
       "      <td>100000.0</td>\n",
       "      <td>3</td>\n",
       "      <td>0.00104</td>\n",
       "      <td>0.00744</td>\n",
       "      <td>47.265298</td>\n",
       "      <td>7.559020</td>\n",
       "    </tr>\n",
       "    <tr>\n",
       "      <th>12</th>\n",
       "      <td>Level shifter</td>\n",
       "      <td>Level shifter</td>\n",
       "      <td>20000.0</td>\n",
       "      <td>1</td>\n",
       "      <td>0.00104</td>\n",
       "      <td>0.00744</td>\n",
       "      <td>45.564743</td>\n",
       "      <td>7.276535</td>\n",
       "    </tr>\n",
       "    <tr>\n",
       "      <th>13</th>\n",
       "      <td>Level shifter</td>\n",
       "      <td>Level shifter</td>\n",
       "      <td>20000.0</td>\n",
       "      <td>3</td>\n",
       "      <td>0.00104</td>\n",
       "      <td>0.00744</td>\n",
       "      <td>45.941958</td>\n",
       "      <td>7.339196</td>\n",
       "    </tr>\n",
       "    <tr>\n",
       "      <th>14</th>\n",
       "      <td>Level shifter</td>\n",
       "      <td>Level shifter</td>\n",
       "      <td>40000.0</td>\n",
       "      <td>1</td>\n",
       "      <td>0.00104</td>\n",
       "      <td>0.00744</td>\n",
       "      <td>45.602634</td>\n",
       "      <td>7.282830</td>\n",
       "    </tr>\n",
       "    <tr>\n",
       "      <th>15</th>\n",
       "      <td>Level shifter</td>\n",
       "      <td>Level shifter</td>\n",
       "      <td>40000.0</td>\n",
       "      <td>3</td>\n",
       "      <td>0.00104</td>\n",
       "      <td>0.00744</td>\n",
       "      <td>45.854533</td>\n",
       "      <td>7.324673</td>\n",
       "    </tr>\n",
       "    <tr>\n",
       "      <th>16</th>\n",
       "      <td>Level shifter</td>\n",
       "      <td>Level shifter</td>\n",
       "      <td>100000.0</td>\n",
       "      <td>1</td>\n",
       "      <td>0.00104</td>\n",
       "      <td>0.00744</td>\n",
       "      <td>45.585374</td>\n",
       "      <td>7.279962</td>\n",
       "    </tr>\n",
       "    <tr>\n",
       "      <th>17</th>\n",
       "      <td>Level shifter</td>\n",
       "      <td>Level shifter</td>\n",
       "      <td>100000.0</td>\n",
       "      <td>3</td>\n",
       "      <td>0.00104</td>\n",
       "      <td>0.00744</td>\n",
       "      <td>45.802977</td>\n",
       "      <td>7.316109</td>\n",
       "    </tr>\n",
       "    <tr>\n",
       "      <th>18</th>\n",
       "      <td>Hysteresis</td>\n",
       "      <td>Hysteresis</td>\n",
       "      <td>20000.0</td>\n",
       "      <td>1</td>\n",
       "      <td>0.00104</td>\n",
       "      <td>0.00744</td>\n",
       "      <td>38.604771</td>\n",
       "      <td>6.120394</td>\n",
       "    </tr>\n",
       "    <tr>\n",
       "      <th>19</th>\n",
       "      <td>Hysteresis</td>\n",
       "      <td>Hysteresis</td>\n",
       "      <td>20000.0</td>\n",
       "      <td>3</td>\n",
       "      <td>0.00104</td>\n",
       "      <td>0.00744</td>\n",
       "      <td>38.797036</td>\n",
       "      <td>6.152332</td>\n",
       "    </tr>\n",
       "    <tr>\n",
       "      <th>20</th>\n",
       "      <td>Hysteresis</td>\n",
       "      <td>Hysteresis</td>\n",
       "      <td>40000.0</td>\n",
       "      <td>1</td>\n",
       "      <td>0.00104</td>\n",
       "      <td>0.00744</td>\n",
       "      <td>38.704752</td>\n",
       "      <td>6.137002</td>\n",
       "    </tr>\n",
       "    <tr>\n",
       "      <th>21</th>\n",
       "      <td>Hysteresis</td>\n",
       "      <td>Hysteresis</td>\n",
       "      <td>40000.0</td>\n",
       "      <td>3</td>\n",
       "      <td>0.00104</td>\n",
       "      <td>0.00744</td>\n",
       "      <td>38.775304</td>\n",
       "      <td>6.148722</td>\n",
       "    </tr>\n",
       "    <tr>\n",
       "      <th>22</th>\n",
       "      <td>Hysteresis</td>\n",
       "      <td>Hysteresis</td>\n",
       "      <td>100000.0</td>\n",
       "      <td>1</td>\n",
       "      <td>0.00104</td>\n",
       "      <td>0.00744</td>\n",
       "      <td>38.700017</td>\n",
       "      <td>6.136215</td>\n",
       "    </tr>\n",
       "    <tr>\n",
       "      <th>23</th>\n",
       "      <td>Hysteresis</td>\n",
       "      <td>Hysteresis</td>\n",
       "      <td>100000.0</td>\n",
       "      <td>3</td>\n",
       "      <td>0.00104</td>\n",
       "      <td>0.00744</td>\n",
       "      <td>38.762364</td>\n",
       "      <td>6.146572</td>\n",
       "    </tr>\n",
       "    <tr>\n",
       "      <th>24</th>\n",
       "      <td>A-class amplifier</td>\n",
       "      <td>Hysteresis</td>\n",
       "      <td>20000.0</td>\n",
       "      <td>1</td>\n",
       "      <td>0.00104</td>\n",
       "      <td>0.00744</td>\n",
       "      <td>48.105117</td>\n",
       "      <td>7.698524</td>\n",
       "    </tr>\n",
       "    <tr>\n",
       "      <th>25</th>\n",
       "      <td>A-class amplifier</td>\n",
       "      <td>Hysteresis</td>\n",
       "      <td>20000.0</td>\n",
       "      <td>3</td>\n",
       "      <td>0.00104</td>\n",
       "      <td>0.00744</td>\n",
       "      <td>46.612710</td>\n",
       "      <td>7.450616</td>\n",
       "    </tr>\n",
       "    <tr>\n",
       "      <th>26</th>\n",
       "      <td>A-class amplifier</td>\n",
       "      <td>Hysteresis</td>\n",
       "      <td>40000.0</td>\n",
       "      <td>1</td>\n",
       "      <td>0.00104</td>\n",
       "      <td>0.00744</td>\n",
       "      <td>48.150400</td>\n",
       "      <td>7.706047</td>\n",
       "    </tr>\n",
       "    <tr>\n",
       "      <th>27</th>\n",
       "      <td>A-class amplifier</td>\n",
       "      <td>Hysteresis</td>\n",
       "      <td>40000.0</td>\n",
       "      <td>3</td>\n",
       "      <td>0.00104</td>\n",
       "      <td>0.00744</td>\n",
       "      <td>46.576856</td>\n",
       "      <td>7.444660</td>\n",
       "    </tr>\n",
       "    <tr>\n",
       "      <th>28</th>\n",
       "      <td>A-class amplifier</td>\n",
       "      <td>Hysteresis</td>\n",
       "      <td>100000.0</td>\n",
       "      <td>1</td>\n",
       "      <td>0.00104</td>\n",
       "      <td>0.00744</td>\n",
       "      <td>48.085552</td>\n",
       "      <td>7.695274</td>\n",
       "    </tr>\n",
       "    <tr>\n",
       "      <th>29</th>\n",
       "      <td>A-class amplifier</td>\n",
       "      <td>Hysteresis</td>\n",
       "      <td>100000.0</td>\n",
       "      <td>3</td>\n",
       "      <td>0.00104</td>\n",
       "      <td>0.00744</td>\n",
       "      <td>46.601431</td>\n",
       "      <td>7.448743</td>\n",
       "    </tr>\n",
       "  </tbody>\n",
       "</table>\n",
       "</div>"
      ],
      "text/plain": [
       "                Comp1              Comp2  ...        snr      enob\n",
       "0         Three stage        Three stage  ...  46.520169  7.435244\n",
       "1         Three stage        Three stage  ...  46.468178  7.426608\n",
       "2         Three stage        Three stage  ...  46.544109  7.439221\n",
       "3         Three stage        Three stage  ...  46.492331  7.430620\n",
       "4         Three stage        Three stage  ...  46.527168  7.436407\n",
       "5         Three stage        Three stage  ...  46.476187  7.427938\n",
       "6   A-class amplifier  A-class amplifier  ...  47.237217  7.554355\n",
       "7   A-class amplifier  A-class amplifier  ...  47.254551  7.557234\n",
       "8   A-class amplifier  A-class amplifier  ...  47.177163  7.544379\n",
       "9   A-class amplifier  A-class amplifier  ...  47.262942  7.558628\n",
       "10  A-class amplifier  A-class amplifier  ...  47.171922  7.543509\n",
       "11  A-class amplifier  A-class amplifier  ...  47.265298  7.559020\n",
       "12      Level shifter      Level shifter  ...  45.564743  7.276535\n",
       "13      Level shifter      Level shifter  ...  45.941958  7.339196\n",
       "14      Level shifter      Level shifter  ...  45.602634  7.282830\n",
       "15      Level shifter      Level shifter  ...  45.854533  7.324673\n",
       "16      Level shifter      Level shifter  ...  45.585374  7.279962\n",
       "17      Level shifter      Level shifter  ...  45.802977  7.316109\n",
       "18         Hysteresis         Hysteresis  ...  38.604771  6.120394\n",
       "19         Hysteresis         Hysteresis  ...  38.797036  6.152332\n",
       "20         Hysteresis         Hysteresis  ...  38.704752  6.137002\n",
       "21         Hysteresis         Hysteresis  ...  38.775304  6.148722\n",
       "22         Hysteresis         Hysteresis  ...  38.700017  6.136215\n",
       "23         Hysteresis         Hysteresis  ...  38.762364  6.146572\n",
       "24  A-class amplifier         Hysteresis  ...  48.105117  7.698524\n",
       "25  A-class amplifier         Hysteresis  ...  46.612710  7.450616\n",
       "26  A-class amplifier         Hysteresis  ...  48.150400  7.706047\n",
       "27  A-class amplifier         Hysteresis  ...  46.576856  7.444660\n",
       "28  A-class amplifier         Hysteresis  ...  48.085552  7.695274\n",
       "29  A-class amplifier         Hysteresis  ...  46.601431  7.448743\n",
       "\n",
       "[30 rows x 8 columns]"
      ]
     },
     "execution_count": 58,
     "metadata": {},
     "output_type": "execute_result"
    }
   ],
   "source": [
    "df[[\"Comp1\",\"Comp2\",\"fs\",\"order_interpolator\",\"t_start\",\"t_stop\",\"snr\",\"enob\"]]"
   ]
  },
  {
   "cell_type": "code",
   "execution_count": 66,
   "id": "0ec5bea9",
   "metadata": {},
   "outputs": [
    {
     "name": "stderr",
     "output_type": "stream",
     "text": [
      "/tmp/ipykernel_7504/963502308.py:1: FutureWarning: In future versions `DataFrame.to_latex` is expected to utilise the base implementation of `Styler.to_latex` for formatting and rendering. The arguments signature may therefore change. It is recommended instead to use `DataFrame.style.to_latex` which also contains additional functionality.\n",
      "  text=df.to_latex(columns=[\"Comp1\",\"Comp2\",\"fs\",\"order_interpolator\",\"snr\",\"enob\"],index=False)\n"
     ]
    }
   ],
   "source": [
    "text=df.to_latex(columns=[\"Comp1\",\"Comp2\",\"fs\",\"order_interpolator\",\"snr\",\"enob\"],index=False)"
   ]
  },
  {
   "cell_type": "code",
   "execution_count": 67,
   "id": "da482e03",
   "metadata": {},
   "outputs": [
    {
     "name": "stdout",
     "output_type": "stream",
     "text": [
      "\\begin{tabular}{llrrrr}\n",
      "\\toprule\n",
      "            Comp1 &             Comp2 &       fs &  order\\_interpolator &       snr &     enob \\\\\n",
      "\\midrule\n",
      "      Three stage &       Three stage &  20000.0 &                   1 & 46.520169 & 7.435244 \\\\\n",
      "      Three stage &       Three stage &  20000.0 &                   3 & 46.468178 & 7.426608 \\\\\n",
      "      Three stage &       Three stage &  40000.0 &                   1 & 46.544109 & 7.439221 \\\\\n",
      "      Three stage &       Three stage &  40000.0 &                   3 & 46.492331 & 7.430620 \\\\\n",
      "      Three stage &       Three stage & 100000.0 &                   1 & 46.527168 & 7.436407 \\\\\n",
      "      Three stage &       Three stage & 100000.0 &                   3 & 46.476187 & 7.427938 \\\\\n",
      "A-class amplifier & A-class amplifier &  20000.0 &                   1 & 47.237217 & 7.554355 \\\\\n",
      "A-class amplifier & A-class amplifier &  20000.0 &                   3 & 47.254551 & 7.557234 \\\\\n",
      "A-class amplifier & A-class amplifier &  40000.0 &                   1 & 47.177163 & 7.544379 \\\\\n",
      "A-class amplifier & A-class amplifier &  40000.0 &                   3 & 47.262942 & 7.558628 \\\\\n",
      "A-class amplifier & A-class amplifier & 100000.0 &                   1 & 47.171922 & 7.543509 \\\\\n",
      "A-class amplifier & A-class amplifier & 100000.0 &                   3 & 47.265298 & 7.559020 \\\\\n",
      "    Level shifter &     Level shifter &  20000.0 &                   1 & 45.564743 & 7.276535 \\\\\n",
      "    Level shifter &     Level shifter &  20000.0 &                   3 & 45.941958 & 7.339196 \\\\\n",
      "    Level shifter &     Level shifter &  40000.0 &                   1 & 45.602634 & 7.282830 \\\\\n",
      "    Level shifter &     Level shifter &  40000.0 &                   3 & 45.854533 & 7.324673 \\\\\n",
      "    Level shifter &     Level shifter & 100000.0 &                   1 & 45.585374 & 7.279962 \\\\\n",
      "    Level shifter &     Level shifter & 100000.0 &                   3 & 45.802977 & 7.316109 \\\\\n",
      "       Hysteresis &        Hysteresis &  20000.0 &                   1 & 38.604771 & 6.120394 \\\\\n",
      "       Hysteresis &        Hysteresis &  20000.0 &                   3 & 38.797036 & 6.152332 \\\\\n",
      "       Hysteresis &        Hysteresis &  40000.0 &                   1 & 38.704752 & 6.137002 \\\\\n",
      "       Hysteresis &        Hysteresis &  40000.0 &                   3 & 38.775304 & 6.148722 \\\\\n",
      "       Hysteresis &        Hysteresis & 100000.0 &                   1 & 38.700017 & 6.136215 \\\\\n",
      "       Hysteresis &        Hysteresis & 100000.0 &                   3 & 38.762364 & 6.146572 \\\\\n",
      "A-class amplifier &        Hysteresis &  20000.0 &                   1 & 48.105117 & 7.698524 \\\\\n",
      "A-class amplifier &        Hysteresis &  20000.0 &                   3 & 46.612710 & 7.450616 \\\\\n",
      "A-class amplifier &        Hysteresis &  40000.0 &                   1 & 48.150400 & 7.706047 \\\\\n",
      "A-class amplifier &        Hysteresis &  40000.0 &                   3 & 46.576856 & 7.444660 \\\\\n",
      "A-class amplifier &        Hysteresis & 100000.0 &                   1 & 48.085552 & 7.695274 \\\\\n",
      "A-class amplifier &        Hysteresis & 100000.0 &                   3 & 46.601431 & 7.448743 \\\\\n",
      "\\bottomrule\n",
      "\\end{tabular}\n",
      "\n"
     ]
    }
   ],
   "source": [
    "print(text)"
   ]
  },
  {
   "cell_type": "code",
   "execution_count": null,
   "id": "3ab2209c",
   "metadata": {},
   "outputs": [],
   "source": []
  }
 ],
 "metadata": {
  "kernelspec": {
   "display_name": "Python 3 (ipykernel)",
   "language": "python",
   "name": "python3"
  },
  "language_info": {
   "codemirror_mode": {
    "name": "ipython",
    "version": 3
   },
   "file_extension": ".py",
   "mimetype": "text/x-python",
   "name": "python",
   "nbconvert_exporter": "python",
   "pygments_lexer": "ipython3",
   "version": "3.10.9"
  }
 },
 "nbformat": 4,
 "nbformat_minor": 5
}
