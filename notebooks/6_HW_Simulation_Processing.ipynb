{
 "cells": [
  {
   "cell_type": "code",
   "execution_count": 1,
   "id": "f5051988",
   "metadata": {},
   "outputs": [],
   "source": [
    "%load_ext autoreload\n",
    "%autoreload 2"
   ]
  },
  {
   "cell_type": "code",
   "execution_count": 2,
   "id": "e292853a",
   "metadata": {},
   "outputs": [],
   "source": [
    "SIMULATION_OUTPUT=\"/mnt/Archivos/Nextcloud/MaestriaPUCP/Thesis/development/project\""
   ]
  },
  {
   "cell_type": "code",
   "execution_count": 3,
   "id": "7722e170",
   "metadata": {},
   "outputs": [],
   "source": [
    "import pandas as pd"
   ]
  },
  {
   "cell_type": "code",
   "execution_count": 4,
   "id": "aed5d8c6",
   "metadata": {},
   "outputs": [],
   "source": [
    "RELATIVE_FILE_PATH=\"results/output_lcadc_comp_differential_level_shifter.vcsv\""
   ]
  },
  {
   "cell_type": "code",
   "execution_count": 5,
   "id": "a8abcadc",
   "metadata": {},
   "outputs": [],
   "source": [
    "from pathlib import Path"
   ]
  },
  {
   "cell_type": "code",
   "execution_count": 6,
   "id": "3c287400",
   "metadata": {},
   "outputs": [],
   "source": [
    "filepath = Path(SIMULATION_OUTPUT)/RELATIVE_FILE_PATH"
   ]
  },
  {
   "cell_type": "code",
   "execution_count": 7,
   "id": "5f2c8152",
   "metadata": {},
   "outputs": [],
   "source": [
    "df = pd.read_csv(filepath, comment=';', header=None, \n",
    "                 names=[\"time_VOUT\", \"VOUT\"])\n",
    "df = df[[\"time_VOUT\", \"VOUT\"]].copy()"
   ]
  },
  {
   "cell_type": "code",
   "execution_count": 8,
   "id": "a3a1de25",
   "metadata": {},
   "outputs": [
    {
     "data": {
      "text/html": [
       "<div>\n",
       "<style scoped>\n",
       "    .dataframe tbody tr th:only-of-type {\n",
       "        vertical-align: middle;\n",
       "    }\n",
       "\n",
       "    .dataframe tbody tr th {\n",
       "        vertical-align: top;\n",
       "    }\n",
       "\n",
       "    .dataframe thead th {\n",
       "        text-align: right;\n",
       "    }\n",
       "</style>\n",
       "<table border=\"1\" class=\"dataframe\">\n",
       "  <thead>\n",
       "    <tr style=\"text-align: right;\">\n",
       "      <th></th>\n",
       "      <th>time_VOUT</th>\n",
       "      <th>VOUT</th>\n",
       "    </tr>\n",
       "  </thead>\n",
       "  <tbody>\n",
       "    <tr>\n",
       "      <th>0</th>\n",
       "      <td>0.000000e+00</td>\n",
       "      <td>0.0</td>\n",
       "    </tr>\n",
       "    <tr>\n",
       "      <th>1</th>\n",
       "      <td>5.000000e-07</td>\n",
       "      <td>0.0</td>\n",
       "    </tr>\n",
       "    <tr>\n",
       "      <th>2</th>\n",
       "      <td>5.312500e-07</td>\n",
       "      <td>0.0</td>\n",
       "    </tr>\n",
       "    <tr>\n",
       "      <th>3</th>\n",
       "      <td>5.468750e-07</td>\n",
       "      <td>0.0</td>\n",
       "    </tr>\n",
       "    <tr>\n",
       "      <th>4</th>\n",
       "      <td>5.781250e-07</td>\n",
       "      <td>0.0</td>\n",
       "    </tr>\n",
       "  </tbody>\n",
       "</table>\n",
       "</div>"
      ],
      "text/plain": [
       "      time_VOUT  VOUT\n",
       "0  0.000000e+00   0.0\n",
       "1  5.000000e-07   0.0\n",
       "2  5.312500e-07   0.0\n",
       "3  5.468750e-07   0.0\n",
       "4  5.781250e-07   0.0"
      ]
     },
     "execution_count": 8,
     "metadata": {},
     "output_type": "execute_result"
    }
   ],
   "source": [
    "df.head()"
   ]
  },
  {
   "cell_type": "code",
   "execution_count": 9,
   "id": "bd20e788",
   "metadata": {},
   "outputs": [],
   "source": [
    "import numpy as np"
   ]
  },
  {
   "cell_type": "code",
   "execution_count": 10,
   "id": "e1d9c3a3",
   "metadata": {},
   "outputs": [],
   "source": [
    "df[\"delayed\"] = df[\"VOUT\"].shift(periods=1, fill_value=0)"
   ]
  },
  {
   "cell_type": "code",
   "execution_count": 11,
   "id": "de69e035",
   "metadata": {},
   "outputs": [
    {
     "data": {
      "text/html": [
       "<div>\n",
       "<style scoped>\n",
       "    .dataframe tbody tr th:only-of-type {\n",
       "        vertical-align: middle;\n",
       "    }\n",
       "\n",
       "    .dataframe tbody tr th {\n",
       "        vertical-align: top;\n",
       "    }\n",
       "\n",
       "    .dataframe thead th {\n",
       "        text-align: right;\n",
       "    }\n",
       "</style>\n",
       "<table border=\"1\" class=\"dataframe\">\n",
       "  <thead>\n",
       "    <tr style=\"text-align: right;\">\n",
       "      <th></th>\n",
       "      <th>time_VOUT</th>\n",
       "      <th>VOUT</th>\n",
       "      <th>delayed</th>\n",
       "    </tr>\n",
       "  </thead>\n",
       "  <tbody>\n",
       "    <tr>\n",
       "      <th>0</th>\n",
       "      <td>0.000000e+00</td>\n",
       "      <td>0.0</td>\n",
       "      <td>0.0</td>\n",
       "    </tr>\n",
       "    <tr>\n",
       "      <th>1</th>\n",
       "      <td>5.000000e-07</td>\n",
       "      <td>0.0</td>\n",
       "      <td>0.0</td>\n",
       "    </tr>\n",
       "    <tr>\n",
       "      <th>2</th>\n",
       "      <td>5.312500e-07</td>\n",
       "      <td>0.0</td>\n",
       "      <td>0.0</td>\n",
       "    </tr>\n",
       "    <tr>\n",
       "      <th>3</th>\n",
       "      <td>5.468750e-07</td>\n",
       "      <td>0.0</td>\n",
       "      <td>0.0</td>\n",
       "    </tr>\n",
       "    <tr>\n",
       "      <th>4</th>\n",
       "      <td>5.781250e-07</td>\n",
       "      <td>0.0</td>\n",
       "      <td>0.0</td>\n",
       "    </tr>\n",
       "  </tbody>\n",
       "</table>\n",
       "</div>"
      ],
      "text/plain": [
       "      time_VOUT  VOUT  delayed\n",
       "0  0.000000e+00   0.0      0.0\n",
       "1  5.000000e-07   0.0      0.0\n",
       "2  5.312500e-07   0.0      0.0\n",
       "3  5.468750e-07   0.0      0.0\n",
       "4  5.781250e-07   0.0      0.0"
      ]
     },
     "execution_count": 11,
     "metadata": {},
     "output_type": "execute_result"
    }
   ],
   "source": [
    "df.head()"
   ]
  },
  {
   "cell_type": "code",
   "execution_count": 12,
   "id": "4b07a2a1",
   "metadata": {},
   "outputs": [],
   "source": [
    "df[\"abs_diff\"] = np.absolute(df[\"VOUT\"] - df[\"delayed\"])"
   ]
  },
  {
   "cell_type": "code",
   "execution_count": 13,
   "id": "450d2e56",
   "metadata": {},
   "outputs": [
    {
     "data": {
      "text/html": [
       "<div>\n",
       "<style scoped>\n",
       "    .dataframe tbody tr th:only-of-type {\n",
       "        vertical-align: middle;\n",
       "    }\n",
       "\n",
       "    .dataframe tbody tr th {\n",
       "        vertical-align: top;\n",
       "    }\n",
       "\n",
       "    .dataframe thead th {\n",
       "        text-align: right;\n",
       "    }\n",
       "</style>\n",
       "<table border=\"1\" class=\"dataframe\">\n",
       "  <thead>\n",
       "    <tr style=\"text-align: right;\">\n",
       "      <th></th>\n",
       "      <th>time_VOUT</th>\n",
       "      <th>VOUT</th>\n",
       "      <th>delayed</th>\n",
       "      <th>abs_diff</th>\n",
       "    </tr>\n",
       "  </thead>\n",
       "  <tbody>\n",
       "    <tr>\n",
       "      <th>0</th>\n",
       "      <td>0.000000e+00</td>\n",
       "      <td>0.0</td>\n",
       "      <td>0.0</td>\n",
       "      <td>0.0</td>\n",
       "    </tr>\n",
       "    <tr>\n",
       "      <th>1</th>\n",
       "      <td>5.000000e-07</td>\n",
       "      <td>0.0</td>\n",
       "      <td>0.0</td>\n",
       "      <td>0.0</td>\n",
       "    </tr>\n",
       "    <tr>\n",
       "      <th>2</th>\n",
       "      <td>5.312500e-07</td>\n",
       "      <td>0.0</td>\n",
       "      <td>0.0</td>\n",
       "      <td>0.0</td>\n",
       "    </tr>\n",
       "    <tr>\n",
       "      <th>3</th>\n",
       "      <td>5.468750e-07</td>\n",
       "      <td>0.0</td>\n",
       "      <td>0.0</td>\n",
       "      <td>0.0</td>\n",
       "    </tr>\n",
       "    <tr>\n",
       "      <th>4</th>\n",
       "      <td>5.781250e-07</td>\n",
       "      <td>0.0</td>\n",
       "      <td>0.0</td>\n",
       "      <td>0.0</td>\n",
       "    </tr>\n",
       "  </tbody>\n",
       "</table>\n",
       "</div>"
      ],
      "text/plain": [
       "      time_VOUT  VOUT  delayed  abs_diff\n",
       "0  0.000000e+00   0.0      0.0       0.0\n",
       "1  5.000000e-07   0.0      0.0       0.0\n",
       "2  5.312500e-07   0.0      0.0       0.0\n",
       "3  5.468750e-07   0.0      0.0       0.0\n",
       "4  5.781250e-07   0.0      0.0       0.0"
      ]
     },
     "execution_count": 13,
     "metadata": {},
     "output_type": "execute_result"
    }
   ],
   "source": [
    "df.head()"
   ]
  },
  {
   "cell_type": "code",
   "execution_count": 14,
   "id": "287be797",
   "metadata": {},
   "outputs": [],
   "source": [
    "ndf = df.loc[df[\"abs_diff\"]!=0].copy()"
   ]
  },
  {
   "cell_type": "code",
   "execution_count": 15,
   "id": "f0ae0d7f",
   "metadata": {},
   "outputs": [
    {
     "data": {
      "text/html": [
       "<div>\n",
       "<style scoped>\n",
       "    .dataframe tbody tr th:only-of-type {\n",
       "        vertical-align: middle;\n",
       "    }\n",
       "\n",
       "    .dataframe tbody tr th {\n",
       "        vertical-align: top;\n",
       "    }\n",
       "\n",
       "    .dataframe thead th {\n",
       "        text-align: right;\n",
       "    }\n",
       "</style>\n",
       "<table border=\"1\" class=\"dataframe\">\n",
       "  <thead>\n",
       "    <tr style=\"text-align: right;\">\n",
       "      <th></th>\n",
       "      <th>time_VOUT</th>\n",
       "      <th>VOUT</th>\n",
       "      <th>delayed</th>\n",
       "      <th>abs_diff</th>\n",
       "    </tr>\n",
       "  </thead>\n",
       "  <tbody>\n",
       "    <tr>\n",
       "      <th>5088</th>\n",
       "      <td>0.000005</td>\n",
       "      <td>0.000005</td>\n",
       "      <td>0.000000</td>\n",
       "      <td>0.000005</td>\n",
       "    </tr>\n",
       "    <tr>\n",
       "      <th>5089</th>\n",
       "      <td>0.000005</td>\n",
       "      <td>0.000009</td>\n",
       "      <td>0.000005</td>\n",
       "      <td>0.000004</td>\n",
       "    </tr>\n",
       "    <tr>\n",
       "      <th>5090</th>\n",
       "      <td>0.000005</td>\n",
       "      <td>0.000012</td>\n",
       "      <td>0.000009</td>\n",
       "      <td>0.000004</td>\n",
       "    </tr>\n",
       "    <tr>\n",
       "      <th>5091</th>\n",
       "      <td>0.000005</td>\n",
       "      <td>0.000016</td>\n",
       "      <td>0.000012</td>\n",
       "      <td>0.000004</td>\n",
       "    </tr>\n",
       "    <tr>\n",
       "      <th>5092</th>\n",
       "      <td>0.000005</td>\n",
       "      <td>0.000019</td>\n",
       "      <td>0.000016</td>\n",
       "      <td>0.000003</td>\n",
       "    </tr>\n",
       "    <tr>\n",
       "      <th>...</th>\n",
       "      <td>...</td>\n",
       "      <td>...</td>\n",
       "      <td>...</td>\n",
       "      <td>...</td>\n",
       "    </tr>\n",
       "    <tr>\n",
       "      <th>3589619</th>\n",
       "      <td>0.007998</td>\n",
       "      <td>-0.443563</td>\n",
       "      <td>-0.443413</td>\n",
       "      <td>0.000150</td>\n",
       "    </tr>\n",
       "    <tr>\n",
       "      <th>3589620</th>\n",
       "      <td>0.007998</td>\n",
       "      <td>-0.443857</td>\n",
       "      <td>-0.443563</td>\n",
       "      <td>0.000293</td>\n",
       "    </tr>\n",
       "    <tr>\n",
       "      <th>3589621</th>\n",
       "      <td>0.007998</td>\n",
       "      <td>-0.444265</td>\n",
       "      <td>-0.443857</td>\n",
       "      <td>0.000408</td>\n",
       "    </tr>\n",
       "    <tr>\n",
       "      <th>3589622</th>\n",
       "      <td>0.007998</td>\n",
       "      <td>-0.444734</td>\n",
       "      <td>-0.444265</td>\n",
       "      <td>0.000469</td>\n",
       "    </tr>\n",
       "    <tr>\n",
       "      <th>3589623</th>\n",
       "      <td>0.007998</td>\n",
       "      <td>-0.445312</td>\n",
       "      <td>-0.444734</td>\n",
       "      <td>0.000578</td>\n",
       "    </tr>\n",
       "  </tbody>\n",
       "</table>\n",
       "<p>1175415 rows × 4 columns</p>\n",
       "</div>"
      ],
      "text/plain": [
       "         time_VOUT      VOUT   delayed  abs_diff\n",
       "5088      0.000005  0.000005  0.000000  0.000005\n",
       "5089      0.000005  0.000009  0.000005  0.000004\n",
       "5090      0.000005  0.000012  0.000009  0.000004\n",
       "5091      0.000005  0.000016  0.000012  0.000004\n",
       "5092      0.000005  0.000019  0.000016  0.000003\n",
       "...            ...       ...       ...       ...\n",
       "3589619   0.007998 -0.443563 -0.443413  0.000150\n",
       "3589620   0.007998 -0.443857 -0.443563  0.000293\n",
       "3589621   0.007998 -0.444265 -0.443857  0.000408\n",
       "3589622   0.007998 -0.444734 -0.444265  0.000469\n",
       "3589623   0.007998 -0.445312 -0.444734  0.000578\n",
       "\n",
       "[1175415 rows x 4 columns]"
      ]
     },
     "execution_count": 15,
     "metadata": {},
     "output_type": "execute_result"
    }
   ],
   "source": [
    "ndf"
   ]
  },
  {
   "cell_type": "code",
   "execution_count": 16,
   "id": "a4d981c8",
   "metadata": {},
   "outputs": [],
   "source": [
    "ndf[\"time_diff\"] = ndf[\"time_VOUT\"].shift(periods=-1, fill_value=0) - ndf[\"time_VOUT\"]"
   ]
  },
  {
   "cell_type": "code",
   "execution_count": 17,
   "id": "845fa89b",
   "metadata": {},
   "outputs": [
    {
     "data": {
      "text/html": [
       "<div>\n",
       "<style scoped>\n",
       "    .dataframe tbody tr th:only-of-type {\n",
       "        vertical-align: middle;\n",
       "    }\n",
       "\n",
       "    .dataframe tbody tr th {\n",
       "        vertical-align: top;\n",
       "    }\n",
       "\n",
       "    .dataframe thead th {\n",
       "        text-align: right;\n",
       "    }\n",
       "</style>\n",
       "<table border=\"1\" class=\"dataframe\">\n",
       "  <thead>\n",
       "    <tr style=\"text-align: right;\">\n",
       "      <th></th>\n",
       "      <th>time_VOUT</th>\n",
       "      <th>VOUT</th>\n",
       "      <th>delayed</th>\n",
       "      <th>abs_diff</th>\n",
       "      <th>time_diff</th>\n",
       "    </tr>\n",
       "  </thead>\n",
       "  <tbody>\n",
       "    <tr>\n",
       "      <th>5088</th>\n",
       "      <td>0.000005</td>\n",
       "      <td>0.000005</td>\n",
       "      <td>0.000000</td>\n",
       "      <td>0.000005</td>\n",
       "      <td>7.974204e-12</td>\n",
       "    </tr>\n",
       "    <tr>\n",
       "      <th>5089</th>\n",
       "      <td>0.000005</td>\n",
       "      <td>0.000009</td>\n",
       "      <td>0.000005</td>\n",
       "      <td>0.000004</td>\n",
       "      <td>7.713272e-12</td>\n",
       "    </tr>\n",
       "    <tr>\n",
       "      <th>5090</th>\n",
       "      <td>0.000005</td>\n",
       "      <td>0.000012</td>\n",
       "      <td>0.000009</td>\n",
       "      <td>0.000004</td>\n",
       "      <td>7.880228e-12</td>\n",
       "    </tr>\n",
       "    <tr>\n",
       "      <th>5091</th>\n",
       "      <td>0.000005</td>\n",
       "      <td>0.000016</td>\n",
       "      <td>0.000012</td>\n",
       "      <td>0.000004</td>\n",
       "      <td>7.221728e-12</td>\n",
       "    </tr>\n",
       "    <tr>\n",
       "      <th>5092</th>\n",
       "      <td>0.000005</td>\n",
       "      <td>0.000019</td>\n",
       "      <td>0.000016</td>\n",
       "      <td>0.000003</td>\n",
       "      <td>5.687433e-12</td>\n",
       "    </tr>\n",
       "    <tr>\n",
       "      <th>...</th>\n",
       "      <td>...</td>\n",
       "      <td>...</td>\n",
       "      <td>...</td>\n",
       "      <td>...</td>\n",
       "      <td>...</td>\n",
       "    </tr>\n",
       "    <tr>\n",
       "      <th>3589619</th>\n",
       "      <td>0.007998</td>\n",
       "      <td>-0.443563</td>\n",
       "      <td>-0.443413</td>\n",
       "      <td>0.000150</td>\n",
       "      <td>3.129132e-10</td>\n",
       "    </tr>\n",
       "    <tr>\n",
       "      <th>3589620</th>\n",
       "      <td>0.007998</td>\n",
       "      <td>-0.443857</td>\n",
       "      <td>-0.443563</td>\n",
       "      <td>0.000293</td>\n",
       "      <td>4.357237e-10</td>\n",
       "    </tr>\n",
       "    <tr>\n",
       "      <th>3589621</th>\n",
       "      <td>0.007998</td>\n",
       "      <td>-0.444265</td>\n",
       "      <td>-0.443857</td>\n",
       "      <td>0.000408</td>\n",
       "      <td>5.004068e-10</td>\n",
       "    </tr>\n",
       "    <tr>\n",
       "      <th>3589622</th>\n",
       "      <td>0.007998</td>\n",
       "      <td>-0.444734</td>\n",
       "      <td>-0.444265</td>\n",
       "      <td>0.000469</td>\n",
       "      <td>6.168290e-10</td>\n",
       "    </tr>\n",
       "    <tr>\n",
       "      <th>3589623</th>\n",
       "      <td>0.007998</td>\n",
       "      <td>-0.445312</td>\n",
       "      <td>-0.444734</td>\n",
       "      <td>0.000578</td>\n",
       "      <td>-7.997982e-03</td>\n",
       "    </tr>\n",
       "  </tbody>\n",
       "</table>\n",
       "<p>1175415 rows × 5 columns</p>\n",
       "</div>"
      ],
      "text/plain": [
       "         time_VOUT      VOUT   delayed  abs_diff     time_diff\n",
       "5088      0.000005  0.000005  0.000000  0.000005  7.974204e-12\n",
       "5089      0.000005  0.000009  0.000005  0.000004  7.713272e-12\n",
       "5090      0.000005  0.000012  0.000009  0.000004  7.880228e-12\n",
       "5091      0.000005  0.000016  0.000012  0.000004  7.221728e-12\n",
       "5092      0.000005  0.000019  0.000016  0.000003  5.687433e-12\n",
       "...            ...       ...       ...       ...           ...\n",
       "3589619   0.007998 -0.443563 -0.443413  0.000150  3.129132e-10\n",
       "3589620   0.007998 -0.443857 -0.443563  0.000293  4.357237e-10\n",
       "3589621   0.007998 -0.444265 -0.443857  0.000408  5.004068e-10\n",
       "3589622   0.007998 -0.444734 -0.444265  0.000469  6.168290e-10\n",
       "3589623   0.007998 -0.445312 -0.444734  0.000578 -7.997982e-03\n",
       "\n",
       "[1175415 rows x 5 columns]"
      ]
     },
     "execution_count": 17,
     "metadata": {},
     "output_type": "execute_result"
    }
   ],
   "source": [
    "ndf"
   ]
  },
  {
   "cell_type": "code",
   "execution_count": 18,
   "id": "5711c276",
   "metadata": {},
   "outputs": [],
   "source": [
    "sel_df = ndf.loc[ndf[\"time_diff\"]>1e-8].copy()"
   ]
  },
  {
   "cell_type": "code",
   "execution_count": 19,
   "id": "cf153a2f",
   "metadata": {},
   "outputs": [
    {
     "data": {
      "text/html": [
       "<div>\n",
       "<style scoped>\n",
       "    .dataframe tbody tr th:only-of-type {\n",
       "        vertical-align: middle;\n",
       "    }\n",
       "\n",
       "    .dataframe tbody tr th {\n",
       "        vertical-align: top;\n",
       "    }\n",
       "\n",
       "    .dataframe thead th {\n",
       "        text-align: right;\n",
       "    }\n",
       "</style>\n",
       "<table border=\"1\" class=\"dataframe\">\n",
       "  <thead>\n",
       "    <tr style=\"text-align: right;\">\n",
       "      <th></th>\n",
       "      <th>time_VOUT</th>\n",
       "      <th>VOUT</th>\n",
       "      <th>delayed</th>\n",
       "      <th>abs_diff</th>\n",
       "      <th>time_diff</th>\n",
       "    </tr>\n",
       "  </thead>\n",
       "  <tbody>\n",
       "    <tr>\n",
       "      <th>5286</th>\n",
       "      <td>0.000005</td>\n",
       "      <td>0.004687</td>\n",
       "      <td>0.004198</td>\n",
       "      <td>0.000490</td>\n",
       "      <td>3.847903e-07</td>\n",
       "    </tr>\n",
       "    <tr>\n",
       "      <th>7820</th>\n",
       "      <td>0.000006</td>\n",
       "      <td>0.000000</td>\n",
       "      <td>0.000461</td>\n",
       "      <td>0.000461</td>\n",
       "      <td>2.476191e-07</td>\n",
       "    </tr>\n",
       "    <tr>\n",
       "      <th>9158</th>\n",
       "      <td>0.000006</td>\n",
       "      <td>-0.004687</td>\n",
       "      <td>-0.004330</td>\n",
       "      <td>0.000357</td>\n",
       "      <td>2.364410e-07</td>\n",
       "    </tr>\n",
       "    <tr>\n",
       "      <th>10530</th>\n",
       "      <td>0.000006</td>\n",
       "      <td>-0.009375</td>\n",
       "      <td>-0.008815</td>\n",
       "      <td>0.000560</td>\n",
       "      <td>1.932492e-06</td>\n",
       "    </tr>\n",
       "    <tr>\n",
       "      <th>12676</th>\n",
       "      <td>0.000008</td>\n",
       "      <td>-0.004687</td>\n",
       "      <td>-0.004711</td>\n",
       "      <td>0.000023</td>\n",
       "      <td>1.530096e-06</td>\n",
       "    </tr>\n",
       "    <tr>\n",
       "      <th>...</th>\n",
       "      <td>...</td>\n",
       "      <td>...</td>\n",
       "      <td>...</td>\n",
       "      <td>...</td>\n",
       "      <td>...</td>\n",
       "    </tr>\n",
       "    <tr>\n",
       "      <th>3584665</th>\n",
       "      <td>0.007970</td>\n",
       "      <td>-0.421875</td>\n",
       "      <td>-0.421713</td>\n",
       "      <td>0.000162</td>\n",
       "      <td>4.286998e-06</td>\n",
       "    </tr>\n",
       "    <tr>\n",
       "      <th>3585623</th>\n",
       "      <td>0.007974</td>\n",
       "      <td>-0.426563</td>\n",
       "      <td>-0.426179</td>\n",
       "      <td>0.000384</td>\n",
       "      <td>4.555676e-06</td>\n",
       "    </tr>\n",
       "    <tr>\n",
       "      <th>3586659</th>\n",
       "      <td>0.007979</td>\n",
       "      <td>-0.431250</td>\n",
       "      <td>-0.431047</td>\n",
       "      <td>0.000203</td>\n",
       "      <td>5.341181e-06</td>\n",
       "    </tr>\n",
       "    <tr>\n",
       "      <th>3587627</th>\n",
       "      <td>0.007984</td>\n",
       "      <td>-0.435937</td>\n",
       "      <td>-0.435925</td>\n",
       "      <td>0.000012</td>\n",
       "      <td>6.315687e-06</td>\n",
       "    </tr>\n",
       "    <tr>\n",
       "      <th>3588643</th>\n",
       "      <td>0.007990</td>\n",
       "      <td>-0.440625</td>\n",
       "      <td>-0.440437</td>\n",
       "      <td>0.000188</td>\n",
       "      <td>7.550261e-06</td>\n",
       "    </tr>\n",
       "  </tbody>\n",
       "</table>\n",
       "<p>3574 rows × 5 columns</p>\n",
       "</div>"
      ],
      "text/plain": [
       "         time_VOUT      VOUT   delayed  abs_diff     time_diff\n",
       "5286      0.000005  0.004687  0.004198  0.000490  3.847903e-07\n",
       "7820      0.000006  0.000000  0.000461  0.000461  2.476191e-07\n",
       "9158      0.000006 -0.004687 -0.004330  0.000357  2.364410e-07\n",
       "10530     0.000006 -0.009375 -0.008815  0.000560  1.932492e-06\n",
       "12676     0.000008 -0.004687 -0.004711  0.000023  1.530096e-06\n",
       "...            ...       ...       ...       ...           ...\n",
       "3584665   0.007970 -0.421875 -0.421713  0.000162  4.286998e-06\n",
       "3585623   0.007974 -0.426563 -0.426179  0.000384  4.555676e-06\n",
       "3586659   0.007979 -0.431250 -0.431047  0.000203  5.341181e-06\n",
       "3587627   0.007984 -0.435937 -0.435925  0.000012  6.315687e-06\n",
       "3588643   0.007990 -0.440625 -0.440437  0.000188  7.550261e-06\n",
       "\n",
       "[3574 rows x 5 columns]"
      ]
     },
     "execution_count": 19,
     "metadata": {},
     "output_type": "execute_result"
    }
   ],
   "source": [
    "sel_df"
   ]
  },
  {
   "cell_type": "code",
   "execution_count": 20,
   "id": "5cf57fd6",
   "metadata": {},
   "outputs": [
    {
     "data": {
      "text/html": [
       "<div>\n",
       "<style scoped>\n",
       "    .dataframe tbody tr th:only-of-type {\n",
       "        vertical-align: middle;\n",
       "    }\n",
       "\n",
       "    .dataframe tbody tr th {\n",
       "        vertical-align: top;\n",
       "    }\n",
       "\n",
       "    .dataframe thead th {\n",
       "        text-align: right;\n",
       "    }\n",
       "</style>\n",
       "<table border=\"1\" class=\"dataframe\">\n",
       "  <thead>\n",
       "    <tr style=\"text-align: right;\">\n",
       "      <th></th>\n",
       "      <th>time_VOUT</th>\n",
       "      <th>VOUT</th>\n",
       "      <th>delayed</th>\n",
       "      <th>abs_diff</th>\n",
       "      <th>time_diff</th>\n",
       "    </tr>\n",
       "  </thead>\n",
       "  <tbody>\n",
       "    <tr>\n",
       "      <th>498493</th>\n",
       "      <td>0.001041</td>\n",
       "      <td>0.351562</td>\n",
       "      <td>0.351533</td>\n",
       "      <td>0.000029</td>\n",
       "      <td>0.000002</td>\n",
       "    </tr>\n",
       "    <tr>\n",
       "      <th>499672</th>\n",
       "      <td>0.001043</td>\n",
       "      <td>0.356250</td>\n",
       "      <td>0.356244</td>\n",
       "      <td>0.000006</td>\n",
       "      <td>0.000002</td>\n",
       "    </tr>\n",
       "    <tr>\n",
       "      <th>500494</th>\n",
       "      <td>0.001045</td>\n",
       "      <td>0.360938</td>\n",
       "      <td>0.360641</td>\n",
       "      <td>0.000297</td>\n",
       "      <td>0.000002</td>\n",
       "    </tr>\n",
       "    <tr>\n",
       "      <th>501717</th>\n",
       "      <td>0.001047</td>\n",
       "      <td>0.365625</td>\n",
       "      <td>0.365602</td>\n",
       "      <td>0.000023</td>\n",
       "      <td>0.000002</td>\n",
       "    </tr>\n",
       "    <tr>\n",
       "      <th>502689</th>\n",
       "      <td>0.001049</td>\n",
       "      <td>0.370312</td>\n",
       "      <td>0.370288</td>\n",
       "      <td>0.000024</td>\n",
       "      <td>0.000002</td>\n",
       "    </tr>\n",
       "  </tbody>\n",
       "</table>\n",
       "</div>"
      ],
      "text/plain": [
       "        time_VOUT      VOUT   delayed  abs_diff  time_diff\n",
       "498493   0.001041  0.351562  0.351533  0.000029   0.000002\n",
       "499672   0.001043  0.356250  0.356244  0.000006   0.000002\n",
       "500494   0.001045  0.360938  0.360641  0.000297   0.000002\n",
       "501717   0.001047  0.365625  0.365602  0.000023   0.000002\n",
       "502689   0.001049  0.370312  0.370288  0.000024   0.000002"
      ]
     },
     "execution_count": 20,
     "metadata": {},
     "output_type": "execute_result"
    }
   ],
   "source": [
    "nsel_df = sel_df[(sel_df[\"time_VOUT\"]>1.04e-3) & (sel_df[\"time_VOUT\"]<7.44e-3)]\n",
    "nsel_df.head()"
   ]
  },
  {
   "cell_type": "code",
   "execution_count": 21,
   "id": "747346c2",
   "metadata": {},
   "outputs": [],
   "source": [
    "import matplotlib.pylab as plt"
   ]
  },
  {
   "cell_type": "code",
   "execution_count": 22,
   "id": "7686eab3",
   "metadata": {},
   "outputs": [
    {
     "data": {
      "text/plain": [
       "(array([1425.,    0.,    0.,    0.,    0.,    0.,    0.,    0.,    0.,\n",
       "        1423.]),\n",
       " array([-0.0046875, -0.00375  , -0.0028125, -0.001875 , -0.0009375,\n",
       "         0.       ,  0.0009375,  0.001875 ,  0.0028125,  0.00375  ,\n",
       "         0.0046875]),\n",
       " <BarContainer object of 10 artists>)"
      ]
     },
     "execution_count": 22,
     "metadata": {},
     "output_type": "execute_result"
    },
    {
     "data": {
      "image/png": "[encoded data removed]",
      "text/plain": [
       "<Figure size 432x288 with 1 Axes>"
      ]
     },
     "metadata": {
      "needs_background": "light"
     },
     "output_type": "display_data"
    }
   ],
   "source": [
    "diff = nsel_df[\"VOUT\"].shift(periods=-1, fill_value=0) - nsel_df[\"VOUT\"]\n",
    "diff = diff[:-1]\n",
    "plt.hist(diff)"
   ]
  },
  {
   "cell_type": "code",
   "execution_count": 23,
   "id": "1daa07be",
   "metadata": {},
   "outputs": [
    {
     "data": {
      "text/plain": [
       "0.004687499999999897"
      ]
     },
     "execution_count": 23,
     "metadata": {},
     "output_type": "execute_result"
    }
   ],
   "source": [
    "min(np.abs(diff))"
   ]
  },
  {
   "cell_type": "code",
   "execution_count": 24,
   "id": "17535e28",
   "metadata": {},
   "outputs": [
    {
     "data": {
      "text/plain": [
       "1.338313534499612e-06"
      ]
     },
     "execution_count": 24,
     "metadata": {},
     "output_type": "execute_result"
    }
   ],
   "source": [
    "nsel_df[\"time_diff\"].min()"
   ]
  },
  {
   "cell_type": "code",
   "execution_count": 25,
   "id": "19dcc06c",
   "metadata": {},
   "outputs": [
    {
     "data": {
      "text/plain": [
       "747209.0614206443"
      ]
     },
     "execution_count": 25,
     "metadata": {},
     "output_type": "execute_result"
    }
   ],
   "source": [
    "fs = 1/nsel_df[\"time_diff\"].min()\n",
    "fs"
   ]
  },
  {
   "cell_type": "code",
   "execution_count": 26,
   "id": "083473f5",
   "metadata": {},
   "outputs": [],
   "source": [
    "import matplotlib.pylab as plt"
   ]
  },
  {
   "cell_type": "code",
   "execution_count": 27,
   "id": "459a9ff0",
   "metadata": {
    "scrolled": false
   },
   "outputs": [
    {
     "data": {
      "text/plain": [
       "[<matplotlib.lines.Line2D at 0x7ffa566eb220>]"
      ]
     },
     "execution_count": 27,
     "metadata": {},
     "output_type": "execute_result"
    },
    {
     "data": {
      "image/png": "[encoded data removed]",
      "text/plain": [
       "<Figure size 864x576 with 1 Axes>"
      ]
     },
     "metadata": {
      "needs_background": "light"
     },
     "output_type": "display_data"
    }
   ],
   "source": [
    "fig = plt.figure(figsize=(12,8))\n",
    "ax = fig.add_subplot(1,1,1)\n",
    "ax.plot(sel_df[\"time_VOUT\"],sel_df[\"VOUT\"],'-')"
   ]
  },
  {
   "cell_type": "code",
   "execution_count": 28,
   "id": "d5cc7fa9",
   "metadata": {},
   "outputs": [],
   "source": [
    "from scipy import interpolate"
   ]
  },
  {
   "cell_type": "code",
   "execution_count": 29,
   "id": "98af2e89",
   "metadata": {},
   "outputs": [],
   "source": [
    "def resample(x, y, X_new, kind):\n",
    "    f = interpolate.interp1d(x, y, kind=kind)\n",
    "    return f(X_new)"
   ]
  },
  {
   "cell_type": "code",
   "execution_count": 30,
   "id": "dfde736e",
   "metadata": {},
   "outputs": [],
   "source": [
    "fs = 20e3\n",
    "x = np.arange(0.00104, 0.00744, 1/fs)\n",
    "y = resample(sel_df[\"time_VOUT\"], sel_df[\"VOUT\"],x,3)"
   ]
  },
  {
   "cell_type": "code",
   "execution_count": 31,
   "id": "ba7b086e",
   "metadata": {},
   "outputs": [
    {
     "data": {
      "text/plain": [
       "[<matplotlib.lines.Line2D at 0x7ffa54fa9660>]"
      ]
     },
     "execution_count": 31,
     "metadata": {},
     "output_type": "execute_result"
    },
    {
     "data": {
      "image/png": "[encoded data removed]",
      "text/plain": [
       "<Figure size 432x288 with 1 Axes>"
      ]
     },
     "metadata": {
      "needs_background": "light"
     },
     "output_type": "display_data"
    }
   ],
   "source": [
    "plt.plot(x,y,\"-o\")"
   ]
  },
  {
   "cell_type": "code",
   "execution_count": 32,
   "id": "a2922a9e",
   "metadata": {},
   "outputs": [],
   "source": [
    "from eapprocessor.tools.fft import fft"
   ]
  },
  {
   "cell_type": "code",
   "execution_count": 33,
   "id": "f2ebf335",
   "metadata": {},
   "outputs": [],
   "source": [
    "xf, yf = fft(np.array(y), fs)"
   ]
  },
  {
   "cell_type": "code",
   "execution_count": 34,
   "id": "5d9d91ba",
   "metadata": {},
   "outputs": [],
   "source": [
    "def plot_spectrum_db(xf,yf,fs):\n",
    "    fig= plt.figure(figsize=(8,6))\n",
    "    ax = fig.add_subplot(1,1,1)\n",
    "    ax.plot(xf,20*np.log10(np.abs(yf)),\"--.\")\n",
    "    ax.grid()\n",
    "    ax.set_xlabel(\"Frequency (Hz)\")\n",
    "    ax.set_ylabel(\"Power density (dB)\")\n",
    "    ax.set_title(f\"Spectrum at {fs}Hz sampling\")"
   ]
  },
  {
   "cell_type": "code",
   "execution_count": 35,
   "id": "73eddf97",
   "metadata": {
    "scrolled": false
   },
   "outputs": [
    {
     "data": {
      "image/png": "[encoded data removed]",
      "text/plain": [
       "<Figure size 576x432 with 1 Axes>"
      ]
     },
     "metadata": {
      "needs_background": "light"
     },
     "output_type": "display_data"
    }
   ],
   "source": [
    "plot_spectrum_db(xf,yf,fs)"
   ]
  },
  {
   "cell_type": "code",
   "execution_count": 36,
   "id": "25634011",
   "metadata": {},
   "outputs": [],
   "source": [
    "def calculate_snr(yf):\n",
    "    peak_index = np.argmax(yf)\n",
    "    noise = np.delete(yf,[0, peak_index],None)\n",
    "    pw_signal = yf[peak_index]**2\n",
    "    pw_noise = np.sum(np.power(noise, 2))\n",
    "    return 10*np.log10(pw_signal/pw_noise)"
   ]
  },
  {
   "cell_type": "code",
   "execution_count": 37,
   "id": "65a98b69",
   "metadata": {},
   "outputs": [],
   "source": [
    "def calculate_enob(snr):\n",
    "    return (snr -1.76)/6.02"
   ]
  },
  {
   "cell_type": "code",
   "execution_count": 38,
   "id": "a4cfcf9b",
   "metadata": {},
   "outputs": [
    {
     "data": {
      "text/plain": [
       "45.94195823826201"
      ]
     },
     "execution_count": 38,
     "metadata": {},
     "output_type": "execute_result"
    }
   ],
   "source": [
    "calculate_snr(yf)"
   ]
  },
  {
   "cell_type": "code",
   "execution_count": 39,
   "id": "5c3c36c1",
   "metadata": {},
   "outputs": [
    {
     "data": {
      "text/plain": [
       "7.339195720641531"
      ]
     },
     "execution_count": 39,
     "metadata": {},
     "output_type": "execute_result"
    }
   ],
   "source": [
    "calculate_enob(calculate_snr(yf))"
   ]
  },
  {
   "cell_type": "code",
   "execution_count": 40,
   "id": "a5b9c137",
   "metadata": {},
   "outputs": [],
   "source": [
    "import itertools\n",
    "import pandas as pd\n",
    "from pathlib import Path"
   ]
  },
  {
   "cell_type": "code",
   "execution_count": 41,
   "id": "6a551837",
   "metadata": {},
   "outputs": [],
   "source": [
    "#Defining parameters\n",
    "kind_interpolator=[1,3,5]\n",
    "fs=[20e3,40e3,100e3]\n",
    "t_start=[0.00104]\n",
    "t_stop=[0.00744]\n"
   ]
  },
  {
   "cell_type": "code",
   "execution_count": 42,
   "id": "f604a48f",
   "metadata": {},
   "outputs": [
    {
     "data": {
      "text/plain": [
       "[[20000.0, 1, 0.00104, 0.00744],\n",
       " [20000.0, 3, 0.00104, 0.00744],\n",
       " [20000.0, 5, 0.00104, 0.00744],\n",
       " [40000.0, 1, 0.00104, 0.00744],\n",
       " [40000.0, 3, 0.00104, 0.00744],\n",
       " [40000.0, 5, 0.00104, 0.00744],\n",
       " [100000.0, 1, 0.00104, 0.00744],\n",
       " [100000.0, 3, 0.00104, 0.00744],\n",
       " [100000.0, 5, 0.00104, 0.00744]]"
      ]
     },
     "execution_count": 42,
     "metadata": {},
     "output_type": "execute_result"
    }
   ],
   "source": [
    "args = [list(x) for x in itertools.product(fs,kind_interpolator, t_start, t_stop)]\n",
    "args"
   ]
  },
  {
   "cell_type": "code",
   "execution_count": 43,
   "id": "1ea32882",
   "metadata": {},
   "outputs": [],
   "source": [
    "def evaluate_parameters(*args):\n",
    "    x = np.arange(args[2], args[3], 1/args[0])\n",
    "    y = resample(sel_df[\"time_VOUT\"], sel_df[\"VOUT\"],x,args[1])\n",
    "    xf, yf = fft(np.array(y), args[0])\n",
    "    snr = calculate_snr(yf)\n",
    "    enob = calculate_enob(snr)\n",
    "    return {\n",
    "        \"time\": x,\n",
    "        \"interpolated\":y,\n",
    "        \"xf\":xf,\n",
    "        \"yf\":yf,\n",
    "        \"snr\": snr,\n",
    "        \"enob\": enob\n",
    "    }"
   ]
  },
  {
   "cell_type": "code",
   "execution_count": 44,
   "id": "11c298b9",
   "metadata": {},
   "outputs": [],
   "source": [
    "rows = [ x + [evaluate_parameters(*x)] for x in args]"
   ]
  },
  {
   "cell_type": "code",
   "execution_count": 45,
   "id": "bf4c9ab2",
   "metadata": {},
   "outputs": [
    {
     "data": {
      "text/html": [
       "<div>\n",
       "<style scoped>\n",
       "    .dataframe tbody tr th:only-of-type {\n",
       "        vertical-align: middle;\n",
       "    }\n",
       "\n",
       "    .dataframe tbody tr th {\n",
       "        vertical-align: top;\n",
       "    }\n",
       "\n",
       "    .dataframe thead th {\n",
       "        text-align: right;\n",
       "    }\n",
       "</style>\n",
       "<table border=\"1\" class=\"dataframe\">\n",
       "  <thead>\n",
       "    <tr style=\"text-align: right;\">\n",
       "      <th></th>\n",
       "      <th>fs</th>\n",
       "      <th>order_interpolator</th>\n",
       "      <th>t_start</th>\n",
       "      <th>t_stop</th>\n",
       "      <th>result</th>\n",
       "    </tr>\n",
       "  </thead>\n",
       "  <tbody>\n",
       "    <tr>\n",
       "      <th>0</th>\n",
       "      <td>20000.0</td>\n",
       "      <td>1</td>\n",
       "      <td>0.00104</td>\n",
       "      <td>0.00744</td>\n",
       "      <td>{'time': [0.00104, 0.0010899999999999998, 0.00...</td>\n",
       "    </tr>\n",
       "    <tr>\n",
       "      <th>1</th>\n",
       "      <td>20000.0</td>\n",
       "      <td>3</td>\n",
       "      <td>0.00104</td>\n",
       "      <td>0.00744</td>\n",
       "      <td>{'time': [0.00104, 0.0010899999999999998, 0.00...</td>\n",
       "    </tr>\n",
       "    <tr>\n",
       "      <th>2</th>\n",
       "      <td>20000.0</td>\n",
       "      <td>5</td>\n",
       "      <td>0.00104</td>\n",
       "      <td>0.00744</td>\n",
       "      <td>{'time': [0.00104, 0.0010899999999999998, 0.00...</td>\n",
       "    </tr>\n",
       "    <tr>\n",
       "      <th>3</th>\n",
       "      <td>40000.0</td>\n",
       "      <td>1</td>\n",
       "      <td>0.00104</td>\n",
       "      <td>0.00744</td>\n",
       "      <td>{'time': [0.00104, 0.001065, 0.00109, 0.001115...</td>\n",
       "    </tr>\n",
       "    <tr>\n",
       "      <th>4</th>\n",
       "      <td>40000.0</td>\n",
       "      <td>3</td>\n",
       "      <td>0.00104</td>\n",
       "      <td>0.00744</td>\n",
       "      <td>{'time': [0.00104, 0.001065, 0.00109, 0.001115...</td>\n",
       "    </tr>\n",
       "    <tr>\n",
       "      <th>5</th>\n",
       "      <td>40000.0</td>\n",
       "      <td>5</td>\n",
       "      <td>0.00104</td>\n",
       "      <td>0.00744</td>\n",
       "      <td>{'time': [0.00104, 0.001065, 0.00109, 0.001115...</td>\n",
       "    </tr>\n",
       "    <tr>\n",
       "      <th>6</th>\n",
       "      <td>100000.0</td>\n",
       "      <td>1</td>\n",
       "      <td>0.00104</td>\n",
       "      <td>0.00744</td>\n",
       "      <td>{'time': [0.00104, 0.00105, 0.00106, 0.00107, ...</td>\n",
       "    </tr>\n",
       "    <tr>\n",
       "      <th>7</th>\n",
       "      <td>100000.0</td>\n",
       "      <td>3</td>\n",
       "      <td>0.00104</td>\n",
       "      <td>0.00744</td>\n",
       "      <td>{'time': [0.00104, 0.00105, 0.00106, 0.00107, ...</td>\n",
       "    </tr>\n",
       "    <tr>\n",
       "      <th>8</th>\n",
       "      <td>100000.0</td>\n",
       "      <td>5</td>\n",
       "      <td>0.00104</td>\n",
       "      <td>0.00744</td>\n",
       "      <td>{'time': [0.00104, 0.00105, 0.00106, 0.00107, ...</td>\n",
       "    </tr>\n",
       "  </tbody>\n",
       "</table>\n",
       "</div>"
      ],
      "text/plain": [
       "         fs  order_interpolator  t_start   t_stop  \\\n",
       "0   20000.0                   1  0.00104  0.00744   \n",
       "1   20000.0                   3  0.00104  0.00744   \n",
       "2   20000.0                   5  0.00104  0.00744   \n",
       "3   40000.0                   1  0.00104  0.00744   \n",
       "4   40000.0                   3  0.00104  0.00744   \n",
       "5   40000.0                   5  0.00104  0.00744   \n",
       "6  100000.0                   1  0.00104  0.00744   \n",
       "7  100000.0                   3  0.00104  0.00744   \n",
       "8  100000.0                   5  0.00104  0.00744   \n",
       "\n",
       "                                              result  \n",
       "0  {'time': [0.00104, 0.0010899999999999998, 0.00...  \n",
       "1  {'time': [0.00104, 0.0010899999999999998, 0.00...  \n",
       "2  {'time': [0.00104, 0.0010899999999999998, 0.00...  \n",
       "3  {'time': [0.00104, 0.001065, 0.00109, 0.001115...  \n",
       "4  {'time': [0.00104, 0.001065, 0.00109, 0.001115...  \n",
       "5  {'time': [0.00104, 0.001065, 0.00109, 0.001115...  \n",
       "6  {'time': [0.00104, 0.00105, 0.00106, 0.00107, ...  \n",
       "7  {'time': [0.00104, 0.00105, 0.00106, 0.00107, ...  \n",
       "8  {'time': [0.00104, 0.00105, 0.00106, 0.00107, ...  "
      ]
     },
     "execution_count": 45,
     "metadata": {},
     "output_type": "execute_result"
    }
   ],
   "source": [
    "df = pd.DataFrame(rows, columns=['fs', 'order_interpolator', 't_start', 't_stop','result'])\n",
    "df"
   ]
  },
  {
   "cell_type": "code",
   "execution_count": 46,
   "id": "bd653227",
   "metadata": {},
   "outputs": [
    {
     "data": {
      "text/html": [
       "<div>\n",
       "<style scoped>\n",
       "    .dataframe tbody tr th:only-of-type {\n",
       "        vertical-align: middle;\n",
       "    }\n",
       "\n",
       "    .dataframe tbody tr th {\n",
       "        vertical-align: top;\n",
       "    }\n",
       "\n",
       "    .dataframe thead th {\n",
       "        text-align: right;\n",
       "    }\n",
       "</style>\n",
       "<table border=\"1\" class=\"dataframe\">\n",
       "  <thead>\n",
       "    <tr style=\"text-align: right;\">\n",
       "      <th></th>\n",
       "      <th>fs</th>\n",
       "      <th>order_interpolator</th>\n",
       "      <th>t_start</th>\n",
       "      <th>t_stop</th>\n",
       "      <th>time</th>\n",
       "      <th>interpolated</th>\n",
       "      <th>xf</th>\n",
       "      <th>yf</th>\n",
       "      <th>snr</th>\n",
       "      <th>enob</th>\n",
       "    </tr>\n",
       "  </thead>\n",
       "  <tbody>\n",
       "    <tr>\n",
       "      <th>0</th>\n",
       "      <td>20000.0</td>\n",
       "      <td>1</td>\n",
       "      <td>0.00104</td>\n",
       "      <td>0.00744</td>\n",
       "      <td>[0.00104, 0.0010899999999999998, 0.00113999999...</td>\n",
       "      <td>[0.34929197327631967, 0.4518228858522946, 0.50...</td>\n",
       "      <td>[0.0, 156.25, 312.5, 468.75, 625.0, 781.25, 93...</td>\n",
       "      <td>[0.06449683337418258, 0.0019642584005241746, 0...</td>\n",
       "      <td>45.564743</td>\n",
       "      <td>7.276535</td>\n",
       "    </tr>\n",
       "    <tr>\n",
       "      <th>1</th>\n",
       "      <td>20000.0</td>\n",
       "      <td>3</td>\n",
       "      <td>0.00104</td>\n",
       "      <td>0.00744</td>\n",
       "      <td>[0.00104, 0.0010899999999999998, 0.00113999999...</td>\n",
       "      <td>[0.34929815778903683, 0.4518581360167062, 0.50...</td>\n",
       "      <td>[0.0, 156.25, 312.5, 468.75, 625.0, 781.25, 93...</td>\n",
       "      <td>[0.06448555231661202, 0.0019441339271491925, 0...</td>\n",
       "      <td>45.941958</td>\n",
       "      <td>7.339196</td>\n",
       "    </tr>\n",
       "    <tr>\n",
       "      <th>2</th>\n",
       "      <td>20000.0</td>\n",
       "      <td>5</td>\n",
       "      <td>0.00104</td>\n",
       "      <td>0.00744</td>\n",
       "      <td>[0.00104, 0.0010899999999999998, 0.00113999999...</td>\n",
       "      <td>[0.34930178232486936, 0.4518659107549342, 0.50...</td>\n",
       "      <td>[0.0, 156.25, 312.5, 468.75, 625.0, 781.25, 93...</td>\n",
       "      <td>[0.06450524373973615, 0.0019292629719436232, 0...</td>\n",
       "      <td>45.960781</td>\n",
       "      <td>7.342322</td>\n",
       "    </tr>\n",
       "    <tr>\n",
       "      <th>3</th>\n",
       "      <td>40000.0</td>\n",
       "      <td>1</td>\n",
       "      <td>0.00104</td>\n",
       "      <td>0.00744</td>\n",
       "      <td>[0.00104, 0.001065, 0.00109, 0.001115, 0.00114...</td>\n",
       "      <td>[0.34929197327631967, 0.40597837548762694, 0.4...</td>\n",
       "      <td>[0.0, 156.25, 312.5, 468.75, 625.0, 781.25, 93...</td>\n",
       "      <td>[0.06449738883857263, 0.0019542129915246917, 0...</td>\n",
       "      <td>45.602634</td>\n",
       "      <td>7.282830</td>\n",
       "    </tr>\n",
       "    <tr>\n",
       "      <th>4</th>\n",
       "      <td>40000.0</td>\n",
       "      <td>3</td>\n",
       "      <td>0.00104</td>\n",
       "      <td>0.00744</td>\n",
       "      <td>[0.00104, 0.001065, 0.00109, 0.001115, 0.00114...</td>\n",
       "      <td>[0.34929815778903683, 0.4059646939458953, 0.45...</td>\n",
       "      <td>[0.0, 156.25, 312.5, 468.75, 625.0, 781.25, 93...</td>\n",
       "      <td>[0.06448048557884303, 0.0019474082714903494, 0...</td>\n",
       "      <td>45.854533</td>\n",
       "      <td>7.324673</td>\n",
       "    </tr>\n",
       "    <tr>\n",
       "      <th>5</th>\n",
       "      <td>40000.0</td>\n",
       "      <td>5</td>\n",
       "      <td>0.00104</td>\n",
       "      <td>0.00744</td>\n",
       "      <td>[0.00104, 0.001065, 0.00109, 0.001115, 0.00114...</td>\n",
       "      <td>[0.34930178232486936, 0.4059603453323761, 0.45...</td>\n",
       "      <td>[0.0, 156.25, 312.5, 468.75, 625.0, 781.25, 93...</td>\n",
       "      <td>[0.06450379806269695, 0.001939339631435791, 0....</td>\n",
       "      <td>45.820175</td>\n",
       "      <td>7.318966</td>\n",
       "    </tr>\n",
       "    <tr>\n",
       "      <th>6</th>\n",
       "      <td>100000.0</td>\n",
       "      <td>1</td>\n",
       "      <td>0.00104</td>\n",
       "      <td>0.00744</td>\n",
       "      <td>[0.00104, 0.00105, 0.00106, 0.00107, 0.00108, ...</td>\n",
       "      <td>[0.34929197327631967, 0.37313229019561134, 0.3...</td>\n",
       "      <td>[0.0, 156.25, 312.5, 468.75, 625.0, 781.25, 93...</td>\n",
       "      <td>[0.06448417092729596, 0.001959058573565952, 0....</td>\n",
       "      <td>45.585374</td>\n",
       "      <td>7.279962</td>\n",
       "    </tr>\n",
       "    <tr>\n",
       "      <th>7</th>\n",
       "      <td>100000.0</td>\n",
       "      <td>3</td>\n",
       "      <td>0.00104</td>\n",
       "      <td>0.00744</td>\n",
       "      <td>[0.00104, 0.00105, 0.00106, 0.00107, 0.00108, ...</td>\n",
       "      <td>[0.34929815778903683, 0.37314702774407565, 0.3...</td>\n",
       "      <td>[0.0, 156.25, 312.5, 468.75, 625.0, 781.25, 93...</td>\n",
       "      <td>[0.06446118828226022, 0.001958222127999247, 0....</td>\n",
       "      <td>45.802977</td>\n",
       "      <td>7.316109</td>\n",
       "    </tr>\n",
       "    <tr>\n",
       "      <th>8</th>\n",
       "      <td>100000.0</td>\n",
       "      <td>5</td>\n",
       "      <td>0.00104</td>\n",
       "      <td>0.00744</td>\n",
       "      <td>[0.00104, 0.00105, 0.00106, 0.00107, 0.00108, ...</td>\n",
       "      <td>[0.34930178232486936, 0.3731501974840073, 0.39...</td>\n",
       "      <td>[0.0, 156.25, 312.5, 468.75, 625.0, 781.25, 93...</td>\n",
       "      <td>[0.06447923439156891, 0.0019498657803991776, 0...</td>\n",
       "      <td>45.781008</td>\n",
       "      <td>7.312460</td>\n",
       "    </tr>\n",
       "  </tbody>\n",
       "</table>\n",
       "</div>"
      ],
      "text/plain": [
       "         fs  order_interpolator  t_start   t_stop  \\\n",
       "0   20000.0                   1  0.00104  0.00744   \n",
       "1   20000.0                   3  0.00104  0.00744   \n",
       "2   20000.0                   5  0.00104  0.00744   \n",
       "3   40000.0                   1  0.00104  0.00744   \n",
       "4   40000.0                   3  0.00104  0.00744   \n",
       "5   40000.0                   5  0.00104  0.00744   \n",
       "6  100000.0                   1  0.00104  0.00744   \n",
       "7  100000.0                   3  0.00104  0.00744   \n",
       "8  100000.0                   5  0.00104  0.00744   \n",
       "\n",
       "                                                time  \\\n",
       "0  [0.00104, 0.0010899999999999998, 0.00113999999...   \n",
       "1  [0.00104, 0.0010899999999999998, 0.00113999999...   \n",
       "2  [0.00104, 0.0010899999999999998, 0.00113999999...   \n",
       "3  [0.00104, 0.001065, 0.00109, 0.001115, 0.00114...   \n",
       "4  [0.00104, 0.001065, 0.00109, 0.001115, 0.00114...   \n",
       "5  [0.00104, 0.001065, 0.00109, 0.001115, 0.00114...   \n",
       "6  [0.00104, 0.00105, 0.00106, 0.00107, 0.00108, ...   \n",
       "7  [0.00104, 0.00105, 0.00106, 0.00107, 0.00108, ...   \n",
       "8  [0.00104, 0.00105, 0.00106, 0.00107, 0.00108, ...   \n",
       "\n",
       "                                        interpolated  \\\n",
       "0  [0.34929197327631967, 0.4518228858522946, 0.50...   \n",
       "1  [0.34929815778903683, 0.4518581360167062, 0.50...   \n",
       "2  [0.34930178232486936, 0.4518659107549342, 0.50...   \n",
       "3  [0.34929197327631967, 0.40597837548762694, 0.4...   \n",
       "4  [0.34929815778903683, 0.4059646939458953, 0.45...   \n",
       "5  [0.34930178232486936, 0.4059603453323761, 0.45...   \n",
       "6  [0.34929197327631967, 0.37313229019561134, 0.3...   \n",
       "7  [0.34929815778903683, 0.37314702774407565, 0.3...   \n",
       "8  [0.34930178232486936, 0.3731501974840073, 0.39...   \n",
       "\n",
       "                                                  xf  \\\n",
       "0  [0.0, 156.25, 312.5, 468.75, 625.0, 781.25, 93...   \n",
       "1  [0.0, 156.25, 312.5, 468.75, 625.0, 781.25, 93...   \n",
       "2  [0.0, 156.25, 312.5, 468.75, 625.0, 781.25, 93...   \n",
       "3  [0.0, 156.25, 312.5, 468.75, 625.0, 781.25, 93...   \n",
       "4  [0.0, 156.25, 312.5, 468.75, 625.0, 781.25, 93...   \n",
       "5  [0.0, 156.25, 312.5, 468.75, 625.0, 781.25, 93...   \n",
       "6  [0.0, 156.25, 312.5, 468.75, 625.0, 781.25, 93...   \n",
       "7  [0.0, 156.25, 312.5, 468.75, 625.0, 781.25, 93...   \n",
       "8  [0.0, 156.25, 312.5, 468.75, 625.0, 781.25, 93...   \n",
       "\n",
       "                                                  yf        snr      enob  \n",
       "0  [0.06449683337418258, 0.0019642584005241746, 0...  45.564743  7.276535  \n",
       "1  [0.06448555231661202, 0.0019441339271491925, 0...  45.941958  7.339196  \n",
       "2  [0.06450524373973615, 0.0019292629719436232, 0...  45.960781  7.342322  \n",
       "3  [0.06449738883857263, 0.0019542129915246917, 0...  45.602634  7.282830  \n",
       "4  [0.06448048557884303, 0.0019474082714903494, 0...  45.854533  7.324673  \n",
       "5  [0.06450379806269695, 0.001939339631435791, 0....  45.820175  7.318966  \n",
       "6  [0.06448417092729596, 0.001959058573565952, 0....  45.585374  7.279962  \n",
       "7  [0.06446118828226022, 0.001958222127999247, 0....  45.802977  7.316109  \n",
       "8  [0.06447923439156891, 0.0019498657803991776, 0...  45.781008  7.312460  "
      ]
     },
     "execution_count": 46,
     "metadata": {},
     "output_type": "execute_result"
    }
   ],
   "source": [
    "ndf = pd.DataFrame(df[\"result\"].to_list(), index=df.index)\n",
    "df[ndf.columns] = ndf\n",
    "df.drop(columns=[\"result\"], inplace=True)\n",
    "df"
   ]
  },
  {
   "cell_type": "code",
   "execution_count": 47,
   "id": "b85590d4",
   "metadata": {},
   "outputs": [
    {
     "data": {
      "text/html": [
       "<div>\n",
       "<style scoped>\n",
       "    .dataframe tbody tr th:only-of-type {\n",
       "        vertical-align: middle;\n",
       "    }\n",
       "\n",
       "    .dataframe tbody tr th {\n",
       "        vertical-align: top;\n",
       "    }\n",
       "\n",
       "    .dataframe thead th {\n",
       "        text-align: right;\n",
       "    }\n",
       "</style>\n",
       "<table border=\"1\" class=\"dataframe\">\n",
       "  <thead>\n",
       "    <tr style=\"text-align: right;\">\n",
       "      <th></th>\n",
       "      <th>fs</th>\n",
       "      <th>order_interpolator</th>\n",
       "      <th>t_start</th>\n",
       "      <th>t_stop</th>\n",
       "      <th>snr</th>\n",
       "      <th>enob</th>\n",
       "    </tr>\n",
       "  </thead>\n",
       "  <tbody>\n",
       "    <tr>\n",
       "      <th>0</th>\n",
       "      <td>20000.0</td>\n",
       "      <td>1</td>\n",
       "      <td>0.00104</td>\n",
       "      <td>0.00744</td>\n",
       "      <td>45.564743</td>\n",
       "      <td>7.276535</td>\n",
       "    </tr>\n",
       "    <tr>\n",
       "      <th>1</th>\n",
       "      <td>20000.0</td>\n",
       "      <td>3</td>\n",
       "      <td>0.00104</td>\n",
       "      <td>0.00744</td>\n",
       "      <td>45.941958</td>\n",
       "      <td>7.339196</td>\n",
       "    </tr>\n",
       "    <tr>\n",
       "      <th>2</th>\n",
       "      <td>20000.0</td>\n",
       "      <td>5</td>\n",
       "      <td>0.00104</td>\n",
       "      <td>0.00744</td>\n",
       "      <td>45.960781</td>\n",
       "      <td>7.342322</td>\n",
       "    </tr>\n",
       "    <tr>\n",
       "      <th>3</th>\n",
       "      <td>40000.0</td>\n",
       "      <td>1</td>\n",
       "      <td>0.00104</td>\n",
       "      <td>0.00744</td>\n",
       "      <td>45.602634</td>\n",
       "      <td>7.282830</td>\n",
       "    </tr>\n",
       "    <tr>\n",
       "      <th>4</th>\n",
       "      <td>40000.0</td>\n",
       "      <td>3</td>\n",
       "      <td>0.00104</td>\n",
       "      <td>0.00744</td>\n",
       "      <td>45.854533</td>\n",
       "      <td>7.324673</td>\n",
       "    </tr>\n",
       "    <tr>\n",
       "      <th>5</th>\n",
       "      <td>40000.0</td>\n",
       "      <td>5</td>\n",
       "      <td>0.00104</td>\n",
       "      <td>0.00744</td>\n",
       "      <td>45.820175</td>\n",
       "      <td>7.318966</td>\n",
       "    </tr>\n",
       "    <tr>\n",
       "      <th>6</th>\n",
       "      <td>100000.0</td>\n",
       "      <td>1</td>\n",
       "      <td>0.00104</td>\n",
       "      <td>0.00744</td>\n",
       "      <td>45.585374</td>\n",
       "      <td>7.279962</td>\n",
       "    </tr>\n",
       "    <tr>\n",
       "      <th>7</th>\n",
       "      <td>100000.0</td>\n",
       "      <td>3</td>\n",
       "      <td>0.00104</td>\n",
       "      <td>0.00744</td>\n",
       "      <td>45.802977</td>\n",
       "      <td>7.316109</td>\n",
       "    </tr>\n",
       "    <tr>\n",
       "      <th>8</th>\n",
       "      <td>100000.0</td>\n",
       "      <td>5</td>\n",
       "      <td>0.00104</td>\n",
       "      <td>0.00744</td>\n",
       "      <td>45.781008</td>\n",
       "      <td>7.312460</td>\n",
       "    </tr>\n",
       "  </tbody>\n",
       "</table>\n",
       "</div>"
      ],
      "text/plain": [
       "         fs  order_interpolator  t_start   t_stop        snr      enob\n",
       "0   20000.0                   1  0.00104  0.00744  45.564743  7.276535\n",
       "1   20000.0                   3  0.00104  0.00744  45.941958  7.339196\n",
       "2   20000.0                   5  0.00104  0.00744  45.960781  7.342322\n",
       "3   40000.0                   1  0.00104  0.00744  45.602634  7.282830\n",
       "4   40000.0                   3  0.00104  0.00744  45.854533  7.324673\n",
       "5   40000.0                   5  0.00104  0.00744  45.820175  7.318966\n",
       "6  100000.0                   1  0.00104  0.00744  45.585374  7.279962\n",
       "7  100000.0                   3  0.00104  0.00744  45.802977  7.316109\n",
       "8  100000.0                   5  0.00104  0.00744  45.781008  7.312460"
      ]
     },
     "execution_count": 47,
     "metadata": {},
     "output_type": "execute_result"
    }
   ],
   "source": [
    "df.drop(columns=[\"xf\",\"yf\", \"interpolated\", \"time\"])"
   ]
  },
  {
   "cell_type": "code",
   "execution_count": 48,
   "id": "02d09891",
   "metadata": {},
   "outputs": [
    {
     "data": {
      "text/plain": [
       "7.32665935174805"
      ]
     },
     "execution_count": 48,
     "metadata": {},
     "output_type": "execute_result"
    }
   ],
   "source": [
    "enob = df.loc[df[\"order_interpolator\"]==3, \"enob\"].mean()\n",
    "enob"
   ]
  },
  {
   "cell_type": "code",
   "execution_count": 49,
   "id": "ea833ffb",
   "metadata": {},
   "outputs": [
    {
     "data": {
      "text/plain": [
       "6.696752235985917e-13"
      ]
     },
     "execution_count": 49,
     "metadata": {},
     "output_type": "execute_result"
    }
   ],
   "source": [
    "power = 4.3e-6\n",
    "fom = power/(40e3*(2**enob))\n",
    "fom"
   ]
  }
 ],
 "metadata": {
  "kernelspec": {
   "display_name": "Python 3 (ipykernel)",
   "language": "python",
   "name": "python3"
  },
  "language_info": {
   "codemirror_mode": {
    "name": "ipython",
    "version": 3
   },
   "file_extension": ".py",
   "mimetype": "text/x-python",
   "name": "python",
   "nbconvert_exporter": "python",
   "pygments_lexer": "ipython3",
   "version": "3.10.4"
  }
 },
 "nbformat": 4,
 "nbformat_minor": 5
}
