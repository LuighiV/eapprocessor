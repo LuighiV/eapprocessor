{
 "cells": [
  {
   "cell_type": "code",
   "execution_count": 1,
   "id": "f5051988",
   "metadata": {},
   "outputs": [],
   "source": [
    "%load_ext autoreload\n",
    "%autoreload 2"
   ]
  },
  {
   "cell_type": "code",
   "execution_count": 2,
   "id": "e292853a",
   "metadata": {},
   "outputs": [],
   "source": [
    "SIMULATION_OUTPUT=\"/mnt/Archivos/Nextcloud/MaestriaPUCP/Thesis/development/project\""
   ]
  },
  {
   "cell_type": "code",
   "execution_count": 3,
   "id": "7722e170",
   "metadata": {},
   "outputs": [],
   "source": [
    "import pandas as pd"
   ]
  },
  {
   "cell_type": "code",
   "execution_count": 4,
   "id": "aed5d8c6",
   "metadata": {},
   "outputs": [],
   "source": [
    "RELATIVE_FILE_PATH=\"results/output_lcadc_comp_single_stage_reset_bias_v3.vcsv\""
   ]
  },
  {
   "cell_type": "code",
   "execution_count": 5,
   "id": "a8abcadc",
   "metadata": {},
   "outputs": [],
   "source": [
    "from pathlib import Path"
   ]
  },
  {
   "cell_type": "code",
   "execution_count": 6,
   "id": "3c287400",
   "metadata": {},
   "outputs": [],
   "source": [
    "filepath = Path(SIMULATION_OUTPUT)/RELATIVE_FILE_PATH"
   ]
  },
  {
   "cell_type": "code",
   "execution_count": 7,
   "id": "5f2c8152",
   "metadata": {},
   "outputs": [],
   "source": [
    "df = pd.read_csv(filepath, comment=';', header=None, \n",
    "                 names=[\"time_VOUT\", \"VOUT\"])\n",
    "df = df[[\"time_VOUT\", \"VOUT\"]].copy()"
   ]
  },
  {
   "cell_type": "code",
   "execution_count": 8,
   "id": "a3a1de25",
   "metadata": {},
   "outputs": [
    {
     "data": {
      "text/html": [
       "<div>\n",
       "<style scoped>\n",
       "    .dataframe tbody tr th:only-of-type {\n",
       "        vertical-align: middle;\n",
       "    }\n",
       "\n",
       "    .dataframe tbody tr th {\n",
       "        vertical-align: top;\n",
       "    }\n",
       "\n",
       "    .dataframe thead th {\n",
       "        text-align: right;\n",
       "    }\n",
       "</style>\n",
       "<table border=\"1\" class=\"dataframe\">\n",
       "  <thead>\n",
       "    <tr style=\"text-align: right;\">\n",
       "      <th></th>\n",
       "      <th>time_VOUT</th>\n",
       "      <th>VOUT</th>\n",
       "    </tr>\n",
       "  </thead>\n",
       "  <tbody>\n",
       "    <tr>\n",
       "      <th>0</th>\n",
       "      <td>0.000000e+00</td>\n",
       "      <td>0.0</td>\n",
       "    </tr>\n",
       "    <tr>\n",
       "      <th>1</th>\n",
       "      <td>1.953125e-08</td>\n",
       "      <td>0.0</td>\n",
       "    </tr>\n",
       "    <tr>\n",
       "      <th>2</th>\n",
       "      <td>2.346127e-08</td>\n",
       "      <td>0.0</td>\n",
       "    </tr>\n",
       "    <tr>\n",
       "      <th>3</th>\n",
       "      <td>3.132131e-08</td>\n",
       "      <td>0.0</td>\n",
       "    </tr>\n",
       "    <tr>\n",
       "      <th>4</th>\n",
       "      <td>3.728972e-08</td>\n",
       "      <td>0.0</td>\n",
       "    </tr>\n",
       "  </tbody>\n",
       "</table>\n",
       "</div>"
      ],
      "text/plain": [
       "      time_VOUT  VOUT\n",
       "0  0.000000e+00   0.0\n",
       "1  1.953125e-08   0.0\n",
       "2  2.346127e-08   0.0\n",
       "3  3.132131e-08   0.0\n",
       "4  3.728972e-08   0.0"
      ]
     },
     "execution_count": 8,
     "metadata": {},
     "output_type": "execute_result"
    }
   ],
   "source": [
    "df.head()"
   ]
  },
  {
   "cell_type": "code",
   "execution_count": 9,
   "id": "bd20e788",
   "metadata": {},
   "outputs": [],
   "source": [
    "import numpy as np"
   ]
  },
  {
   "cell_type": "code",
   "execution_count": 10,
   "id": "e1d9c3a3",
   "metadata": {},
   "outputs": [],
   "source": [
    "df[\"delayed\"] = df[\"VOUT\"].shift(periods=1, fill_value=0)"
   ]
  },
  {
   "cell_type": "code",
   "execution_count": 11,
   "id": "de69e035",
   "metadata": {},
   "outputs": [
    {
     "data": {
      "text/html": [
       "<div>\n",
       "<style scoped>\n",
       "    .dataframe tbody tr th:only-of-type {\n",
       "        vertical-align: middle;\n",
       "    }\n",
       "\n",
       "    .dataframe tbody tr th {\n",
       "        vertical-align: top;\n",
       "    }\n",
       "\n",
       "    .dataframe thead th {\n",
       "        text-align: right;\n",
       "    }\n",
       "</style>\n",
       "<table border=\"1\" class=\"dataframe\">\n",
       "  <thead>\n",
       "    <tr style=\"text-align: right;\">\n",
       "      <th></th>\n",
       "      <th>time_VOUT</th>\n",
       "      <th>VOUT</th>\n",
       "      <th>delayed</th>\n",
       "    </tr>\n",
       "  </thead>\n",
       "  <tbody>\n",
       "    <tr>\n",
       "      <th>0</th>\n",
       "      <td>0.000000e+00</td>\n",
       "      <td>0.0</td>\n",
       "      <td>0.0</td>\n",
       "    </tr>\n",
       "    <tr>\n",
       "      <th>1</th>\n",
       "      <td>1.953125e-08</td>\n",
       "      <td>0.0</td>\n",
       "      <td>0.0</td>\n",
       "    </tr>\n",
       "    <tr>\n",
       "      <th>2</th>\n",
       "      <td>2.346127e-08</td>\n",
       "      <td>0.0</td>\n",
       "      <td>0.0</td>\n",
       "    </tr>\n",
       "    <tr>\n",
       "      <th>3</th>\n",
       "      <td>3.132131e-08</td>\n",
       "      <td>0.0</td>\n",
       "      <td>0.0</td>\n",
       "    </tr>\n",
       "    <tr>\n",
       "      <th>4</th>\n",
       "      <td>3.728972e-08</td>\n",
       "      <td>0.0</td>\n",
       "      <td>0.0</td>\n",
       "    </tr>\n",
       "  </tbody>\n",
       "</table>\n",
       "</div>"
      ],
      "text/plain": [
       "      time_VOUT  VOUT  delayed\n",
       "0  0.000000e+00   0.0      0.0\n",
       "1  1.953125e-08   0.0      0.0\n",
       "2  2.346127e-08   0.0      0.0\n",
       "3  3.132131e-08   0.0      0.0\n",
       "4  3.728972e-08   0.0      0.0"
      ]
     },
     "execution_count": 11,
     "metadata": {},
     "output_type": "execute_result"
    }
   ],
   "source": [
    "df.head()"
   ]
  },
  {
   "cell_type": "code",
   "execution_count": 12,
   "id": "4b07a2a1",
   "metadata": {},
   "outputs": [],
   "source": [
    "df[\"abs_diff\"] = np.absolute(df[\"VOUT\"] - df[\"delayed\"])"
   ]
  },
  {
   "cell_type": "code",
   "execution_count": 13,
   "id": "450d2e56",
   "metadata": {},
   "outputs": [
    {
     "data": {
      "text/html": [
       "<div>\n",
       "<style scoped>\n",
       "    .dataframe tbody tr th:only-of-type {\n",
       "        vertical-align: middle;\n",
       "    }\n",
       "\n",
       "    .dataframe tbody tr th {\n",
       "        vertical-align: top;\n",
       "    }\n",
       "\n",
       "    .dataframe thead th {\n",
       "        text-align: right;\n",
       "    }\n",
       "</style>\n",
       "<table border=\"1\" class=\"dataframe\">\n",
       "  <thead>\n",
       "    <tr style=\"text-align: right;\">\n",
       "      <th></th>\n",
       "      <th>time_VOUT</th>\n",
       "      <th>VOUT</th>\n",
       "      <th>delayed</th>\n",
       "      <th>abs_diff</th>\n",
       "    </tr>\n",
       "  </thead>\n",
       "  <tbody>\n",
       "    <tr>\n",
       "      <th>0</th>\n",
       "      <td>0.000000e+00</td>\n",
       "      <td>0.0</td>\n",
       "      <td>0.0</td>\n",
       "      <td>0.0</td>\n",
       "    </tr>\n",
       "    <tr>\n",
       "      <th>1</th>\n",
       "      <td>1.953125e-08</td>\n",
       "      <td>0.0</td>\n",
       "      <td>0.0</td>\n",
       "      <td>0.0</td>\n",
       "    </tr>\n",
       "    <tr>\n",
       "      <th>2</th>\n",
       "      <td>2.346127e-08</td>\n",
       "      <td>0.0</td>\n",
       "      <td>0.0</td>\n",
       "      <td>0.0</td>\n",
       "    </tr>\n",
       "    <tr>\n",
       "      <th>3</th>\n",
       "      <td>3.132131e-08</td>\n",
       "      <td>0.0</td>\n",
       "      <td>0.0</td>\n",
       "      <td>0.0</td>\n",
       "    </tr>\n",
       "    <tr>\n",
       "      <th>4</th>\n",
       "      <td>3.728972e-08</td>\n",
       "      <td>0.0</td>\n",
       "      <td>0.0</td>\n",
       "      <td>0.0</td>\n",
       "    </tr>\n",
       "  </tbody>\n",
       "</table>\n",
       "</div>"
      ],
      "text/plain": [
       "      time_VOUT  VOUT  delayed  abs_diff\n",
       "0  0.000000e+00   0.0      0.0       0.0\n",
       "1  1.953125e-08   0.0      0.0       0.0\n",
       "2  2.346127e-08   0.0      0.0       0.0\n",
       "3  3.132131e-08   0.0      0.0       0.0\n",
       "4  3.728972e-08   0.0      0.0       0.0"
      ]
     },
     "execution_count": 13,
     "metadata": {},
     "output_type": "execute_result"
    }
   ],
   "source": [
    "df.head()"
   ]
  },
  {
   "cell_type": "code",
   "execution_count": 14,
   "id": "287be797",
   "metadata": {},
   "outputs": [],
   "source": [
    "ndf = df.loc[df[\"abs_diff\"]!=0].copy()"
   ]
  },
  {
   "cell_type": "code",
   "execution_count": 15,
   "id": "f0ae0d7f",
   "metadata": {},
   "outputs": [
    {
     "data": {
      "text/html": [
       "<div>\n",
       "<style scoped>\n",
       "    .dataframe tbody tr th:only-of-type {\n",
       "        vertical-align: middle;\n",
       "    }\n",
       "\n",
       "    .dataframe tbody tr th {\n",
       "        vertical-align: top;\n",
       "    }\n",
       "\n",
       "    .dataframe thead th {\n",
       "        text-align: right;\n",
       "    }\n",
       "</style>\n",
       "<table border=\"1\" class=\"dataframe\">\n",
       "  <thead>\n",
       "    <tr style=\"text-align: right;\">\n",
       "      <th></th>\n",
       "      <th>time_VOUT</th>\n",
       "      <th>VOUT</th>\n",
       "      <th>delayed</th>\n",
       "      <th>abs_diff</th>\n",
       "    </tr>\n",
       "  </thead>\n",
       "  <tbody>\n",
       "    <tr>\n",
       "      <th>3142</th>\n",
       "      <td>0.000005</td>\n",
       "      <td>0.000006</td>\n",
       "      <td>0.000000</td>\n",
       "      <td>0.000006</td>\n",
       "    </tr>\n",
       "    <tr>\n",
       "      <th>3143</th>\n",
       "      <td>0.000005</td>\n",
       "      <td>0.000012</td>\n",
       "      <td>0.000006</td>\n",
       "      <td>0.000006</td>\n",
       "    </tr>\n",
       "    <tr>\n",
       "      <th>3144</th>\n",
       "      <td>0.000005</td>\n",
       "      <td>0.000018</td>\n",
       "      <td>0.000012</td>\n",
       "      <td>0.000006</td>\n",
       "    </tr>\n",
       "    <tr>\n",
       "      <th>3145</th>\n",
       "      <td>0.000005</td>\n",
       "      <td>0.000025</td>\n",
       "      <td>0.000018</td>\n",
       "      <td>0.000007</td>\n",
       "    </tr>\n",
       "    <tr>\n",
       "      <th>3146</th>\n",
       "      <td>0.000005</td>\n",
       "      <td>0.000034</td>\n",
       "      <td>0.000025</td>\n",
       "      <td>0.000008</td>\n",
       "    </tr>\n",
       "    <tr>\n",
       "      <th>...</th>\n",
       "      <td>...</td>\n",
       "      <td>...</td>\n",
       "      <td>...</td>\n",
       "      <td>...</td>\n",
       "    </tr>\n",
       "    <tr>\n",
       "      <th>2119836</th>\n",
       "      <td>0.014977</td>\n",
       "      <td>-0.379520</td>\n",
       "      <td>-0.380422</td>\n",
       "      <td>0.000902</td>\n",
       "    </tr>\n",
       "    <tr>\n",
       "      <th>2119837</th>\n",
       "      <td>0.014977</td>\n",
       "      <td>-0.378437</td>\n",
       "      <td>-0.379520</td>\n",
       "      <td>0.001083</td>\n",
       "    </tr>\n",
       "    <tr>\n",
       "      <th>2119838</th>\n",
       "      <td>0.014977</td>\n",
       "      <td>-0.377131</td>\n",
       "      <td>-0.378437</td>\n",
       "      <td>0.001306</td>\n",
       "    </tr>\n",
       "    <tr>\n",
       "      <th>2119839</th>\n",
       "      <td>0.014977</td>\n",
       "      <td>-0.376065</td>\n",
       "      <td>-0.377131</td>\n",
       "      <td>0.001065</td>\n",
       "    </tr>\n",
       "    <tr>\n",
       "      <th>2119840</th>\n",
       "      <td>0.014977</td>\n",
       "      <td>-0.375000</td>\n",
       "      <td>-0.376065</td>\n",
       "      <td>0.001065</td>\n",
       "    </tr>\n",
       "  </tbody>\n",
       "</table>\n",
       "<p>433315 rows × 4 columns</p>\n",
       "</div>"
      ],
      "text/plain": [
       "         time_VOUT      VOUT   delayed  abs_diff\n",
       "3142      0.000005  0.000006  0.000000  0.000006\n",
       "3143      0.000005  0.000012  0.000006  0.000006\n",
       "3144      0.000005  0.000018  0.000012  0.000006\n",
       "3145      0.000005  0.000025  0.000018  0.000007\n",
       "3146      0.000005  0.000034  0.000025  0.000008\n",
       "...            ...       ...       ...       ...\n",
       "2119836   0.014977 -0.379520 -0.380422  0.000902\n",
       "2119837   0.014977 -0.378437 -0.379520  0.001083\n",
       "2119838   0.014977 -0.377131 -0.378437  0.001306\n",
       "2119839   0.014977 -0.376065 -0.377131  0.001065\n",
       "2119840   0.014977 -0.375000 -0.376065  0.001065\n",
       "\n",
       "[433315 rows x 4 columns]"
      ]
     },
     "execution_count": 15,
     "metadata": {},
     "output_type": "execute_result"
    }
   ],
   "source": [
    "ndf"
   ]
  },
  {
   "cell_type": "code",
   "execution_count": 16,
   "id": "a4d981c8",
   "metadata": {},
   "outputs": [],
   "source": [
    "ndf[\"time_diff\"] = ndf[\"time_VOUT\"].shift(periods=-1, fill_value=0) - ndf[\"time_VOUT\"]"
   ]
  },
  {
   "cell_type": "code",
   "execution_count": 17,
   "id": "845fa89b",
   "metadata": {},
   "outputs": [
    {
     "data": {
      "text/html": [
       "<div>\n",
       "<style scoped>\n",
       "    .dataframe tbody tr th:only-of-type {\n",
       "        vertical-align: middle;\n",
       "    }\n",
       "\n",
       "    .dataframe tbody tr th {\n",
       "        vertical-align: top;\n",
       "    }\n",
       "\n",
       "    .dataframe thead th {\n",
       "        text-align: right;\n",
       "    }\n",
       "</style>\n",
       "<table border=\"1\" class=\"dataframe\">\n",
       "  <thead>\n",
       "    <tr style=\"text-align: right;\">\n",
       "      <th></th>\n",
       "      <th>time_VOUT</th>\n",
       "      <th>VOUT</th>\n",
       "      <th>delayed</th>\n",
       "      <th>abs_diff</th>\n",
       "      <th>time_diff</th>\n",
       "    </tr>\n",
       "  </thead>\n",
       "  <tbody>\n",
       "    <tr>\n",
       "      <th>3142</th>\n",
       "      <td>0.000005</td>\n",
       "      <td>0.000006</td>\n",
       "      <td>0.000000</td>\n",
       "      <td>0.000006</td>\n",
       "      <td>3.174535e-12</td>\n",
       "    </tr>\n",
       "    <tr>\n",
       "      <th>3143</th>\n",
       "      <td>0.000005</td>\n",
       "      <td>0.000012</td>\n",
       "      <td>0.000006</td>\n",
       "      <td>0.000006</td>\n",
       "      <td>3.432519e-12</td>\n",
       "    </tr>\n",
       "    <tr>\n",
       "      <th>3144</th>\n",
       "      <td>0.000005</td>\n",
       "      <td>0.000018</td>\n",
       "      <td>0.000012</td>\n",
       "      <td>0.000006</td>\n",
       "      <td>3.838286e-12</td>\n",
       "    </tr>\n",
       "    <tr>\n",
       "      <th>3145</th>\n",
       "      <td>0.000005</td>\n",
       "      <td>0.000025</td>\n",
       "      <td>0.000018</td>\n",
       "      <td>0.000007</td>\n",
       "      <td>4.398508e-12</td>\n",
       "    </tr>\n",
       "    <tr>\n",
       "      <th>3146</th>\n",
       "      <td>0.000005</td>\n",
       "      <td>0.000034</td>\n",
       "      <td>0.000025</td>\n",
       "      <td>0.000008</td>\n",
       "      <td>5.207423e-12</td>\n",
       "    </tr>\n",
       "    <tr>\n",
       "      <th>...</th>\n",
       "      <td>...</td>\n",
       "      <td>...</td>\n",
       "      <td>...</td>\n",
       "      <td>...</td>\n",
       "      <td>...</td>\n",
       "    </tr>\n",
       "    <tr>\n",
       "      <th>2119836</th>\n",
       "      <td>0.014977</td>\n",
       "      <td>-0.379520</td>\n",
       "      <td>-0.380422</td>\n",
       "      <td>0.000902</td>\n",
       "      <td>1.444204e-10</td>\n",
       "    </tr>\n",
       "    <tr>\n",
       "      <th>2119837</th>\n",
       "      <td>0.014977</td>\n",
       "      <td>-0.378437</td>\n",
       "      <td>-0.379520</td>\n",
       "      <td>0.001083</td>\n",
       "      <td>1.741097e-10</td>\n",
       "    </tr>\n",
       "    <tr>\n",
       "      <th>2119838</th>\n",
       "      <td>0.014977</td>\n",
       "      <td>-0.377131</td>\n",
       "      <td>-0.378437</td>\n",
       "      <td>0.001306</td>\n",
       "      <td>1.420545e-10</td>\n",
       "    </tr>\n",
       "    <tr>\n",
       "      <th>2119839</th>\n",
       "      <td>0.014977</td>\n",
       "      <td>-0.376065</td>\n",
       "      <td>-0.377131</td>\n",
       "      <td>0.001065</td>\n",
       "      <td>1.420544e-10</td>\n",
       "    </tr>\n",
       "    <tr>\n",
       "      <th>2119840</th>\n",
       "      <td>0.014977</td>\n",
       "      <td>-0.375000</td>\n",
       "      <td>-0.376065</td>\n",
       "      <td>0.001065</td>\n",
       "      <td>-1.497688e-02</td>\n",
       "    </tr>\n",
       "  </tbody>\n",
       "</table>\n",
       "<p>433315 rows × 5 columns</p>\n",
       "</div>"
      ],
      "text/plain": [
       "         time_VOUT      VOUT   delayed  abs_diff     time_diff\n",
       "3142      0.000005  0.000006  0.000000  0.000006  3.174535e-12\n",
       "3143      0.000005  0.000012  0.000006  0.000006  3.432519e-12\n",
       "3144      0.000005  0.000018  0.000012  0.000006  3.838286e-12\n",
       "3145      0.000005  0.000025  0.000018  0.000007  4.398508e-12\n",
       "3146      0.000005  0.000034  0.000025  0.000008  5.207423e-12\n",
       "...            ...       ...       ...       ...           ...\n",
       "2119836   0.014977 -0.379520 -0.380422  0.000902  1.444204e-10\n",
       "2119837   0.014977 -0.378437 -0.379520  0.001083  1.741097e-10\n",
       "2119838   0.014977 -0.377131 -0.378437  0.001306  1.420545e-10\n",
       "2119839   0.014977 -0.376065 -0.377131  0.001065  1.420544e-10\n",
       "2119840   0.014977 -0.375000 -0.376065  0.001065 -1.497688e-02\n",
       "\n",
       "[433315 rows x 5 columns]"
      ]
     },
     "execution_count": 17,
     "metadata": {},
     "output_type": "execute_result"
    }
   ],
   "source": [
    "ndf"
   ]
  },
  {
   "cell_type": "code",
   "execution_count": 18,
   "id": "5711c276",
   "metadata": {},
   "outputs": [],
   "source": [
    "sel_df = ndf.loc[ndf[\"time_diff\"]>1e-8].copy()"
   ]
  },
  {
   "cell_type": "code",
   "execution_count": 19,
   "id": "cf153a2f",
   "metadata": {},
   "outputs": [
    {
     "data": {
      "text/html": [
       "<div>\n",
       "<style scoped>\n",
       "    .dataframe tbody tr th:only-of-type {\n",
       "        vertical-align: middle;\n",
       "    }\n",
       "\n",
       "    .dataframe tbody tr th {\n",
       "        vertical-align: top;\n",
       "    }\n",
       "\n",
       "    .dataframe thead th {\n",
       "        text-align: right;\n",
       "    }\n",
       "</style>\n",
       "<table border=\"1\" class=\"dataframe\">\n",
       "  <thead>\n",
       "    <tr style=\"text-align: right;\">\n",
       "      <th></th>\n",
       "      <th>time_VOUT</th>\n",
       "      <th>VOUT</th>\n",
       "      <th>delayed</th>\n",
       "      <th>abs_diff</th>\n",
       "      <th>time_diff</th>\n",
       "    </tr>\n",
       "  </thead>\n",
       "  <tbody>\n",
       "    <tr>\n",
       "      <th>3347</th>\n",
       "      <td>0.000005</td>\n",
       "      <td>0.01875</td>\n",
       "      <td>0.017323</td>\n",
       "      <td>0.001427</td>\n",
       "      <td>3.690286e-07</td>\n",
       "    </tr>\n",
       "    <tr>\n",
       "      <th>5895</th>\n",
       "      <td>0.000006</td>\n",
       "      <td>0.00000</td>\n",
       "      <td>0.001196</td>\n",
       "      <td>0.001196</td>\n",
       "      <td>5.849686e-06</td>\n",
       "    </tr>\n",
       "    <tr>\n",
       "      <th>8540</th>\n",
       "      <td>0.000012</td>\n",
       "      <td>-0.01875</td>\n",
       "      <td>-0.017576</td>\n",
       "      <td>0.001174</td>\n",
       "      <td>4.993675e-06</td>\n",
       "    </tr>\n",
       "    <tr>\n",
       "      <th>9585</th>\n",
       "      <td>0.000017</td>\n",
       "      <td>-0.03750</td>\n",
       "      <td>-0.036231</td>\n",
       "      <td>0.001269</td>\n",
       "      <td>5.000679e-06</td>\n",
       "    </tr>\n",
       "    <tr>\n",
       "      <th>10629</th>\n",
       "      <td>0.000022</td>\n",
       "      <td>-0.05625</td>\n",
       "      <td>-0.054702</td>\n",
       "      <td>0.001548</td>\n",
       "      <td>5.019036e-06</td>\n",
       "    </tr>\n",
       "    <tr>\n",
       "      <th>...</th>\n",
       "      <td>...</td>\n",
       "      <td>...</td>\n",
       "      <td>...</td>\n",
       "      <td>...</td>\n",
       "      <td>...</td>\n",
       "    </tr>\n",
       "    <tr>\n",
       "      <th>2114413</th>\n",
       "      <td>0.014934</td>\n",
       "      <td>-0.46875</td>\n",
       "      <td>-0.470001</td>\n",
       "      <td>0.001251</td>\n",
       "      <td>1.001789e-05</td>\n",
       "    </tr>\n",
       "    <tr>\n",
       "      <th>2115514</th>\n",
       "      <td>0.014944</td>\n",
       "      <td>-0.45000</td>\n",
       "      <td>-0.450205</td>\n",
       "      <td>0.000205</td>\n",
       "      <td>9.030681e-06</td>\n",
       "    </tr>\n",
       "    <tr>\n",
       "      <th>2116530</th>\n",
       "      <td>0.014953</td>\n",
       "      <td>-0.43125</td>\n",
       "      <td>-0.432891</td>\n",
       "      <td>0.001641</td>\n",
       "      <td>8.303028e-06</td>\n",
       "    </tr>\n",
       "    <tr>\n",
       "      <th>2117622</th>\n",
       "      <td>0.014962</td>\n",
       "      <td>-0.41250</td>\n",
       "      <td>-0.414148</td>\n",
       "      <td>0.001648</td>\n",
       "      <td>7.760349e-06</td>\n",
       "    </tr>\n",
       "    <tr>\n",
       "      <th>2118675</th>\n",
       "      <td>0.014970</td>\n",
       "      <td>-0.39375</td>\n",
       "      <td>-0.394906</td>\n",
       "      <td>0.001156</td>\n",
       "      <td>7.322719e-06</td>\n",
       "    </tr>\n",
       "  </tbody>\n",
       "</table>\n",
       "<p>1895 rows × 5 columns</p>\n",
       "</div>"
      ],
      "text/plain": [
       "         time_VOUT     VOUT   delayed  abs_diff     time_diff\n",
       "3347      0.000005  0.01875  0.017323  0.001427  3.690286e-07\n",
       "5895      0.000006  0.00000  0.001196  0.001196  5.849686e-06\n",
       "8540      0.000012 -0.01875 -0.017576  0.001174  4.993675e-06\n",
       "9585      0.000017 -0.03750 -0.036231  0.001269  5.000679e-06\n",
       "10629     0.000022 -0.05625 -0.054702  0.001548  5.019036e-06\n",
       "...            ...      ...       ...       ...           ...\n",
       "2114413   0.014934 -0.46875 -0.470001  0.001251  1.001789e-05\n",
       "2115514   0.014944 -0.45000 -0.450205  0.000205  9.030681e-06\n",
       "2116530   0.014953 -0.43125 -0.432891  0.001641  8.303028e-06\n",
       "2117622   0.014962 -0.41250 -0.414148  0.001648  7.760349e-06\n",
       "2118675   0.014970 -0.39375 -0.394906  0.001156  7.322719e-06\n",
       "\n",
       "[1895 rows x 5 columns]"
      ]
     },
     "execution_count": 19,
     "metadata": {},
     "output_type": "execute_result"
    }
   ],
   "source": [
    "sel_df"
   ]
  },
  {
   "cell_type": "code",
   "execution_count": 20,
   "id": "5cf57fd6",
   "metadata": {},
   "outputs": [
    {
     "data": {
      "text/html": [
       "<div>\n",
       "<style scoped>\n",
       "    .dataframe tbody tr th:only-of-type {\n",
       "        vertical-align: middle;\n",
       "    }\n",
       "\n",
       "    .dataframe tbody tr th {\n",
       "        vertical-align: top;\n",
       "    }\n",
       "\n",
       "    .dataframe thead th {\n",
       "        text-align: right;\n",
       "    }\n",
       "</style>\n",
       "<table border=\"1\" class=\"dataframe\">\n",
       "  <thead>\n",
       "    <tr style=\"text-align: right;\">\n",
       "      <th></th>\n",
       "      <th>time_VOUT</th>\n",
       "      <th>VOUT</th>\n",
       "      <th>delayed</th>\n",
       "      <th>abs_diff</th>\n",
       "      <th>time_diff</th>\n",
       "    </tr>\n",
       "  </thead>\n",
       "  <tbody>\n",
       "    <tr>\n",
       "      <th>161261</th>\n",
       "      <td>0.001042</td>\n",
       "      <td>-0.41250</td>\n",
       "      <td>-0.410260</td>\n",
       "      <td>0.002240</td>\n",
       "      <td>0.000008</td>\n",
       "    </tr>\n",
       "    <tr>\n",
       "      <th>162300</th>\n",
       "      <td>0.001050</td>\n",
       "      <td>-0.43125</td>\n",
       "      <td>-0.429720</td>\n",
       "      <td>0.001530</td>\n",
       "      <td>0.000008</td>\n",
       "    </tr>\n",
       "    <tr>\n",
       "      <th>163453</th>\n",
       "      <td>0.001058</td>\n",
       "      <td>-0.45000</td>\n",
       "      <td>-0.448358</td>\n",
       "      <td>0.001642</td>\n",
       "      <td>0.000009</td>\n",
       "    </tr>\n",
       "    <tr>\n",
       "      <th>164563</th>\n",
       "      <td>0.001067</td>\n",
       "      <td>-0.46875</td>\n",
       "      <td>-0.467230</td>\n",
       "      <td>0.001520</td>\n",
       "      <td>0.000010</td>\n",
       "    </tr>\n",
       "    <tr>\n",
       "      <th>165595</th>\n",
       "      <td>0.001076</td>\n",
       "      <td>-0.48750</td>\n",
       "      <td>-0.485704</td>\n",
       "      <td>0.001796</td>\n",
       "      <td>0.000011</td>\n",
       "    </tr>\n",
       "  </tbody>\n",
       "</table>\n",
       "</div>"
      ],
      "text/plain": [
       "        time_VOUT     VOUT   delayed  abs_diff  time_diff\n",
       "161261   0.001042 -0.41250 -0.410260  0.002240   0.000008\n",
       "162300   0.001050 -0.43125 -0.429720  0.001530   0.000008\n",
       "163453   0.001058 -0.45000 -0.448358  0.001642   0.000009\n",
       "164563   0.001067 -0.46875 -0.467230  0.001520   0.000010\n",
       "165595   0.001076 -0.48750 -0.485704  0.001796   0.000011"
      ]
     },
     "execution_count": 20,
     "metadata": {},
     "output_type": "execute_result"
    }
   ],
   "source": [
    "nsel_df = sel_df[(sel_df[\"time_VOUT\"]>1.04e-3) & (sel_df[\"time_VOUT\"]<7.44e-3)]\n",
    "nsel_df.head()"
   ]
  },
  {
   "cell_type": "code",
   "execution_count": 21,
   "id": "747346c2",
   "metadata": {},
   "outputs": [],
   "source": [
    "import matplotlib.pylab as plt"
   ]
  },
  {
   "cell_type": "code",
   "execution_count": 22,
   "id": "7686eab3",
   "metadata": {},
   "outputs": [
    {
     "name": "stderr",
     "output_type": "stream",
     "text": [
      "/tmp/ipykernel_9016/91665010.py:2: FutureWarning: The behavior of `series[i:j]` with an integer-dtype index is deprecated. In a future version, this will be treated as *label-based* indexing, consistent with e.g. `series[i]` lookups. To retain the old behavior, use `series.iloc[i:j]`. To get the future behavior, use `series.loc[i:j]`.\n",
      "  diff = diff[:-1]\n"
     ]
    },
    {
     "data": {
      "text/plain": [
       "(array([405.,   0.,   0.,   0.,   0.,   0.,   0.,   0.,   0., 406.]),\n",
       " array([-0.01875, -0.015  , -0.01125, -0.0075 , -0.00375,  0.     ,\n",
       "         0.00375,  0.0075 ,  0.01125,  0.015  ,  0.01875]),\n",
       " <BarContainer object of 10 artists>)"
      ]
     },
     "execution_count": 22,
     "metadata": {},
     "output_type": "execute_result"
    },
    {
     "data": {
      "image/png": "[encoded data removed]",
      "text/plain": [
       "<Figure size 432x288 with 1 Axes>"
      ]
     },
     "metadata": {
      "needs_background": "light"
     },
     "output_type": "display_data"
    }
   ],
   "source": [
    "diff = nsel_df[\"VOUT\"].shift(periods=-1, fill_value=0) - nsel_df[\"VOUT\"]\n",
    "diff = diff[:-1]\n",
    "plt.hist(diff)"
   ]
  },
  {
   "cell_type": "code",
   "execution_count": 23,
   "id": "1daa07be",
   "metadata": {},
   "outputs": [
    {
     "data": {
      "text/plain": [
       "0.018749999999999878"
      ]
     },
     "execution_count": 23,
     "metadata": {},
     "output_type": "execute_result"
    }
   ],
   "source": [
    "min(np.abs(diff))"
   ]
  },
  {
   "cell_type": "code",
   "execution_count": 24,
   "id": "17535e28",
   "metadata": {},
   "outputs": [
    {
     "data": {
      "text/plain": [
       "5.101623739998864e-07"
      ]
     },
     "execution_count": 24,
     "metadata": {},
     "output_type": "execute_result"
    }
   ],
   "source": [
    "nsel_df[\"time_diff\"].min()"
   ]
  },
  {
   "cell_type": "code",
   "execution_count": 25,
   "id": "19dcc06c",
   "metadata": {},
   "outputs": [
    {
     "data": {
      "text/plain": [
       "1960160.2371409356"
      ]
     },
     "execution_count": 25,
     "metadata": {},
     "output_type": "execute_result"
    }
   ],
   "source": [
    "fmax = 1/nsel_df[\"time_diff\"].min()\n",
    "fmax"
   ]
  },
  {
   "cell_type": "code",
   "execution_count": 26,
   "id": "083473f5",
   "metadata": {},
   "outputs": [],
   "source": [
    "import matplotlib.pylab as plt"
   ]
  },
  {
   "cell_type": "code",
   "execution_count": 27,
   "id": "459a9ff0",
   "metadata": {
    "scrolled": false
   },
   "outputs": [
    {
     "data": {
      "text/plain": [
       "[<matplotlib.lines.Line2D at 0x7f6c547dfdc0>]"
      ]
     },
     "execution_count": 27,
     "metadata": {},
     "output_type": "execute_result"
    },
    {
     "data": {
      "image/png": "[encoded data removed]",
      "text/plain": [
       "<Figure size 864x576 with 1 Axes>"
      ]
     },
     "metadata": {
      "needs_background": "light"
     },
     "output_type": "display_data"
    }
   ],
   "source": [
    "fig = plt.figure(figsize=(12,8))\n",
    "ax = fig.add_subplot(1,1,1)\n",
    "ax.plot(sel_df[\"time_VOUT\"],sel_df[\"VOUT\"],'-')"
   ]
  },
  {
   "cell_type": "code",
   "execution_count": 28,
   "id": "d5cc7fa9",
   "metadata": {},
   "outputs": [],
   "source": [
    "from eapprocessor.tools.resample import resample, decimate"
   ]
  },
  {
   "cell_type": "code",
   "execution_count": 29,
   "id": "dfde736e",
   "metadata": {},
   "outputs": [],
   "source": [
    "fs = 20e3*128\n",
    "x = np.arange(0.00104, 0.00744, 1/fs)\n",
    "y = resample(sel_df[\"time_VOUT\"], sel_df[\"VOUT\"],x,3)"
   ]
  },
  {
   "cell_type": "code",
   "execution_count": 30,
   "id": "1a155ea4",
   "metadata": {},
   "outputs": [],
   "source": [
    "d_time,d_signal= decimate(x, y,16)\n",
    "d_time,d_signal= decimate(d_time, d_signal,8)"
   ]
  },
  {
   "cell_type": "code",
   "execution_count": 31,
   "id": "ba7b086e",
   "metadata": {},
   "outputs": [
    {
     "data": {
      "text/plain": [
       "[<matplotlib.lines.Line2D at 0x7f6c492a7c40>]"
      ]
     },
     "execution_count": 31,
     "metadata": {},
     "output_type": "execute_result"
    },
    {
     "data": {
      "image/png": "[encoded data removed]",
      "text/plain": [
       "<Figure size 432x288 with 1 Axes>"
      ]
     },
     "metadata": {
      "needs_background": "light"
     },
     "output_type": "display_data"
    }
   ],
   "source": [
    "plt.plot(x,y,\"-\")"
   ]
  },
  {
   "cell_type": "code",
   "execution_count": 32,
   "id": "a2922a9e",
   "metadata": {},
   "outputs": [],
   "source": [
    "from eapprocessor.tools.fft import fft"
   ]
  },
  {
   "cell_type": "code",
   "execution_count": 33,
   "id": "f2ebf335",
   "metadata": {},
   "outputs": [],
   "source": [
    "xf, yf = fft(np.array(y), fs)"
   ]
  },
  {
   "cell_type": "code",
   "execution_count": 34,
   "id": "eeeff934",
   "metadata": {},
   "outputs": [],
   "source": [
    "xf, yf = fft(np.array(d_signal), fs)"
   ]
  },
  {
   "cell_type": "code",
   "execution_count": 35,
   "id": "5d9d91ba",
   "metadata": {},
   "outputs": [],
   "source": [
    "def plot_spectrum_db(xf,yf,fs):\n",
    "    fig= plt.figure(figsize=(8,6))\n",
    "    ax = fig.add_subplot(1,1,1)\n",
    "    ax.plot(xf,20*np.log10(np.abs(yf)),\"--.\")\n",
    "    ax.grid()\n",
    "    ax.set_xlabel(\"Frequency (Hz)\")\n",
    "    ax.set_ylabel(\"Power density (dB)\")\n",
    "    ax.set_title(f\"Spectrum at {fs}Hz sampling\")"
   ]
  },
  {
   "cell_type": "code",
   "execution_count": 36,
   "id": "73eddf97",
   "metadata": {
    "scrolled": false
   },
   "outputs": [
    {
     "data": {
      "image/png": "[encoded data removed]",
      "text/plain": [
       "<Figure size 576x432 with 1 Axes>"
      ]
     },
     "metadata": {
      "needs_background": "light"
     },
     "output_type": "display_data"
    }
   ],
   "source": [
    "plot_spectrum_db(xf,yf,fs)"
   ]
  },
  {
   "cell_type": "code",
   "execution_count": 37,
   "id": "25634011",
   "metadata": {},
   "outputs": [],
   "source": [
    "def calculate_snr(yf):\n",
    "    peak_index = np.argmax(yf)\n",
    "    noise = np.delete(yf,[0, peak_index],None)\n",
    "    pw_signal = yf[peak_index]**2\n",
    "    pw_noise = np.sum(np.power(noise, 2))\n",
    "    return 10*np.log10(pw_signal/pw_noise)"
   ]
  },
  {
   "cell_type": "code",
   "execution_count": 38,
   "id": "65a98b69",
   "metadata": {},
   "outputs": [],
   "source": [
    "def calculate_enob(snr):\n",
    "    return (snr -1.76)/6.02"
   ]
  },
  {
   "cell_type": "code",
   "execution_count": 39,
   "id": "a4cfcf9b",
   "metadata": {},
   "outputs": [
    {
     "data": {
      "text/plain": [
       "37.68741458322644"
      ]
     },
     "execution_count": 39,
     "metadata": {},
     "output_type": "execute_result"
    }
   ],
   "source": [
    "calculate_snr(yf)"
   ]
  },
  {
   "cell_type": "code",
   "execution_count": 40,
   "id": "5c3c36c1",
   "metadata": {},
   "outputs": [
    {
     "data": {
      "text/plain": [
       "5.968009066981137"
      ]
     },
     "execution_count": 40,
     "metadata": {},
     "output_type": "execute_result"
    }
   ],
   "source": [
    "calculate_enob(calculate_snr(yf))"
   ]
  },
  {
   "cell_type": "code",
   "execution_count": 41,
   "id": "a5b9c137",
   "metadata": {},
   "outputs": [],
   "source": [
    "import itertools\n",
    "import pandas as pd\n",
    "from pathlib import Path"
   ]
  },
  {
   "cell_type": "code",
   "execution_count": 42,
   "id": "6a551837",
   "metadata": {},
   "outputs": [],
   "source": [
    "#Defining parameters\n",
    "kind_interpolator=[1,3,5]\n",
    "fs=[20e3,40e3,100e3]\n",
    "t_start=[0.00104]\n",
    "t_stop=[0.00744]\n"
   ]
  },
  {
   "cell_type": "code",
   "execution_count": 43,
   "id": "f604a48f",
   "metadata": {},
   "outputs": [
    {
     "data": {
      "text/plain": [
       "[[20000.0, 1, 0.00104, 0.00744],\n",
       " [20000.0, 3, 0.00104, 0.00744],\n",
       " [20000.0, 5, 0.00104, 0.00744],\n",
       " [40000.0, 1, 0.00104, 0.00744],\n",
       " [40000.0, 3, 0.00104, 0.00744],\n",
       " [40000.0, 5, 0.00104, 0.00744],\n",
       " [100000.0, 1, 0.00104, 0.00744],\n",
       " [100000.0, 3, 0.00104, 0.00744],\n",
       " [100000.0, 5, 0.00104, 0.00744]]"
      ]
     },
     "execution_count": 43,
     "metadata": {},
     "output_type": "execute_result"
    }
   ],
   "source": [
    "args = [list(x) for x in itertools.product(fs,kind_interpolator, t_start, t_stop)]\n",
    "args"
   ]
  },
  {
   "cell_type": "code",
   "execution_count": 44,
   "id": "1ea32882",
   "metadata": {},
   "outputs": [],
   "source": [
    "def evaluate_parameters(*args):\n",
    "    x = np.arange(args[2], args[3], 1/args[0])\n",
    "    y = resample(sel_df[\"time_VOUT\"], sel_df[\"VOUT\"],x,args[1])\n",
    "    xf, yf = fft(np.array(y), args[0])\n",
    "    snr = calculate_snr(yf)\n",
    "    enob = calculate_enob(snr)\n",
    "    return {\n",
    "        \"time\": x,\n",
    "        \"interpolated\":y,\n",
    "        \"xf\":xf,\n",
    "        \"yf\":yf,\n",
    "        \"snr\": snr,\n",
    "        \"enob\": enob\n",
    "    }"
   ]
  },
  {
   "cell_type": "code",
   "execution_count": 45,
   "id": "11c298b9",
   "metadata": {},
   "outputs": [],
   "source": [
    "rows = [ x + [evaluate_parameters(*x)] for x in args]"
   ]
  },
  {
   "cell_type": "code",
   "execution_count": 46,
   "id": "bf4c9ab2",
   "metadata": {},
   "outputs": [
    {
     "data": {
      "text/html": [
       "<div>\n",
       "<style scoped>\n",
       "    .dataframe tbody tr th:only-of-type {\n",
       "        vertical-align: middle;\n",
       "    }\n",
       "\n",
       "    .dataframe tbody tr th {\n",
       "        vertical-align: top;\n",
       "    }\n",
       "\n",
       "    .dataframe thead th {\n",
       "        text-align: right;\n",
       "    }\n",
       "</style>\n",
       "<table border=\"1\" class=\"dataframe\">\n",
       "  <thead>\n",
       "    <tr style=\"text-align: right;\">\n",
       "      <th></th>\n",
       "      <th>fs</th>\n",
       "      <th>order_interpolator</th>\n",
       "      <th>t_start</th>\n",
       "      <th>t_stop</th>\n",
       "      <th>result</th>\n",
       "    </tr>\n",
       "  </thead>\n",
       "  <tbody>\n",
       "    <tr>\n",
       "      <th>0</th>\n",
       "      <td>20000.0</td>\n",
       "      <td>1</td>\n",
       "      <td>0.00104</td>\n",
       "      <td>0.00744</td>\n",
       "      <td>{'time': [0.00104, 0.0010899999999999998, 0.00...</td>\n",
       "    </tr>\n",
       "    <tr>\n",
       "      <th>1</th>\n",
       "      <td>20000.0</td>\n",
       "      <td>3</td>\n",
       "      <td>0.00104</td>\n",
       "      <td>0.00744</td>\n",
       "      <td>{'time': [0.00104, 0.0010899999999999998, 0.00...</td>\n",
       "    </tr>\n",
       "    <tr>\n",
       "      <th>2</th>\n",
       "      <td>20000.0</td>\n",
       "      <td>5</td>\n",
       "      <td>0.00104</td>\n",
       "      <td>0.00744</td>\n",
       "      <td>{'time': [0.00104, 0.0010899999999999998, 0.00...</td>\n",
       "    </tr>\n",
       "    <tr>\n",
       "      <th>3</th>\n",
       "      <td>40000.0</td>\n",
       "      <td>1</td>\n",
       "      <td>0.00104</td>\n",
       "      <td>0.00744</td>\n",
       "      <td>{'time': [0.00104, 0.001065, 0.00109, 0.001115...</td>\n",
       "    </tr>\n",
       "    <tr>\n",
       "      <th>4</th>\n",
       "      <td>40000.0</td>\n",
       "      <td>3</td>\n",
       "      <td>0.00104</td>\n",
       "      <td>0.00744</td>\n",
       "      <td>{'time': [0.00104, 0.001065, 0.00109, 0.001115...</td>\n",
       "    </tr>\n",
       "    <tr>\n",
       "      <th>5</th>\n",
       "      <td>40000.0</td>\n",
       "      <td>5</td>\n",
       "      <td>0.00104</td>\n",
       "      <td>0.00744</td>\n",
       "      <td>{'time': [0.00104, 0.001065, 0.00109, 0.001115...</td>\n",
       "    </tr>\n",
       "    <tr>\n",
       "      <th>6</th>\n",
       "      <td>100000.0</td>\n",
       "      <td>1</td>\n",
       "      <td>0.00104</td>\n",
       "      <td>0.00744</td>\n",
       "      <td>{'time': [0.00104, 0.00105, 0.00106, 0.00107, ...</td>\n",
       "    </tr>\n",
       "    <tr>\n",
       "      <th>7</th>\n",
       "      <td>100000.0</td>\n",
       "      <td>3</td>\n",
       "      <td>0.00104</td>\n",
       "      <td>0.00744</td>\n",
       "      <td>{'time': [0.00104, 0.00105, 0.00106, 0.00107, ...</td>\n",
       "    </tr>\n",
       "    <tr>\n",
       "      <th>8</th>\n",
       "      <td>100000.0</td>\n",
       "      <td>5</td>\n",
       "      <td>0.00104</td>\n",
       "      <td>0.00744</td>\n",
       "      <td>{'time': [0.00104, 0.00105, 0.00106, 0.00107, ...</td>\n",
       "    </tr>\n",
       "  </tbody>\n",
       "</table>\n",
       "</div>"
      ],
      "text/plain": [
       "         fs  order_interpolator  t_start   t_stop  \\\n",
       "0   20000.0                   1  0.00104  0.00744   \n",
       "1   20000.0                   3  0.00104  0.00744   \n",
       "2   20000.0                   5  0.00104  0.00744   \n",
       "3   40000.0                   1  0.00104  0.00744   \n",
       "4   40000.0                   3  0.00104  0.00744   \n",
       "5   40000.0                   5  0.00104  0.00744   \n",
       "6  100000.0                   1  0.00104  0.00744   \n",
       "7  100000.0                   3  0.00104  0.00744   \n",
       "8  100000.0                   5  0.00104  0.00744   \n",
       "\n",
       "                                              result  \n",
       "0  {'time': [0.00104, 0.0010899999999999998, 0.00...  \n",
       "1  {'time': [0.00104, 0.0010899999999999998, 0.00...  \n",
       "2  {'time': [0.00104, 0.0010899999999999998, 0.00...  \n",
       "3  {'time': [0.00104, 0.001065, 0.00109, 0.001115...  \n",
       "4  {'time': [0.00104, 0.001065, 0.00109, 0.001115...  \n",
       "5  {'time': [0.00104, 0.001065, 0.00109, 0.001115...  \n",
       "6  {'time': [0.00104, 0.00105, 0.00106, 0.00107, ...  \n",
       "7  {'time': [0.00104, 0.00105, 0.00106, 0.00107, ...  \n",
       "8  {'time': [0.00104, 0.00105, 0.00106, 0.00107, ...  "
      ]
     },
     "execution_count": 46,
     "metadata": {},
     "output_type": "execute_result"
    }
   ],
   "source": [
    "df = pd.DataFrame(rows, columns=['fs', 'order_interpolator', 't_start', 't_stop','result'])\n",
    "df"
   ]
  },
  {
   "cell_type": "code",
   "execution_count": 47,
   "id": "bd653227",
   "metadata": {},
   "outputs": [
    {
     "data": {
      "text/html": [
       "<div>\n",
       "<style scoped>\n",
       "    .dataframe tbody tr th:only-of-type {\n",
       "        vertical-align: middle;\n",
       "    }\n",
       "\n",
       "    .dataframe tbody tr th {\n",
       "        vertical-align: top;\n",
       "    }\n",
       "\n",
       "    .dataframe thead th {\n",
       "        text-align: right;\n",
       "    }\n",
       "</style>\n",
       "<table border=\"1\" class=\"dataframe\">\n",
       "  <thead>\n",
       "    <tr style=\"text-align: right;\">\n",
       "      <th></th>\n",
       "      <th>fs</th>\n",
       "      <th>order_interpolator</th>\n",
       "      <th>t_start</th>\n",
       "      <th>t_stop</th>\n",
       "      <th>time</th>\n",
       "      <th>interpolated</th>\n",
       "      <th>xf</th>\n",
       "      <th>yf</th>\n",
       "      <th>snr</th>\n",
       "      <th>enob</th>\n",
       "    </tr>\n",
       "  </thead>\n",
       "  <tbody>\n",
       "    <tr>\n",
       "      <th>0</th>\n",
       "      <td>20000.0</td>\n",
       "      <td>1</td>\n",
       "      <td>0.00104</td>\n",
       "      <td>0.00744</td>\n",
       "      <td>[0.00104, 0.0010899999999999998, 0.00113999999...</td>\n",
       "      <td>[-0.4072455278233079, -0.5097709610843396, -0....</td>\n",
       "      <td>[0.0, 156.25, 312.5, 468.75, 625.0, 781.25, 93...</td>\n",
       "      <td>[0.007721131659782288, 0.0007188545642609895, ...</td>\n",
       "      <td>36.491723</td>\n",
       "      <td>5.769389</td>\n",
       "    </tr>\n",
       "    <tr>\n",
       "      <th>1</th>\n",
       "      <td>20000.0</td>\n",
       "      <td>3</td>\n",
       "      <td>0.00104</td>\n",
       "      <td>0.00744</td>\n",
       "      <td>[0.00104, 0.0010899999999999998, 0.00113999999...</td>\n",
       "      <td>[-0.40734336773768476, -0.5100808323049485, -0...</td>\n",
       "      <td>[0.0, 156.25, 312.5, 468.75, 625.0, 781.25, 93...</td>\n",
       "      <td>[0.00774112019757763, 0.0009126991149959343, 0...</td>\n",
       "      <td>36.068615</td>\n",
       "      <td>5.699106</td>\n",
       "    </tr>\n",
       "    <tr>\n",
       "      <th>2</th>\n",
       "      <td>20000.0</td>\n",
       "      <td>5</td>\n",
       "      <td>0.00104</td>\n",
       "      <td>0.00744</td>\n",
       "      <td>[0.00104, 0.0010899999999999998, 0.00113999999...</td>\n",
       "      <td>[-0.40734336903271484, -0.5100837421137253, -0...</td>\n",
       "      <td>[0.0, 156.25, 312.5, 468.75, 625.0, 781.25, 93...</td>\n",
       "      <td>[0.007980012061869102, 0.0010341075287554093, ...</td>\n",
       "      <td>35.276766</td>\n",
       "      <td>5.567569</td>\n",
       "    </tr>\n",
       "    <tr>\n",
       "      <th>3</th>\n",
       "      <td>40000.0</td>\n",
       "      <td>1</td>\n",
       "      <td>0.00104</td>\n",
       "      <td>0.00744</td>\n",
       "      <td>[0.00104, 0.001065, 0.00109, 0.001115, 0.00114...</td>\n",
       "      <td>[-0.4072455278233079, -0.4653154017299862, -0....</td>\n",
       "      <td>[0.0, 156.25, 312.5, 468.75, 625.0, 781.25, 93...</td>\n",
       "      <td>[0.007670379774458808, 0.0008261972980741618, ...</td>\n",
       "      <td>36.478260</td>\n",
       "      <td>5.767153</td>\n",
       "    </tr>\n",
       "    <tr>\n",
       "      <th>4</th>\n",
       "      <td>40000.0</td>\n",
       "      <td>3</td>\n",
       "      <td>0.00104</td>\n",
       "      <td>0.00744</td>\n",
       "      <td>[0.00104, 0.001065, 0.00109, 0.001115, 0.00114...</td>\n",
       "      <td>[-0.40734336773768476, -0.46544028755516503, -...</td>\n",
       "      <td>[0.0, 156.25, 312.5, 468.75, 625.0, 781.25, 93...</td>\n",
       "      <td>[0.007219093627109142, 0.00103647265254636, 0....</td>\n",
       "      <td>35.945721</td>\n",
       "      <td>5.678691</td>\n",
       "    </tr>\n",
       "    <tr>\n",
       "      <th>5</th>\n",
       "      <td>40000.0</td>\n",
       "      <td>5</td>\n",
       "      <td>0.00104</td>\n",
       "      <td>0.00744</td>\n",
       "      <td>[0.00104, 0.001065, 0.00109, 0.001115, 0.00114...</td>\n",
       "      <td>[-0.40734336903271484, -0.4654406660783897, -0...</td>\n",
       "      <td>[0.0, 156.25, 312.5, 468.75, 625.0, 781.25, 93...</td>\n",
       "      <td>[0.007240591702134247, 0.0011260613404735903, ...</td>\n",
       "      <td>35.150141</td>\n",
       "      <td>5.546535</td>\n",
       "    </tr>\n",
       "    <tr>\n",
       "      <th>6</th>\n",
       "      <td>100000.0</td>\n",
       "      <td>1</td>\n",
       "      <td>0.00104</td>\n",
       "      <td>0.00744</td>\n",
       "      <td>[0.00104, 0.00105, 0.00106, 0.00107, 0.00108, ...</td>\n",
       "      <td>[-0.4072455278233079, -0.4320637991825247, -0....</td>\n",
       "      <td>[0.0, 156.25, 312.5, 468.75, 625.0, 781.25, 93...</td>\n",
       "      <td>[0.0077077166916261625, 0.0007555427213145605,...</td>\n",
       "      <td>36.434133</td>\n",
       "      <td>5.759823</td>\n",
       "    </tr>\n",
       "    <tr>\n",
       "      <th>7</th>\n",
       "      <td>100000.0</td>\n",
       "      <td>3</td>\n",
       "      <td>0.00104</td>\n",
       "      <td>0.00744</td>\n",
       "      <td>[0.00104, 0.00105, 0.00106, 0.00107, 0.00108, ...</td>\n",
       "      <td>[-0.40734336773768476, -0.4320916726950574, -0...</td>\n",
       "      <td>[0.0, 156.25, 312.5, 468.75, 625.0, 781.25, 93...</td>\n",
       "      <td>[0.007545542972306739, 0.0006319919651631982, ...</td>\n",
       "      <td>36.920878</td>\n",
       "      <td>5.840677</td>\n",
       "    </tr>\n",
       "    <tr>\n",
       "      <th>8</th>\n",
       "      <td>100000.0</td>\n",
       "      <td>5</td>\n",
       "      <td>0.00104</td>\n",
       "      <td>0.00744</td>\n",
       "      <td>[0.00104, 0.00105, 0.00106, 0.00107, 0.00108, ...</td>\n",
       "      <td>[-0.40734336903271484, -0.4320916550829237, -0...</td>\n",
       "      <td>[0.0, 156.25, 312.5, 468.75, 625.0, 781.25, 93...</td>\n",
       "      <td>[0.00782286392676376, 0.0005676448457352508, 0...</td>\n",
       "      <td>36.423265</td>\n",
       "      <td>5.758017</td>\n",
       "    </tr>\n",
       "  </tbody>\n",
       "</table>\n",
       "</div>"
      ],
      "text/plain": [
       "         fs  order_interpolator  t_start   t_stop  \\\n",
       "0   20000.0                   1  0.00104  0.00744   \n",
       "1   20000.0                   3  0.00104  0.00744   \n",
       "2   20000.0                   5  0.00104  0.00744   \n",
       "3   40000.0                   1  0.00104  0.00744   \n",
       "4   40000.0                   3  0.00104  0.00744   \n",
       "5   40000.0                   5  0.00104  0.00744   \n",
       "6  100000.0                   1  0.00104  0.00744   \n",
       "7  100000.0                   3  0.00104  0.00744   \n",
       "8  100000.0                   5  0.00104  0.00744   \n",
       "\n",
       "                                                time  \\\n",
       "0  [0.00104, 0.0010899999999999998, 0.00113999999...   \n",
       "1  [0.00104, 0.0010899999999999998, 0.00113999999...   \n",
       "2  [0.00104, 0.0010899999999999998, 0.00113999999...   \n",
       "3  [0.00104, 0.001065, 0.00109, 0.001115, 0.00114...   \n",
       "4  [0.00104, 0.001065, 0.00109, 0.001115, 0.00114...   \n",
       "5  [0.00104, 0.001065, 0.00109, 0.001115, 0.00114...   \n",
       "6  [0.00104, 0.00105, 0.00106, 0.00107, 0.00108, ...   \n",
       "7  [0.00104, 0.00105, 0.00106, 0.00107, 0.00108, ...   \n",
       "8  [0.00104, 0.00105, 0.00106, 0.00107, 0.00108, ...   \n",
       "\n",
       "                                        interpolated  \\\n",
       "0  [-0.4072455278233079, -0.5097709610843396, -0....   \n",
       "1  [-0.40734336773768476, -0.5100808323049485, -0...   \n",
       "2  [-0.40734336903271484, -0.5100837421137253, -0...   \n",
       "3  [-0.4072455278233079, -0.4653154017299862, -0....   \n",
       "4  [-0.40734336773768476, -0.46544028755516503, -...   \n",
       "5  [-0.40734336903271484, -0.4654406660783897, -0...   \n",
       "6  [-0.4072455278233079, -0.4320637991825247, -0....   \n",
       "7  [-0.40734336773768476, -0.4320916726950574, -0...   \n",
       "8  [-0.40734336903271484, -0.4320916550829237, -0...   \n",
       "\n",
       "                                                  xf  \\\n",
       "0  [0.0, 156.25, 312.5, 468.75, 625.0, 781.25, 93...   \n",
       "1  [0.0, 156.25, 312.5, 468.75, 625.0, 781.25, 93...   \n",
       "2  [0.0, 156.25, 312.5, 468.75, 625.0, 781.25, 93...   \n",
       "3  [0.0, 156.25, 312.5, 468.75, 625.0, 781.25, 93...   \n",
       "4  [0.0, 156.25, 312.5, 468.75, 625.0, 781.25, 93...   \n",
       "5  [0.0, 156.25, 312.5, 468.75, 625.0, 781.25, 93...   \n",
       "6  [0.0, 156.25, 312.5, 468.75, 625.0, 781.25, 93...   \n",
       "7  [0.0, 156.25, 312.5, 468.75, 625.0, 781.25, 93...   \n",
       "8  [0.0, 156.25, 312.5, 468.75, 625.0, 781.25, 93...   \n",
       "\n",
       "                                                  yf        snr      enob  \n",
       "0  [0.007721131659782288, 0.0007188545642609895, ...  36.491723  5.769389  \n",
       "1  [0.00774112019757763, 0.0009126991149959343, 0...  36.068615  5.699106  \n",
       "2  [0.007980012061869102, 0.0010341075287554093, ...  35.276766  5.567569  \n",
       "3  [0.007670379774458808, 0.0008261972980741618, ...  36.478260  5.767153  \n",
       "4  [0.007219093627109142, 0.00103647265254636, 0....  35.945721  5.678691  \n",
       "5  [0.007240591702134247, 0.0011260613404735903, ...  35.150141  5.546535  \n",
       "6  [0.0077077166916261625, 0.0007555427213145605,...  36.434133  5.759823  \n",
       "7  [0.007545542972306739, 0.0006319919651631982, ...  36.920878  5.840677  \n",
       "8  [0.00782286392676376, 0.0005676448457352508, 0...  36.423265  5.758017  "
      ]
     },
     "execution_count": 47,
     "metadata": {},
     "output_type": "execute_result"
    }
   ],
   "source": [
    "ndf = pd.DataFrame(df[\"result\"].to_list(), index=df.index)\n",
    "df[ndf.columns] = ndf\n",
    "df.drop(columns=[\"result\"], inplace=True)\n",
    "df"
   ]
  },
  {
   "cell_type": "code",
   "execution_count": 48,
   "id": "b85590d4",
   "metadata": {},
   "outputs": [
    {
     "data": {
      "text/html": [
       "<div>\n",
       "<style scoped>\n",
       "    .dataframe tbody tr th:only-of-type {\n",
       "        vertical-align: middle;\n",
       "    }\n",
       "\n",
       "    .dataframe tbody tr th {\n",
       "        vertical-align: top;\n",
       "    }\n",
       "\n",
       "    .dataframe thead th {\n",
       "        text-align: right;\n",
       "    }\n",
       "</style>\n",
       "<table border=\"1\" class=\"dataframe\">\n",
       "  <thead>\n",
       "    <tr style=\"text-align: right;\">\n",
       "      <th></th>\n",
       "      <th>fs</th>\n",
       "      <th>order_interpolator</th>\n",
       "      <th>t_start</th>\n",
       "      <th>t_stop</th>\n",
       "      <th>snr</th>\n",
       "      <th>enob</th>\n",
       "    </tr>\n",
       "  </thead>\n",
       "  <tbody>\n",
       "    <tr>\n",
       "      <th>0</th>\n",
       "      <td>20000.0</td>\n",
       "      <td>1</td>\n",
       "      <td>0.00104</td>\n",
       "      <td>0.00744</td>\n",
       "      <td>36.491723</td>\n",
       "      <td>5.769389</td>\n",
       "    </tr>\n",
       "    <tr>\n",
       "      <th>1</th>\n",
       "      <td>20000.0</td>\n",
       "      <td>3</td>\n",
       "      <td>0.00104</td>\n",
       "      <td>0.00744</td>\n",
       "      <td>36.068615</td>\n",
       "      <td>5.699106</td>\n",
       "    </tr>\n",
       "    <tr>\n",
       "      <th>2</th>\n",
       "      <td>20000.0</td>\n",
       "      <td>5</td>\n",
       "      <td>0.00104</td>\n",
       "      <td>0.00744</td>\n",
       "      <td>35.276766</td>\n",
       "      <td>5.567569</td>\n",
       "    </tr>\n",
       "    <tr>\n",
       "      <th>3</th>\n",
       "      <td>40000.0</td>\n",
       "      <td>1</td>\n",
       "      <td>0.00104</td>\n",
       "      <td>0.00744</td>\n",
       "      <td>36.478260</td>\n",
       "      <td>5.767153</td>\n",
       "    </tr>\n",
       "    <tr>\n",
       "      <th>4</th>\n",
       "      <td>40000.0</td>\n",
       "      <td>3</td>\n",
       "      <td>0.00104</td>\n",
       "      <td>0.00744</td>\n",
       "      <td>35.945721</td>\n",
       "      <td>5.678691</td>\n",
       "    </tr>\n",
       "    <tr>\n",
       "      <th>5</th>\n",
       "      <td>40000.0</td>\n",
       "      <td>5</td>\n",
       "      <td>0.00104</td>\n",
       "      <td>0.00744</td>\n",
       "      <td>35.150141</td>\n",
       "      <td>5.546535</td>\n",
       "    </tr>\n",
       "    <tr>\n",
       "      <th>6</th>\n",
       "      <td>100000.0</td>\n",
       "      <td>1</td>\n",
       "      <td>0.00104</td>\n",
       "      <td>0.00744</td>\n",
       "      <td>36.434133</td>\n",
       "      <td>5.759823</td>\n",
       "    </tr>\n",
       "    <tr>\n",
       "      <th>7</th>\n",
       "      <td>100000.0</td>\n",
       "      <td>3</td>\n",
       "      <td>0.00104</td>\n",
       "      <td>0.00744</td>\n",
       "      <td>36.920878</td>\n",
       "      <td>5.840677</td>\n",
       "    </tr>\n",
       "    <tr>\n",
       "      <th>8</th>\n",
       "      <td>100000.0</td>\n",
       "      <td>5</td>\n",
       "      <td>0.00104</td>\n",
       "      <td>0.00744</td>\n",
       "      <td>36.423265</td>\n",
       "      <td>5.758017</td>\n",
       "    </tr>\n",
       "  </tbody>\n",
       "</table>\n",
       "</div>"
      ],
      "text/plain": [
       "         fs  order_interpolator  t_start   t_stop        snr      enob\n",
       "0   20000.0                   1  0.00104  0.00744  36.491723  5.769389\n",
       "1   20000.0                   3  0.00104  0.00744  36.068615  5.699106\n",
       "2   20000.0                   5  0.00104  0.00744  35.276766  5.567569\n",
       "3   40000.0                   1  0.00104  0.00744  36.478260  5.767153\n",
       "4   40000.0                   3  0.00104  0.00744  35.945721  5.678691\n",
       "5   40000.0                   5  0.00104  0.00744  35.150141  5.546535\n",
       "6  100000.0                   1  0.00104  0.00744  36.434133  5.759823\n",
       "7  100000.0                   3  0.00104  0.00744  36.920878  5.840677\n",
       "8  100000.0                   5  0.00104  0.00744  36.423265  5.758017"
      ]
     },
     "execution_count": 48,
     "metadata": {},
     "output_type": "execute_result"
    }
   ],
   "source": [
    "df.drop(columns=[\"xf\",\"yf\", \"interpolated\", \"time\"])"
   ]
  },
  {
   "cell_type": "code",
   "execution_count": 49,
   "id": "02d09891",
   "metadata": {},
   "outputs": [
    {
     "data": {
      "text/plain": [
       "5.739491384806709"
      ]
     },
     "execution_count": 49,
     "metadata": {},
     "output_type": "execute_result"
    }
   ],
   "source": [
    "enob = df.loc[df[\"order_interpolator\"]==3, \"enob\"].mean()\n",
    "enob"
   ]
  },
  {
   "cell_type": "code",
   "execution_count": 50,
   "id": "ea833ffb",
   "metadata": {},
   "outputs": [
    {
     "data": {
      "text/plain": [
       "1.5441691861380051e-12"
      ]
     },
     "execution_count": 50,
     "metadata": {},
     "output_type": "execute_result"
    }
   ],
   "source": [
    "power = 3.30e-6\n",
    "fom = power/(40e3*(2**enob))\n",
    "fom"
   ]
  }
 ],
 "metadata": {
  "kernelspec": {
   "display_name": "Python 3 (ipykernel)",
   "language": "python",
   "name": "python3"
  },
  "language_info": {
   "codemirror_mode": {
    "name": "ipython",
    "version": 3
   },
   "file_extension": ".py",
   "mimetype": "text/x-python",
   "name": "python",
   "nbconvert_exporter": "python",
   "pygments_lexer": "ipython3",
   "version": "3.10.9"
  }
 },
 "nbformat": 4,
 "nbformat_minor": 5
}
