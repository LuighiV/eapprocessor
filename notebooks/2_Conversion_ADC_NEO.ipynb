{
 "cells": [
  {
   "cell_type": "markdown",
   "id": "d8fbd9c7",
   "metadata": {},
   "source": [
    "# Recordings conversion to digital samples and preprocessed by NEO\n",
    "\n",
    "After the recordings generation, follows the conversion by a modeled ADC and their preprocessing by a NEO module, also modeled with different widths."
   ]
  },
  {
   "cell_type": "markdown",
   "id": "3a9048c8",
   "metadata": {},
   "source": [
    "## ADC conversion"
   ]
  },
  {
   "cell_type": "code",
   "execution_count": 1,
   "id": "173ed765",
   "metadata": {},
   "outputs": [],
   "source": [
    "%load_ext autoreload\n",
    "%autoreload 2"
   ]
  },
  {
   "cell_type": "code",
   "execution_count": 2,
   "id": "28aa1a60",
   "metadata": {},
   "outputs": [],
   "source": [
    "BASE_DIR=\"/mnt/Archivos/data\""
   ]
  },
  {
   "cell_type": "code",
   "execution_count": 3,
   "id": "05317c3b",
   "metadata": {},
   "outputs": [],
   "source": [
    "from eapprocessor.process import getConvertedADC, getNEO, getOverThreshold\n",
    "from eapprocessor.tools.load import loadNEO"
   ]
  },
  {
   "cell_type": "markdown",
   "id": "01039433",
   "metadata": {},
   "source": [
    "First, define the parameters related to the noise level and the resolution and voltage reference. In this first case, the resolution will be 12 and the reference voltage will be 500 as the maximum value for the generated signal."
   ]
  },
  {
   "cell_type": "code",
   "execution_count": 4,
   "id": "a6054e98",
   "metadata": {},
   "outputs": [],
   "source": [
    "noise_levels = [5, 10, 15, 20, 25, 50 ,75]\n",
    "resolution = 12\n",
    "voltage_ref = 500"
   ]
  },
  {
   "cell_type": "code",
   "execution_count": 16,
   "id": "4516ab8f",
   "metadata": {},
   "outputs": [
    {
     "name": "stdout",
     "output_type": "stream",
     "text": [
      "Loading file /mnt/Archivos/data/output/recordings/recordings_10cells_Neuronexus-32_10.0_5uV_27-09-2021_23-18.h5\n",
      "Loading recordings...\n",
      "Done loading recordings...\n",
      "Loading file /mnt/Archivos/data/output/recordings/recordings_10cells_Neuronexus-32_10.0_10uV_27-09-2021_23-18.h5\n",
      "Loading recordings...\n",
      "Done loading recordings...\n",
      "Loading file /mnt/Archivos/data/output/recordings/recordings_10cells_Neuronexus-32_10.0_15uV_27-09-2021_23-18.h5\n",
      "Loading recordings...\n",
      "Done loading recordings...\n",
      "Loading file /mnt/Archivos/data/output/recordings/recordings_10cells_Neuronexus-32_10.0_20uV_27-09-2021_23-18.h5\n",
      "Loading recordings...\n",
      "Done loading recordings...\n",
      "Loading file /mnt/Archivos/data/output/recordings/recordings_10cells_Neuronexus-32_10.0_25uV_27-09-2021_23-18.h5\n",
      "Loading recordings...\n",
      "Done loading recordings...\n",
      "Loading file /mnt/Archivos/data/output/recordings/recordings_10cells_Neuronexus-32_10.0_50uV_27-09-2021_23-18.h5\n",
      "Loading recordings...\n",
      "Done loading recordings...\n",
      "Loading file /mnt/Archivos/data/output/recordings/recordings_10cells_Neuronexus-32_10.0_75uV_27-09-2021_23-18.h5\n",
      "Loading recordings...\n",
      "Done loading recordings...\n"
     ]
    }
   ],
   "source": [
    "for noise in noise_levels:\n",
    "    adcgen_list = getConvertedADC(recfile=f\"{BASE_DIR}/output/recordings\",voltage_ref=voltage_ref, \n",
    "                                  resolution=resolution, noise_level = noise, verbose=True)"
   ]
  },
  {
   "cell_type": "markdown",
   "id": "158918d0",
   "metadata": {},
   "source": [
    "## NEO application\n",
    "\n",
    "Then the NEO preprocessor could be applied. In this case, the formula:\n",
    "$$ y[n] = x[n]^2 - x[n-w]x[n+w]$$\n",
    "is applied with different widths $w$."
   ]
  },
  {
   "cell_type": "code",
   "execution_count": 5,
   "id": "7f56ecfc",
   "metadata": {},
   "outputs": [],
   "source": [
    "w = [1,2,4,8,16]"
   ]
  },
  {
   "cell_type": "code",
   "execution_count": 18,
   "id": "4dda189c",
   "metadata": {},
   "outputs": [
    {
     "name": "stdout",
     "output_type": "stream",
     "text": [
      "_12_5uV_\n",
      "Loading file /mnt/Archivos/data/output/adc/samples_12_5uV_.h5\n",
      "_12_10uV_\n",
      "Loading file /mnt/Archivos/data/output/adc/samples_12_10uV_.h5\n",
      "_12_15uV_\n",
      "Loading file /mnt/Archivos/data/output/adc/samples_12_15uV_.h5\n",
      "_12_20uV_\n",
      "Loading file /mnt/Archivos/data/output/adc/samples_12_20uV_.h5\n",
      "_12_25uV_\n",
      "Loading file /mnt/Archivos/data/output/adc/samples_12_25uV_.h5\n",
      "_12_50uV_\n",
      "Loading file /mnt/Archivos/data/output/adc/samples_12_50uV_.h5\n",
      "_12_75uV_\n",
      "Loading file /mnt/Archivos/data/output/adc/samples_12_75uV_.h5\n"
     ]
    }
   ],
   "source": [
    "for noise_level in noise_levels:\n",
    "    getNEO(adcfile=f\"{BASE_DIR}/output/adc\", verbose=True, resolution=resolution, noise_level=noise_level,w=w)"
   ]
  },
  {
   "cell_type": "code",
   "execution_count": 6,
   "id": "3f1885cb",
   "metadata": {},
   "outputs": [
    {
     "name": "stdout",
     "output_type": "stream",
     "text": [
      "_12_5uV_\n",
      "Loading file /mnt/Archivos/data/output/preprocessor/preprocessed_neo_12_5uV_2021-09-28_00-07.h5\n",
      "_12_10uV_\n",
      "Loading file /mnt/Archivos/data/output/preprocessor/preprocessed_neo_12_10uV_2021-09-28_00-07.h5\n",
      "_12_15uV_\n",
      "Loading file /mnt/Archivos/data/output/preprocessor/preprocessed_neo_12_15uV_2021-09-28_00-08.h5\n",
      "_12_20uV_\n",
      "Loading file /mnt/Archivos/data/output/preprocessor/preprocessed_neo_12_20uV_2021-09-28_00-09.h5\n",
      "_12_25uV_\n",
      "Loading file /mnt/Archivos/data/output/preprocessor/preprocessed_neo_12_25uV_2021-09-28_00-10.h5\n",
      "_12_50uV_\n",
      "Loading file /mnt/Archivos/data/output/preprocessor/preprocessed_neo_12_50uV_2021-09-28_00-11.h5\n",
      "_12_75uV_\n",
      "Loading file /mnt/Archivos/data/output/preprocessor/preprocessed_neo_12_75uV_2021-09-28_00-11.h5\n"
     ]
    }
   ],
   "source": [
    "for noise_level in noise_levels:\n",
    "    neo_list = loadNEO(f\"{BASE_DIR}/output/preprocessor\", verbose=True, resolution=12, noise_level=noise_level)"
   ]
  },
  {
   "cell_type": "markdown",
   "id": "2d8c6075",
   "metadata": {},
   "source": [
    "## Threshold evaluation\n",
    "\n",
    "Then, an evaluation could be performed to every signal: recordings, ADC and NEO, with various values of threshold ranging from $0.1A_{\\max}$ to $A_{\\max}$.\n",
    "To speed up the process, only 2 channels (electrodes) are considered: 0 and 1."
   ]
  },
  {
   "cell_type": "code",
   "execution_count": 7,
   "id": "89740050",
   "metadata": {},
   "outputs": [],
   "source": [
    "channel_indexes=[0,1]\n",
    "nthresholds = 100"
   ]
  },
  {
   "cell_type": "code",
   "execution_count": 8,
   "id": "66346150",
   "metadata": {},
   "outputs": [
    {
     "name": "stdout",
     "output_type": "stream",
     "text": [
      "_12_5uV_\n",
      "Loading file /mnt/Archivos/data/output/preprocessor/preprocessed_neo_12_5uV_2021-09-28_00-07.h5\n",
      "Processing recordings\n",
      "Start processing dataset...\n",
      "Processed threshold 1/2 in dataset\n",
      "Processed threshold 2/2 in dataset\n",
      "Processing normalized\n",
      "Start processing dataset...\n",
      "Processed threshold 1/2 in dataset\n",
      "Processed threshold 2/2 in dataset\n",
      "Processing neo array\n",
      "Start processing dataset...\n",
      "Processed threshold 1/2 in dataset\n",
      "Processed threshold 2/2 in dataset\n",
      "Processed dataset 1/5 in array of dataset\n",
      "Start processing dataset...\n",
      "Processed threshold 1/2 in dataset\n",
      "Processed threshold 2/2 in dataset\n",
      "Processed dataset 2/5 in array of dataset\n",
      "Start processing dataset...\n",
      "Processed threshold 1/2 in dataset\n",
      "Processed threshold 2/2 in dataset\n",
      "Processed dataset 3/5 in array of dataset\n",
      "Start processing dataset...\n",
      "Processed threshold 1/2 in dataset\n",
      "Processed threshold 2/2 in dataset\n",
      "Processed dataset 4/5 in array of dataset\n",
      "Start processing dataset...\n",
      "Processed threshold 1/2 in dataset\n",
      "Processed threshold 2/2 in dataset\n",
      "Processed dataset 5/5 in array of dataset\n",
      "_12_10uV_\n",
      "Loading file /mnt/Archivos/data/output/preprocessor/preprocessed_neo_12_10uV_2021-09-28_00-07.h5\n",
      "Processing recordings\n",
      "Start processing dataset...\n",
      "Processed threshold 1/2 in dataset\n",
      "Processed threshold 2/2 in dataset\n",
      "Processing normalized\n",
      "Start processing dataset...\n",
      "Processed threshold 1/2 in dataset\n",
      "Processed threshold 2/2 in dataset\n",
      "Processing neo array\n",
      "Start processing dataset...\n",
      "Processed threshold 1/2 in dataset\n",
      "Processed threshold 2/2 in dataset\n",
      "Processed dataset 1/5 in array of dataset\n",
      "Start processing dataset...\n",
      "Processed threshold 1/2 in dataset\n",
      "Processed threshold 2/2 in dataset\n",
      "Processed dataset 2/5 in array of dataset\n",
      "Start processing dataset...\n",
      "Processed threshold 1/2 in dataset\n",
      "Processed threshold 2/2 in dataset\n",
      "Processed dataset 3/5 in array of dataset\n",
      "Start processing dataset...\n",
      "Processed threshold 1/2 in dataset\n",
      "Processed threshold 2/2 in dataset\n",
      "Processed dataset 4/5 in array of dataset\n",
      "Start processing dataset...\n",
      "Processed threshold 1/2 in dataset\n",
      "Processed threshold 2/2 in dataset\n",
      "Processed dataset 5/5 in array of dataset\n",
      "_12_15uV_\n",
      "Loading file /mnt/Archivos/data/output/preprocessor/preprocessed_neo_12_15uV_2021-09-28_00-08.h5\n",
      "Processing recordings\n",
      "Start processing dataset...\n",
      "Processed threshold 1/2 in dataset\n",
      "Processed threshold 2/2 in dataset\n",
      "Processing normalized\n",
      "Start processing dataset...\n",
      "Processed threshold 1/2 in dataset\n",
      "Processed threshold 2/2 in dataset\n",
      "Processing neo array\n",
      "Start processing dataset...\n",
      "Processed threshold 1/2 in dataset\n",
      "Processed threshold 2/2 in dataset\n",
      "Processed dataset 1/5 in array of dataset\n",
      "Start processing dataset...\n",
      "Processed threshold 1/2 in dataset\n",
      "Processed threshold 2/2 in dataset\n",
      "Processed dataset 2/5 in array of dataset\n",
      "Start processing dataset...\n",
      "Processed threshold 1/2 in dataset\n",
      "Processed threshold 2/2 in dataset\n",
      "Processed dataset 3/5 in array of dataset\n",
      "Start processing dataset...\n",
      "Processed threshold 1/2 in dataset\n",
      "Processed threshold 2/2 in dataset\n",
      "Processed dataset 4/5 in array of dataset\n",
      "Start processing dataset...\n",
      "Processed threshold 1/2 in dataset\n",
      "Processed threshold 2/2 in dataset\n",
      "Processed dataset 5/5 in array of dataset\n",
      "_12_20uV_\n",
      "Loading file /mnt/Archivos/data/output/preprocessor/preprocessed_neo_12_20uV_2021-09-28_00-09.h5\n",
      "Processing recordings\n",
      "Start processing dataset...\n",
      "Processed threshold 1/2 in dataset\n",
      "Processed threshold 2/2 in dataset\n",
      "Processing normalized\n",
      "Start processing dataset...\n",
      "Processed threshold 1/2 in dataset\n",
      "Processed threshold 2/2 in dataset\n",
      "Processing neo array\n",
      "Start processing dataset...\n",
      "Processed threshold 1/2 in dataset\n",
      "Processed threshold 2/2 in dataset\n",
      "Processed dataset 1/5 in array of dataset\n",
      "Start processing dataset...\n",
      "Processed threshold 1/2 in dataset\n",
      "Processed threshold 2/2 in dataset\n",
      "Processed dataset 2/5 in array of dataset\n",
      "Start processing dataset...\n",
      "Processed threshold 1/2 in dataset\n",
      "Processed threshold 2/2 in dataset\n",
      "Processed dataset 3/5 in array of dataset\n",
      "Start processing dataset...\n",
      "Processed threshold 1/2 in dataset\n",
      "Processed threshold 2/2 in dataset\n",
      "Processed dataset 4/5 in array of dataset\n",
      "Start processing dataset...\n",
      "Processed threshold 1/2 in dataset\n",
      "Processed threshold 2/2 in dataset\n",
      "Processed dataset 5/5 in array of dataset\n",
      "_12_25uV_\n",
      "Loading file /mnt/Archivos/data/output/preprocessor/preprocessed_neo_12_25uV_2021-09-28_00-10.h5\n",
      "Processing recordings\n",
      "Start processing dataset...\n",
      "Processed threshold 1/2 in dataset\n",
      "Processed threshold 2/2 in dataset\n",
      "Processing normalized\n",
      "Start processing dataset...\n",
      "Processed threshold 1/2 in dataset\n",
      "Processed threshold 2/2 in dataset\n",
      "Processing neo array\n",
      "Start processing dataset...\n",
      "Processed threshold 1/2 in dataset\n",
      "Processed threshold 2/2 in dataset\n",
      "Processed dataset 1/5 in array of dataset\n",
      "Start processing dataset...\n",
      "Processed threshold 1/2 in dataset\n",
      "Processed threshold 2/2 in dataset\n",
      "Processed dataset 2/5 in array of dataset\n",
      "Start processing dataset...\n",
      "Processed threshold 1/2 in dataset\n",
      "Processed threshold 2/2 in dataset\n",
      "Processed dataset 3/5 in array of dataset\n",
      "Start processing dataset...\n",
      "Processed threshold 1/2 in dataset\n",
      "Processed threshold 2/2 in dataset\n",
      "Processed dataset 4/5 in array of dataset\n",
      "Start processing dataset...\n",
      "Processed threshold 1/2 in dataset\n",
      "Processed threshold 2/2 in dataset\n",
      "Processed dataset 5/5 in array of dataset\n",
      "_12_50uV_\n",
      "Loading file /mnt/Archivos/data/output/preprocessor/preprocessed_neo_12_50uV_2021-09-28_00-11.h5\n",
      "Processing recordings\n",
      "Start processing dataset...\n",
      "Processed threshold 1/2 in dataset\n",
      "Processed threshold 2/2 in dataset\n",
      "Processing normalized\n",
      "Start processing dataset...\n",
      "Processed threshold 1/2 in dataset\n",
      "Processed threshold 2/2 in dataset\n",
      "Processing neo array\n",
      "Start processing dataset...\n",
      "Processed threshold 1/2 in dataset\n",
      "Processed threshold 2/2 in dataset\n",
      "Processed dataset 1/5 in array of dataset\n",
      "Start processing dataset...\n",
      "Processed threshold 1/2 in dataset\n",
      "Processed threshold 2/2 in dataset\n",
      "Processed dataset 2/5 in array of dataset\n",
      "Start processing dataset...\n",
      "Processed threshold 1/2 in dataset\n",
      "Processed threshold 2/2 in dataset\n",
      "Processed dataset 3/5 in array of dataset\n",
      "Start processing dataset...\n",
      "Processed threshold 1/2 in dataset\n",
      "Processed threshold 2/2 in dataset\n",
      "Processed dataset 4/5 in array of dataset\n",
      "Start processing dataset...\n",
      "Processed threshold 1/2 in dataset\n",
      "Processed threshold 2/2 in dataset\n",
      "Processed dataset 5/5 in array of dataset\n",
      "_12_75uV_\n",
      "Loading file /mnt/Archivos/data/output/preprocessor/preprocessed_neo_12_75uV_2021-09-28_00-11.h5\n",
      "Processing recordings\n",
      "Start processing dataset...\n",
      "Processed threshold 1/2 in dataset\n",
      "Processed threshold 2/2 in dataset\n",
      "Processing normalized\n",
      "Start processing dataset...\n",
      "Processed threshold 1/2 in dataset\n",
      "Processed threshold 2/2 in dataset\n",
      "Processing neo array\n",
      "Start processing dataset...\n",
      "Processed threshold 1/2 in dataset\n",
      "Processed threshold 2/2 in dataset\n",
      "Processed dataset 1/5 in array of dataset\n",
      "Start processing dataset...\n",
      "Processed threshold 1/2 in dataset\n",
      "Processed threshold 2/2 in dataset\n",
      "Processed dataset 2/5 in array of dataset\n",
      "Start processing dataset...\n",
      "Processed threshold 1/2 in dataset\n",
      "Processed threshold 2/2 in dataset\n",
      "Processed dataset 3/5 in array of dataset\n",
      "Start processing dataset...\n",
      "Processed threshold 1/2 in dataset\n",
      "Processed threshold 2/2 in dataset\n",
      "Processed dataset 4/5 in array of dataset\n",
      "Start processing dataset...\n",
      "Processed threshold 1/2 in dataset\n",
      "Processed threshold 2/2 in dataset\n",
      "Processed dataset 5/5 in array of dataset\n"
     ]
    }
   ],
   "source": [
    "for noise_level in noise_levels:\n",
    "    getOverThreshold(f'{BASE_DIR}/output/preprocessor', verbose=True, resolution=resolution, \n",
    "                     ch_indexes=channel_indexes, \n",
    "                     nthresholds=nthresholds, \n",
    "                     noise_level=noise_level)"
   ]
  },
  {
   "cell_type": "code",
   "execution_count": null,
   "id": "23fb5c40",
   "metadata": {},
   "outputs": [],
   "source": []
  }
 ],
 "metadata": {
  "kernelspec": {
   "display_name": "Python 3 (ipykernel)",
   "language": "python",
   "name": "python3"
  },
  "language_info": {
   "codemirror_mode": {
    "name": "ipython",
    "version": 3
   },
   "file_extension": ".py",
   "mimetype": "text/x-python",
   "name": "python",
   "nbconvert_exporter": "python",
   "pygments_lexer": "ipython3",
   "version": "3.9.7"
  }
 },
 "nbformat": 4,
 "nbformat_minor": 5
}
