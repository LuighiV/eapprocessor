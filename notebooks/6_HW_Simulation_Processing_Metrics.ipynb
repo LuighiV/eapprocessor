{
 "cells": [
  {
   "cell_type": "code",
   "execution_count": 1,
   "id": "4da35a6a",
   "metadata": {},
   "outputs": [],
   "source": [
    "%load_ext autoreload\n",
    "%autoreload 2"
   ]
  },
  {
   "cell_type": "code",
   "execution_count": 2,
   "id": "08476d47",
   "metadata": {},
   "outputs": [],
   "source": [
    "from pathlib import Path"
   ]
  },
  {
   "cell_type": "code",
   "execution_count": 3,
   "id": "77316c5d",
   "metadata": {},
   "outputs": [],
   "source": [
    "SIMULATION_OUTPUT=\"/mnt/Archivos/Nextcloud/MaestriaPUCP/Thesis/development/project\""
   ]
  },
  {
   "cell_type": "code",
   "execution_count": 4,
   "id": "b43c7511",
   "metadata": {},
   "outputs": [],
   "source": [
    "RELATIVE_ADEXL_FOLDER=\"tesis_2020/sar_architecture_cm_differential_v2_sim_neural/adexl/documents\"\n",
    "files_summary = [\"Interactive.0.csv\"]"
   ]
  },
  {
   "cell_type": "code",
   "execution_count": 5,
   "id": "061e9ed2",
   "metadata": {},
   "outputs": [],
   "source": [
    "files_summary_paths = [ Path(SIMULATION_OUTPUT)/RELATIVE_ADEXL_FOLDER/ file_name for file_name in files_summary]"
   ]
  },
  {
   "cell_type": "code",
   "execution_count": 6,
   "id": "7bb8eff2",
   "metadata": {},
   "outputs": [],
   "source": [
    "import pandas as pd"
   ]
  },
  {
   "cell_type": "code",
   "execution_count": 7,
   "id": "44d07ef4",
   "metadata": {},
   "outputs": [],
   "source": [
    "def get_df(filepath):\n",
    "    df = pd.read_csv(filepath, comment='\"', header=0)\n",
    "    return df"
   ]
  },
  {
   "cell_type": "code",
   "execution_count": 8,
   "id": "5eaef268",
   "metadata": {},
   "outputs": [
    {
     "data": {
      "text/html": [
       "<div>\n",
       "<style scoped>\n",
       "    .dataframe tbody tr th:only-of-type {\n",
       "        vertical-align: middle;\n",
       "    }\n",
       "\n",
       "    .dataframe tbody tr th {\n",
       "        vertical-align: top;\n",
       "    }\n",
       "\n",
       "    .dataframe thead th {\n",
       "        text-align: right;\n",
       "    }\n",
       "</style>\n",
       "<table border=\"1\" class=\"dataframe\">\n",
       "  <thead>\n",
       "    <tr style=\"text-align: right;\">\n",
       "      <th></th>\n",
       "      <th>Point</th>\n",
       "      <th>Test</th>\n",
       "      <th>Output</th>\n",
       "      <th>Nominal</th>\n",
       "      <th>Spec</th>\n",
       "      <th>Weight</th>\n",
       "      <th>Pass/Fail</th>\n",
       "    </tr>\n",
       "  </thead>\n",
       "  <tbody>\n",
       "    <tr>\n",
       "      <th>0</th>\n",
       "      <td>1</td>\n",
       "      <td>tesis_2020:sar_architecture_cm_differential_v2...</td>\n",
       "      <td>/Vin</td>\n",
       "      <td>NaN</td>\n",
       "      <td>NaN</td>\n",
       "      <td>NaN</td>\n",
       "      <td>NaN</td>\n",
       "    </tr>\n",
       "    <tr>\n",
       "      <th>1</th>\n",
       "      <td>1</td>\n",
       "      <td>tesis_2020:sar_architecture_cm_differential_v2...</td>\n",
       "      <td>/START_n</td>\n",
       "      <td>NaN</td>\n",
       "      <td>NaN</td>\n",
       "      <td>NaN</td>\n",
       "      <td>NaN</td>\n",
       "    </tr>\n",
       "    <tr>\n",
       "      <th>2</th>\n",
       "      <td>1</td>\n",
       "      <td>tesis_2020:sar_architecture_cm_differential_v2...</td>\n",
       "      <td>/CLK</td>\n",
       "      <td>NaN</td>\n",
       "      <td>NaN</td>\n",
       "      <td>NaN</td>\n",
       "      <td>NaN</td>\n",
       "    </tr>\n",
       "    <tr>\n",
       "      <th>3</th>\n",
       "      <td>1</td>\n",
       "      <td>tesis_2020:sar_architecture_cm_differential_v2...</td>\n",
       "      <td>/OUT&lt;7&gt;</td>\n",
       "      <td>NaN</td>\n",
       "      <td>NaN</td>\n",
       "      <td>NaN</td>\n",
       "      <td>NaN</td>\n",
       "    </tr>\n",
       "    <tr>\n",
       "      <th>4</th>\n",
       "      <td>1</td>\n",
       "      <td>tesis_2020:sar_architecture_cm_differential_v2...</td>\n",
       "      <td>/OUT&lt;6&gt;</td>\n",
       "      <td>NaN</td>\n",
       "      <td>NaN</td>\n",
       "      <td>NaN</td>\n",
       "      <td>NaN</td>\n",
       "    </tr>\n",
       "  </tbody>\n",
       "</table>\n",
       "</div>"
      ],
      "text/plain": [
       "   Point                                               Test    Output  \\\n",
       "0      1  tesis_2020:sar_architecture_cm_differential_v2...      /Vin   \n",
       "1      1  tesis_2020:sar_architecture_cm_differential_v2...  /START_n   \n",
       "2      1  tesis_2020:sar_architecture_cm_differential_v2...      /CLK   \n",
       "3      1  tesis_2020:sar_architecture_cm_differential_v2...   /OUT<7>   \n",
       "4      1  tesis_2020:sar_architecture_cm_differential_v2...   /OUT<6>   \n",
       "\n",
       "   Nominal  Spec  Weight  Pass/Fail  \n",
       "0      NaN   NaN     NaN        NaN  \n",
       "1      NaN   NaN     NaN        NaN  \n",
       "2      NaN   NaN     NaN        NaN  \n",
       "3      NaN   NaN     NaN        NaN  \n",
       "4      NaN   NaN     NaN        NaN  "
      ]
     },
     "execution_count": 8,
     "metadata": {},
     "output_type": "execute_result"
    }
   ],
   "source": [
    "df = get_df(files_summary_paths[0])\n",
    "df.head()"
   ]
  },
  {
   "cell_type": "code",
   "execution_count": 9,
   "id": "bcdb8de8",
   "metadata": {},
   "outputs": [],
   "source": [
    "def extract_parameter(line):\n",
    "    return line.split(\",\")[0].strip(\"\\\"\").split(\"=\")[1].strip(\"\\\"\")\n",
    "\n",
    "def extract_index_number(line):\n",
    "    return int(line.split(\",\")[0])"
   ]
  },
  {
   "cell_type": "code",
   "execution_count": 10,
   "id": "63f0ae10",
   "metadata": {},
   "outputs": [],
   "source": [
    "def get_metadata_dict(filepath):    \n",
    "    meta_list=[]\n",
    "    with open(filepath,'r') as f:\n",
    "        savenext=False\n",
    "        meta_pair=[]\n",
    "        for line in f:\n",
    "            if(savenext):\n",
    "                meta_pair.append(extract_index_number(line))\n",
    "                meta_list.append(meta_pair)\n",
    "                savenext=False\n",
    "                continue\n",
    "            if(line.startswith(\"\\\"\")):\n",
    "                meta_pair=[extract_parameter(line)]\n",
    "                savenext=True\n",
    "\n",
    "    l=list(zip(*meta_list))\n",
    "    l.reverse()\n",
    "    return dict(zip(*l))"
   ]
  },
  {
   "cell_type": "code",
   "execution_count": 11,
   "id": "ad0c07c0",
   "metadata": {},
   "outputs": [],
   "source": [
    "def process_file(filepath):\n",
    "    df = get_df(filepath)\n",
    "    map_point_to_filename = get_metadata_dict(filepath)\n",
    "    df[\"filename\"]=df[\"Point\"].map(map_point_to_filename)\n",
    "    return df"
   ]
  },
  {
   "cell_type": "code",
   "execution_count": 12,
   "id": "e9a1804b",
   "metadata": {},
   "outputs": [],
   "source": [
    "df_list =[ process_file(filepath) for filepath in files_summary_paths]"
   ]
  },
  {
   "cell_type": "code",
   "execution_count": 13,
   "id": "f647b692",
   "metadata": {},
   "outputs": [],
   "source": [
    "ndf = pd.concat(df_list)"
   ]
  },
  {
   "cell_type": "code",
   "execution_count": 14,
   "id": "59c880ea",
   "metadata": {},
   "outputs": [],
   "source": [
    "ndf.dropna(subset=[\"Nominal\"],inplace=True)"
   ]
  },
  {
   "cell_type": "code",
   "execution_count": 15,
   "id": "3d3bb8bf",
   "metadata": {},
   "outputs": [],
   "source": [
    "from quantiphy import Quantity "
   ]
  },
  {
   "cell_type": "code",
   "execution_count": 16,
   "id": "f8165567",
   "metadata": {},
   "outputs": [
    {
     "data": {
      "text/html": [
       "<div>\n",
       "<style scoped>\n",
       "    .dataframe tbody tr th:only-of-type {\n",
       "        vertical-align: middle;\n",
       "    }\n",
       "\n",
       "    .dataframe tbody tr th {\n",
       "        vertical-align: top;\n",
       "    }\n",
       "\n",
       "    .dataframe thead th {\n",
       "        text-align: right;\n",
       "    }\n",
       "</style>\n",
       "<table border=\"1\" class=\"dataframe\">\n",
       "  <thead>\n",
       "    <tr style=\"text-align: right;\">\n",
       "      <th></th>\n",
       "      <th>Output</th>\n",
       "      <th>Nominal</th>\n",
       "    </tr>\n",
       "  </thead>\n",
       "  <tbody>\n",
       "    <tr>\n",
       "      <th>0</th>\n",
       "      <td>Average_current_comparator</td>\n",
       "      <td>61.741n</td>\n",
       "    </tr>\n",
       "    <tr>\n",
       "      <th>1</th>\n",
       "      <td>Average_current_dac</td>\n",
       "      <td>8.0783n</td>\n",
       "    </tr>\n",
       "    <tr>\n",
       "      <th>2</th>\n",
       "      <td>Average_current_logic</td>\n",
       "      <td>350.15n</td>\n",
       "    </tr>\n",
       "    <tr>\n",
       "      <th>3</th>\n",
       "      <td>Average_current_register</td>\n",
       "      <td>4.1345n</td>\n",
       "    </tr>\n",
       "    <tr>\n",
       "      <th>4</th>\n",
       "      <td>Average_current_total</td>\n",
       "      <td>468.24n</td>\n",
       "    </tr>\n",
       "    <tr>\n",
       "      <th>5</th>\n",
       "      <td>Average_power_total</td>\n",
       "      <td>560.69n</td>\n",
       "    </tr>\n",
       "  </tbody>\n",
       "</table>\n",
       "</div>"
      ],
      "text/plain": [
       "                       Output  Nominal\n",
       "0  Average_current_comparator  61.741n\n",
       "1         Average_current_dac  8.0783n\n",
       "2       Average_current_logic  350.15n\n",
       "3    Average_current_register  4.1345n\n",
       "4       Average_current_total  468.24n\n",
       "5         Average_power_total  560.69n"
      ]
     },
     "execution_count": 16,
     "metadata": {},
     "output_type": "execute_result"
    }
   ],
   "source": [
    "sdf = ndf.groupby(\"Output\").agg({\"Nominal\":\"mean\"}).reset_index()\n",
    "sdf.drop(sdf.loc[sdf[\"Output\"].isin([\"t_start\",\"t_interval\",\"t_stop\"])].index,inplace=True)\n",
    "sdf[\"Nominal\"]=sdf[\"Nominal\"].apply(lambda x: str(Quantity(x)))\n",
    "sdf"
   ]
  },
  {
   "cell_type": "code",
   "execution_count": 17,
   "id": "2a4d428c",
   "metadata": {},
   "outputs": [
    {
     "name": "stdout",
     "output_type": "stream",
     "text": [
      "\\begin{tabular}{ll}\n",
      "\\toprule\n",
      "                    Output & Nominal \\\\\n",
      "\\midrule\n",
      "Average\\_current\\_comparator & 61.741n \\\\\n",
      "       Average\\_current\\_dac & 8.0783n \\\\\n",
      "     Average\\_current\\_logic & 350.15n \\\\\n",
      "  Average\\_current\\_register & 4.1345n \\\\\n",
      "     Average\\_current\\_total & 468.24n \\\\\n",
      "       Average\\_power\\_total & 560.69n \\\\\n",
      "\\bottomrule\n",
      "\\end{tabular}\n",
      "\n"
     ]
    },
    {
     "name": "stderr",
     "output_type": "stream",
     "text": [
      "/tmp/ipykernel_10908/4255117356.py:1: FutureWarning: In future versions `DataFrame.to_latex` is expected to utilise the base implementation of `Styler.to_latex` for formatting and rendering. The arguments signature may therefore change. It is recommended instead to use `DataFrame.style.to_latex` which also contains additional functionality.\n",
      "  text=sdf.to_latex(index=False)\n"
     ]
    }
   ],
   "source": [
    "text=sdf.to_latex(index=False)\n",
    "print(text)"
   ]
  },
  {
   "cell_type": "code",
   "execution_count": 18,
   "id": "4a960a11",
   "metadata": {},
   "outputs": [],
   "source": [
    "RELATIVE_ADEXL_FOLDER=\"tesis_2020/lcadc_architecture_comp_single_stage_reset_bias_sim_neural/adexl/documents/\"\n",
    "files_summary = [\"Interactive.0.csv\"]"
   ]
  },
  {
   "cell_type": "code",
   "execution_count": 19,
   "id": "2bd29e4e",
   "metadata": {},
   "outputs": [],
   "source": [
    "files_summary_paths = [ Path(SIMULATION_OUTPUT)/RELATIVE_ADEXL_FOLDER/ file_name for file_name in files_summary]"
   ]
  },
  {
   "cell_type": "code",
   "execution_count": 20,
   "id": "6bc47885",
   "metadata": {},
   "outputs": [
    {
     "data": {
      "text/html": [
       "<div>\n",
       "<style scoped>\n",
       "    .dataframe tbody tr th:only-of-type {\n",
       "        vertical-align: middle;\n",
       "    }\n",
       "\n",
       "    .dataframe tbody tr th {\n",
       "        vertical-align: top;\n",
       "    }\n",
       "\n",
       "    .dataframe thead th {\n",
       "        text-align: right;\n",
       "    }\n",
       "</style>\n",
       "<table border=\"1\" class=\"dataframe\">\n",
       "  <thead>\n",
       "    <tr style=\"text-align: right;\">\n",
       "      <th></th>\n",
       "      <th>Output</th>\n",
       "      <th>Nominal</th>\n",
       "    </tr>\n",
       "  </thead>\n",
       "  <tbody>\n",
       "    <tr>\n",
       "      <th>0</th>\n",
       "      <td>average_current_comparator_cc</td>\n",
       "      <td>164.44n</td>\n",
       "    </tr>\n",
       "    <tr>\n",
       "      <th>1</th>\n",
       "      <td>average_current_comparator_cr</td>\n",
       "      <td>257.3n</td>\n",
       "    </tr>\n",
       "    <tr>\n",
       "      <th>2</th>\n",
       "      <td>average_current_comparator_reset</td>\n",
       "      <td>252.56n</td>\n",
       "    </tr>\n",
       "    <tr>\n",
       "      <th>3</th>\n",
       "      <td>average_current_counter</td>\n",
       "      <td>4.5026n</td>\n",
       "    </tr>\n",
       "    <tr>\n",
       "      <th>4</th>\n",
       "      <td>average_current_dac</td>\n",
       "      <td>202.31p</td>\n",
       "    </tr>\n",
       "    <tr>\n",
       "      <th>5</th>\n",
       "      <td>average_current_logic_dac</td>\n",
       "      <td>696.76p</td>\n",
       "    </tr>\n",
       "    <tr>\n",
       "      <th>6</th>\n",
       "      <td>average_current_logic_rlc</td>\n",
       "      <td>73.4n</td>\n",
       "    </tr>\n",
       "    <tr>\n",
       "      <th>7</th>\n",
       "      <td>average_current_logic_rlc_reset</td>\n",
       "      <td>51.721n</td>\n",
       "    </tr>\n",
       "    <tr>\n",
       "      <th>8</th>\n",
       "      <td>average_current_multiplexer</td>\n",
       "      <td>34.328p</td>\n",
       "    </tr>\n",
       "    <tr>\n",
       "      <th>9</th>\n",
       "      <td>average_total_current</td>\n",
       "      <td>810.47n</td>\n",
       "    </tr>\n",
       "    <tr>\n",
       "      <th>10</th>\n",
       "      <td>average_total_power</td>\n",
       "      <td>972.54n</td>\n",
       "    </tr>\n",
       "  </tbody>\n",
       "</table>\n",
       "</div>"
      ],
      "text/plain": [
       "                              Output  Nominal\n",
       "0      average_current_comparator_cc  164.44n\n",
       "1      average_current_comparator_cr   257.3n\n",
       "2   average_current_comparator_reset  252.56n\n",
       "3            average_current_counter  4.5026n\n",
       "4                average_current_dac  202.31p\n",
       "5          average_current_logic_dac  696.76p\n",
       "6          average_current_logic_rlc    73.4n\n",
       "7    average_current_logic_rlc_reset  51.721n\n",
       "8        average_current_multiplexer  34.328p\n",
       "9              average_total_current  810.47n\n",
       "10               average_total_power  972.54n"
      ]
     },
     "execution_count": 20,
     "metadata": {},
     "output_type": "execute_result"
    }
   ],
   "source": [
    "df_list =[ process_file(filepath) for filepath in files_summary_paths]\n",
    "ndf = pd.concat(df_list)\n",
    "ndf.dropna(subset=[\"Nominal\"],inplace=True)\n",
    "sdf=ndf.groupby(\"Output\").agg({\"Nominal\":\"mean\"}).reset_index()\n",
    "sdf.drop(sdf.loc[sdf[\"Output\"].isin([\"t_start\",\"t_interval\",\"t_stop\"])].index,inplace=True)\n",
    "sdf[\"Nominal\"]=sdf[\"Nominal\"].apply(lambda x: str(Quantity(x)))\n",
    "sdf"
   ]
  },
  {
   "cell_type": "code",
   "execution_count": 21,
   "id": "89cbb62c",
   "metadata": {},
   "outputs": [
    {
     "name": "stdout",
     "output_type": "stream",
     "text": [
      "\\begin{tabular}{ll}\n",
      "\\toprule\n",
      "                          Output & Nominal \\\\\n",
      "\\midrule\n",
      "   average\\_current\\_comparator\\_cc & 164.44n \\\\\n",
      "   average\\_current\\_comparator\\_cr &  257.3n \\\\\n",
      "average\\_current\\_comparator\\_reset & 252.56n \\\\\n",
      "         average\\_current\\_counter & 4.5026n \\\\\n",
      "             average\\_current\\_dac & 202.31p \\\\\n",
      "       average\\_current\\_logic\\_dac & 696.76p \\\\\n",
      "       average\\_current\\_logic\\_rlc &   73.4n \\\\\n",
      " average\\_current\\_logic\\_rlc\\_reset & 51.721n \\\\\n",
      "     average\\_current\\_multiplexer & 34.328p \\\\\n",
      "           average\\_total\\_current & 810.47n \\\\\n",
      "             average\\_total\\_power & 972.54n \\\\\n",
      "\\bottomrule\n",
      "\\end{tabular}\n",
      "\n"
     ]
    },
    {
     "name": "stderr",
     "output_type": "stream",
     "text": [
      "/tmp/ipykernel_10908/4255117356.py:1: FutureWarning: In future versions `DataFrame.to_latex` is expected to utilise the base implementation of `Styler.to_latex` for formatting and rendering. The arguments signature may therefore change. It is recommended instead to use `DataFrame.style.to_latex` which also contains additional functionality.\n",
      "  text=sdf.to_latex(index=False)\n"
     ]
    }
   ],
   "source": [
    "text=sdf.to_latex(index=False)\n",
    "print(text)"
   ]
  },
  {
   "cell_type": "code",
   "execution_count": null,
   "id": "2388f645",
   "metadata": {},
   "outputs": [],
   "source": []
  }
 ],
 "metadata": {
  "kernelspec": {
   "display_name": "Python 3 (ipykernel)",
   "language": "python",
   "name": "python3"
  },
  "language_info": {
   "codemirror_mode": {
    "name": "ipython",
    "version": 3
   },
   "file_extension": ".py",
   "mimetype": "text/x-python",
   "name": "python",
   "nbconvert_exporter": "python",
   "pygments_lexer": "ipython3",
   "version": "3.10.9"
  }
 },
 "nbformat": 4,
 "nbformat_minor": 5
}
