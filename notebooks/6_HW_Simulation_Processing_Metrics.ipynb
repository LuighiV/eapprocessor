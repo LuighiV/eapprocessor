{
 "cells": [
  {
   "cell_type": "code",
   "execution_count": 1,
   "id": "4da35a6a",
   "metadata": {},
   "outputs": [],
   "source": [
    "%load_ext autoreload\n",
    "%autoreload 2"
   ]
  },
  {
   "cell_type": "code",
   "execution_count": 2,
   "id": "08476d47",
   "metadata": {},
   "outputs": [],
   "source": [
    "from pathlib import Path"
   ]
  },
  {
   "cell_type": "code",
   "execution_count": 3,
   "id": "77316c5d",
   "metadata": {},
   "outputs": [],
   "source": [
    "SIMULATION_OUTPUT=\"/mnt/Archivos/Nextcloud/MaestriaPUCP/Thesis/development/project\""
   ]
  },
  {
   "cell_type": "code",
   "execution_count": 4,
   "id": "b43c7511",
   "metadata": {},
   "outputs": [],
   "source": [
    "RELATIVE_ADEXL_FOLDER=\"tesis_2020/sar_architecture_cm_differential_v2_sim_neural/adexl/documents\"\n",
    "files_summary = [\"Interactive.1.csv\", \"Interactive.0.csv\"]"
   ]
  },
  {
   "cell_type": "code",
   "execution_count": 5,
   "id": "061e9ed2",
   "metadata": {},
   "outputs": [],
   "source": [
    "files_summary_paths = [ Path(SIMULATION_OUTPUT)/RELATIVE_ADEXL_FOLDER/ file_name for file_name in files_summary]"
   ]
  },
  {
   "cell_type": "code",
   "execution_count": 6,
   "id": "7bb8eff2",
   "metadata": {},
   "outputs": [],
   "source": [
    "import pandas as pd"
   ]
  },
  {
   "cell_type": "code",
   "execution_count": 7,
   "id": "44d07ef4",
   "metadata": {},
   "outputs": [],
   "source": [
    "def get_df(filepath):\n",
    "    df = pd.read_csv(filepath, comment='\"', header=0)\n",
    "    return df"
   ]
  },
  {
   "cell_type": "code",
   "execution_count": 8,
   "id": "5eaef268",
   "metadata": {},
   "outputs": [
    {
     "data": {
      "text/html": [
       "<div>\n",
       "<style scoped>\n",
       "    .dataframe tbody tr th:only-of-type {\n",
       "        vertical-align: middle;\n",
       "    }\n",
       "\n",
       "    .dataframe tbody tr th {\n",
       "        vertical-align: top;\n",
       "    }\n",
       "\n",
       "    .dataframe thead th {\n",
       "        text-align: right;\n",
       "    }\n",
       "</style>\n",
       "<table border=\"1\" class=\"dataframe\">\n",
       "  <thead>\n",
       "    <tr style=\"text-align: right;\">\n",
       "      <th></th>\n",
       "      <th>Point</th>\n",
       "      <th>Test</th>\n",
       "      <th>Output</th>\n",
       "      <th>Nominal</th>\n",
       "      <th>Spec</th>\n",
       "      <th>Weight</th>\n",
       "      <th>Pass/Fail</th>\n",
       "    </tr>\n",
       "  </thead>\n",
       "  <tbody>\n",
       "    <tr>\n",
       "      <th>0</th>\n",
       "      <td>1</td>\n",
       "      <td>tesis_2020:sar_architecture_cm_differential_v2...</td>\n",
       "      <td>/Vin</td>\n",
       "      <td>NaN</td>\n",
       "      <td>NaN</td>\n",
       "      <td>NaN</td>\n",
       "      <td>NaN</td>\n",
       "    </tr>\n",
       "    <tr>\n",
       "      <th>1</th>\n",
       "      <td>1</td>\n",
       "      <td>tesis_2020:sar_architecture_cm_differential_v2...</td>\n",
       "      <td>/START_n</td>\n",
       "      <td>NaN</td>\n",
       "      <td>NaN</td>\n",
       "      <td>NaN</td>\n",
       "      <td>NaN</td>\n",
       "    </tr>\n",
       "    <tr>\n",
       "      <th>2</th>\n",
       "      <td>1</td>\n",
       "      <td>tesis_2020:sar_architecture_cm_differential_v2...</td>\n",
       "      <td>/RESET_n</td>\n",
       "      <td>NaN</td>\n",
       "      <td>NaN</td>\n",
       "      <td>NaN</td>\n",
       "      <td>NaN</td>\n",
       "    </tr>\n",
       "    <tr>\n",
       "      <th>3</th>\n",
       "      <td>1</td>\n",
       "      <td>tesis_2020:sar_architecture_cm_differential_v2...</td>\n",
       "      <td>/ZOH_OUT</td>\n",
       "      <td>NaN</td>\n",
       "      <td>NaN</td>\n",
       "      <td>NaN</td>\n",
       "      <td>NaN</td>\n",
       "    </tr>\n",
       "    <tr>\n",
       "      <th>4</th>\n",
       "      <td>1</td>\n",
       "      <td>tesis_2020:sar_architecture_cm_differential_v2...</td>\n",
       "      <td>/I61/VDD</td>\n",
       "      <td>NaN</td>\n",
       "      <td>NaN</td>\n",
       "      <td>NaN</td>\n",
       "      <td>NaN</td>\n",
       "    </tr>\n",
       "  </tbody>\n",
       "</table>\n",
       "</div>"
      ],
      "text/plain": [
       "   Point                                               Test    Output  \\\n",
       "0      1  tesis_2020:sar_architecture_cm_differential_v2...      /Vin   \n",
       "1      1  tesis_2020:sar_architecture_cm_differential_v2...  /START_n   \n",
       "2      1  tesis_2020:sar_architecture_cm_differential_v2...  /RESET_n   \n",
       "3      1  tesis_2020:sar_architecture_cm_differential_v2...  /ZOH_OUT   \n",
       "4      1  tesis_2020:sar_architecture_cm_differential_v2...  /I61/VDD   \n",
       "\n",
       "   Nominal  Spec  Weight  Pass/Fail  \n",
       "0      NaN   NaN     NaN        NaN  \n",
       "1      NaN   NaN     NaN        NaN  \n",
       "2      NaN   NaN     NaN        NaN  \n",
       "3      NaN   NaN     NaN        NaN  \n",
       "4      NaN   NaN     NaN        NaN  "
      ]
     },
     "execution_count": 8,
     "metadata": {},
     "output_type": "execute_result"
    }
   ],
   "source": [
    "df = get_df(files_summary_paths[0])\n",
    "df.head()"
   ]
  },
  {
   "cell_type": "code",
   "execution_count": 9,
   "id": "bcdb8de8",
   "metadata": {},
   "outputs": [],
   "source": [
    "def extract_parameter(line):\n",
    "    return line.split(\",\")[0].strip(\"\\\"\").split(\"=\")[1].strip(\"\\\"\")\n",
    "\n",
    "def extract_index_number(line):\n",
    "    return int(line.split(\",\")[0])"
   ]
  },
  {
   "cell_type": "code",
   "execution_count": 10,
   "id": "63f0ae10",
   "metadata": {},
   "outputs": [],
   "source": [
    "def get_metadata_dict(filepath):    \n",
    "    meta_list=[]\n",
    "    with open(filepath,'r') as f:\n",
    "        savenext=False\n",
    "        meta_pair=[]\n",
    "        for line in f:\n",
    "            if(savenext):\n",
    "                meta_pair.append(extract_index_number(line))\n",
    "                meta_list.append(meta_pair)\n",
    "                savenext=False\n",
    "                continue\n",
    "            if(line.startswith(\"\\\"\")):\n",
    "                meta_pair=[extract_parameter(line)]\n",
    "                savenext=True\n",
    "\n",
    "    l=list(zip(*meta_list))\n",
    "    l.reverse()\n",
    "    return dict(zip(*l))"
   ]
  },
  {
   "cell_type": "code",
   "execution_count": 11,
   "id": "ad0c07c0",
   "metadata": {},
   "outputs": [],
   "source": [
    "def process_file(filepath):\n",
    "    df = get_df(filepath)\n",
    "    map_point_to_filename = get_metadata_dict(filepath)\n",
    "    df[\"filename\"]=df[\"Point\"].map(map_point_to_filename)\n",
    "    return df"
   ]
  },
  {
   "cell_type": "code",
   "execution_count": 12,
   "id": "e9a1804b",
   "metadata": {},
   "outputs": [],
   "source": [
    "df_list =[ process_file(filepath) for filepath in files_summary_paths]"
   ]
  },
  {
   "cell_type": "code",
   "execution_count": 13,
   "id": "f647b692",
   "metadata": {},
   "outputs": [],
   "source": [
    "ndf = pd.concat(df_list)"
   ]
  },
  {
   "cell_type": "code",
   "execution_count": 14,
   "id": "59c880ea",
   "metadata": {},
   "outputs": [],
   "source": [
    "ndf.dropna(subset=[\"Nominal\"],inplace=True)"
   ]
  },
  {
   "cell_type": "code",
   "execution_count": 15,
   "id": "3d3bb8bf",
   "metadata": {},
   "outputs": [],
   "source": [
    "from quantiphy import Quantity "
   ]
  },
  {
   "cell_type": "code",
   "execution_count": 16,
   "id": "f8165567",
   "metadata": {},
   "outputs": [
    {
     "data": {
      "text/html": [
       "<div>\n",
       "<style scoped>\n",
       "    .dataframe tbody tr th:only-of-type {\n",
       "        vertical-align: middle;\n",
       "    }\n",
       "\n",
       "    .dataframe tbody tr th {\n",
       "        vertical-align: top;\n",
       "    }\n",
       "\n",
       "    .dataframe thead th {\n",
       "        text-align: right;\n",
       "    }\n",
       "</style>\n",
       "<table border=\"1\" class=\"dataframe\">\n",
       "  <thead>\n",
       "    <tr style=\"text-align: right;\">\n",
       "      <th></th>\n",
       "      <th>Output</th>\n",
       "      <th>Nominal</th>\n",
       "    </tr>\n",
       "  </thead>\n",
       "  <tbody>\n",
       "    <tr>\n",
       "      <th>0</th>\n",
       "      <td>Average_current_comparator</td>\n",
       "      <td>61.746n</td>\n",
       "    </tr>\n",
       "    <tr>\n",
       "      <th>1</th>\n",
       "      <td>Average_current_dac</td>\n",
       "      <td>10.021n</td>\n",
       "    </tr>\n",
       "    <tr>\n",
       "      <th>2</th>\n",
       "      <td>Average_current_logic</td>\n",
       "      <td>535.56n</td>\n",
       "    </tr>\n",
       "    <tr>\n",
       "      <th>3</th>\n",
       "      <td>Average_current_register</td>\n",
       "      <td>4.3016n</td>\n",
       "    </tr>\n",
       "    <tr>\n",
       "      <th>4</th>\n",
       "      <td>Average_current_total</td>\n",
       "      <td>875.48n</td>\n",
       "    </tr>\n",
       "    <tr>\n",
       "      <th>5</th>\n",
       "      <td>Average_power_total</td>\n",
       "      <td>1.0468u</td>\n",
       "    </tr>\n",
       "  </tbody>\n",
       "</table>\n",
       "</div>"
      ],
      "text/plain": [
       "                       Output  Nominal\n",
       "0  Average_current_comparator  61.746n\n",
       "1         Average_current_dac  10.021n\n",
       "2       Average_current_logic  535.56n\n",
       "3    Average_current_register  4.3016n\n",
       "4       Average_current_total  875.48n\n",
       "5         Average_power_total  1.0468u"
      ]
     },
     "execution_count": 16,
     "metadata": {},
     "output_type": "execute_result"
    }
   ],
   "source": [
    "sdf = ndf.groupby(\"Output\").agg({\"Nominal\":\"mean\"}).reset_index()\n",
    "sdf.drop(sdf.loc[sdf[\"Output\"].isin([\"t_start\",\"t_interval\",\"t_stop\"])].index,inplace=True)\n",
    "sdf[\"Nominal\"]=sdf[\"Nominal\"].apply(lambda x: str(Quantity(x)))\n",
    "sdf"
   ]
  },
  {
   "cell_type": "code",
   "execution_count": 17,
   "id": "4a960a11",
   "metadata": {},
   "outputs": [],
   "source": [
    "RELATIVE_ADEXL_FOLDER=\"tesis_2020/lcadc_architecture_comp_hysteresis_mixed_reset_sim_neural/adexl/documents/\"\n",
    "files_summary = [\"Interactive.0.csv\"]"
   ]
  },
  {
   "cell_type": "code",
   "execution_count": 18,
   "id": "2bd29e4e",
   "metadata": {},
   "outputs": [],
   "source": [
    "files_summary_paths = [ Path(SIMULATION_OUTPUT)/RELATIVE_ADEXL_FOLDER/ file_name for file_name in files_summary]"
   ]
  },
  {
   "cell_type": "code",
   "execution_count": 19,
   "id": "6bc47885",
   "metadata": {},
   "outputs": [
    {
     "data": {
      "text/html": [
       "<div>\n",
       "<style scoped>\n",
       "    .dataframe tbody tr th:only-of-type {\n",
       "        vertical-align: middle;\n",
       "    }\n",
       "\n",
       "    .dataframe tbody tr th {\n",
       "        vertical-align: top;\n",
       "    }\n",
       "\n",
       "    .dataframe thead th {\n",
       "        text-align: right;\n",
       "    }\n",
       "</style>\n",
       "<table border=\"1\" class=\"dataframe\">\n",
       "  <thead>\n",
       "    <tr style=\"text-align: right;\">\n",
       "      <th></th>\n",
       "      <th>Output</th>\n",
       "      <th>Nominal</th>\n",
       "    </tr>\n",
       "  </thead>\n",
       "  <tbody>\n",
       "    <tr>\n",
       "      <th>0</th>\n",
       "      <td>average_current_comparator_cc</td>\n",
       "      <td>533.96n</td>\n",
       "    </tr>\n",
       "    <tr>\n",
       "      <th>1</th>\n",
       "      <td>average_current_comparator_cr</td>\n",
       "      <td>1.2558u</td>\n",
       "    </tr>\n",
       "    <tr>\n",
       "      <th>2</th>\n",
       "      <td>average_current_counter</td>\n",
       "      <td>6.9221n</td>\n",
       "    </tr>\n",
       "    <tr>\n",
       "      <th>3</th>\n",
       "      <td>average_current_dac</td>\n",
       "      <td>306.11p</td>\n",
       "    </tr>\n",
       "    <tr>\n",
       "      <th>4</th>\n",
       "      <td>average_current_logic_dac</td>\n",
       "      <td>8.6912n</td>\n",
       "    </tr>\n",
       "    <tr>\n",
       "      <th>5</th>\n",
       "      <td>average_current_logic_rlc</td>\n",
       "      <td>53.429n</td>\n",
       "    </tr>\n",
       "    <tr>\n",
       "      <th>6</th>\n",
       "      <td>average_current_multiplexer</td>\n",
       "      <td>34.586p</td>\n",
       "    </tr>\n",
       "    <tr>\n",
       "      <th>7</th>\n",
       "      <td>average_total_current</td>\n",
       "      <td>3.205u</td>\n",
       "    </tr>\n",
       "    <tr>\n",
       "      <th>8</th>\n",
       "      <td>average_total_power</td>\n",
       "      <td>3.8459u</td>\n",
       "    </tr>\n",
       "  </tbody>\n",
       "</table>\n",
       "</div>"
      ],
      "text/plain": [
       "                          Output  Nominal\n",
       "0  average_current_comparator_cc  533.96n\n",
       "1  average_current_comparator_cr  1.2558u\n",
       "2        average_current_counter  6.9221n\n",
       "3            average_current_dac  306.11p\n",
       "4      average_current_logic_dac  8.6912n\n",
       "5      average_current_logic_rlc  53.429n\n",
       "6    average_current_multiplexer  34.586p\n",
       "7          average_total_current   3.205u\n",
       "8            average_total_power  3.8459u"
      ]
     },
     "execution_count": 19,
     "metadata": {},
     "output_type": "execute_result"
    }
   ],
   "source": [
    "df_list =[ process_file(filepath) for filepath in files_summary_paths]\n",
    "ndf = pd.concat(df_list)\n",
    "ndf.dropna(subset=[\"Nominal\"],inplace=True)\n",
    "sdf=ndf.groupby(\"Output\").agg({\"Nominal\":\"mean\"}).reset_index()\n",
    "sdf.drop(sdf.loc[sdf[\"Output\"].isin([\"t_start\",\"t_interval\",\"t_stop\"])].index,inplace=True)\n",
    "sdf[\"Nominal\"]=sdf[\"Nominal\"].apply(lambda x: str(Quantity(x)))\n",
    "sdf"
   ]
  },
  {
   "cell_type": "code",
   "execution_count": null,
   "id": "89cbb62c",
   "metadata": {},
   "outputs": [],
   "source": []
  }
 ],
 "metadata": {
  "kernelspec": {
   "display_name": "Python 3 (ipykernel)",
   "language": "python",
   "name": "python3"
  },
  "language_info": {
   "codemirror_mode": {
    "name": "ipython",
    "version": 3
   },
   "file_extension": ".py",
   "mimetype": "text/x-python",
   "name": "python",
   "nbconvert_exporter": "python",
   "pygments_lexer": "ipython3",
   "version": "3.10.8"
  }
 },
 "nbformat": 4,
 "nbformat_minor": 5
}
