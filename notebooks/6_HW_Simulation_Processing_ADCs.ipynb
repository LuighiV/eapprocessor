{
 "cells": [
  {
   "cell_type": "code",
   "execution_count": 1,
   "id": "8a6f53c5",
   "metadata": {},
   "outputs": [],
   "source": [
    "%load_ext autoreload\n",
    "%autoreload 2"
   ]
  },
  {
   "cell_type": "code",
   "execution_count": 2,
   "id": "67bc6ade",
   "metadata": {},
   "outputs": [],
   "source": [
    "SIMULATION_OUTPUT=\"/mnt/Archivos/Nextcloud/MaestriaPUCP/Thesis/development/project\""
   ]
  },
  {
   "cell_type": "code",
   "execution_count": 3,
   "id": "d31fc68b",
   "metadata": {},
   "outputs": [],
   "source": [
    "import pandas as pd\n",
    "from pathlib import Path\n",
    "import itertools"
   ]
  },
  {
   "cell_type": "code",
   "execution_count": 4,
   "id": "7cf8d930",
   "metadata": {},
   "outputs": [],
   "source": [
    "#results are split in two files\n",
    "RELATIVE_FILE_PATHS=[\"results/output_sar_neural.1.vcsv\", \"results/output_sar_neural.0.vcsv\"]"
   ]
  },
  {
   "cell_type": "code",
   "execution_count": 5,
   "id": "e6ae8093",
   "metadata": {},
   "outputs": [],
   "source": [
    "filepaths = [Path(SIMULATION_OUTPUT)/filepath for filepath in RELATIVE_FILE_PATHS]"
   ]
  },
  {
   "cell_type": "code",
   "execution_count": 6,
   "id": "3bca64e2",
   "metadata": {},
   "outputs": [],
   "source": [
    "chunks_list = [[5,4,3,2,1,0],[9,8,7,6]]"
   ]
  },
  {
   "cell_type": "code",
   "execution_count": 7,
   "id": "78f65245",
   "metadata": {},
   "outputs": [],
   "source": [
    "def generate_headers(number, prefix):\n",
    "    return [\"\".join([prefix,\"_\",str(number)]),str(number)]\n",
    "\n",
    "def generate_list_headers(numbers):\n",
    "    return [generate_headers(number, \"time\") for number in numbers]"
   ]
  },
  {
   "cell_type": "code",
   "execution_count": 8,
   "id": "4c416d51",
   "metadata": {},
   "outputs": [],
   "source": [
    "def get_df(filepath, header):\n",
    "    df = pd.read_csv(filepath, comment=';', header=None, \n",
    "                 names=header)\n",
    "    return df[header].copy()"
   ]
  },
  {
   "cell_type": "code",
   "execution_count": 9,
   "id": "9242656d",
   "metadata": {},
   "outputs": [],
   "source": [
    "df_list = []\n",
    "for filepath, chunks in zip(filepaths, chunks_list):\n",
    "    header_list = generate_list_headers(chunks)\n",
    "    flat_list = list(itertools.chain(*header_list))\n",
    "    df_list.append(get_df(filepath,flat_list))"
   ]
  },
  {
   "cell_type": "code",
   "execution_count": 10,
   "id": "21c6b350",
   "metadata": {},
   "outputs": [],
   "source": [
    "df=pd.concat(df_list, axis=1)"
   ]
  },
  {
   "cell_type": "code",
   "execution_count": 11,
   "id": "f33a677e",
   "metadata": {},
   "outputs": [],
   "source": [
    "#come from 7_Export_signals\n",
    "start_times=[ 0.0,\n",
    " 0.99915,\n",
    " 1.999,\n",
    " 2.9937,\n",
    " 3.99875,\n",
    " 4.99575,\n",
    " 5.9998,\n",
    " 6.98785,\n",
    " 8.0024,\n",
    " 8.99575 ]\n",
    "\n",
    "end_times=[0.9991,\n",
    " 0.9998,\n",
    " 0.99465,\n",
    " 1.005,\n",
    " 0.9969500000000004,\n",
    " 1.0039999999999996,\n",
    " 0.9880000000000004,\n",
    " 1.0145,\n",
    " 0.9932999999999996,\n",
    " 1.0042000000000009]"
   ]
  },
  {
   "cell_type": "code",
   "execution_count": 12,
   "id": "b0930bad",
   "metadata": {},
   "outputs": [],
   "source": [
    "rounded_end_times=[round(end_time,5) for end_time in end_times]"
   ]
  },
  {
   "cell_type": "code",
   "execution_count": 13,
   "id": "25befcb0",
   "metadata": {
    "scrolled": true
   },
   "outputs": [
    {
     "data": {
      "text/html": [
       "<div>\n",
       "<style scoped>\n",
       "    .dataframe tbody tr th:only-of-type {\n",
       "        vertical-align: middle;\n",
       "    }\n",
       "\n",
       "    .dataframe tbody tr th {\n",
       "        vertical-align: top;\n",
       "    }\n",
       "\n",
       "    .dataframe thead th {\n",
       "        text-align: right;\n",
       "    }\n",
       "</style>\n",
       "<table border=\"1\" class=\"dataframe\">\n",
       "  <thead>\n",
       "    <tr style=\"text-align: right;\">\n",
       "      <th></th>\n",
       "      <th>time_5</th>\n",
       "      <th>5</th>\n",
       "      <th>time_4</th>\n",
       "      <th>4</th>\n",
       "      <th>time_3</th>\n",
       "      <th>3</th>\n",
       "      <th>time_2</th>\n",
       "      <th>2</th>\n",
       "      <th>time_1</th>\n",
       "      <th>1</th>\n",
       "      <th>time_0</th>\n",
       "      <th>0</th>\n",
       "      <th>time_9</th>\n",
       "      <th>9</th>\n",
       "      <th>time_8</th>\n",
       "      <th>8</th>\n",
       "      <th>time_7</th>\n",
       "      <th>7</th>\n",
       "      <th>time_6</th>\n",
       "      <th>6</th>\n",
       "    </tr>\n",
       "  </thead>\n",
       "  <tbody>\n",
       "    <tr>\n",
       "      <th>0</th>\n",
       "      <td>4.99575</td>\n",
       "      <td>0.000000</td>\n",
       "      <td>3.99875</td>\n",
       "      <td>0.000000</td>\n",
       "      <td>2.99370</td>\n",
       "      <td>0.000000</td>\n",
       "      <td>1.99900</td>\n",
       "      <td>0.000000</td>\n",
       "      <td>0.99915</td>\n",
       "      <td>0.000000</td>\n",
       "      <td>0.00000</td>\n",
       "      <td>0.000000</td>\n",
       "      <td>8.99575</td>\n",
       "      <td>0.000000</td>\n",
       "      <td>8.00240</td>\n",
       "      <td>0.000000</td>\n",
       "      <td>6.98785</td>\n",
       "      <td>0.000000</td>\n",
       "      <td>5.99980</td>\n",
       "      <td>0.000000</td>\n",
       "    </tr>\n",
       "    <tr>\n",
       "      <th>1</th>\n",
       "      <td>4.99580</td>\n",
       "      <td>-0.004687</td>\n",
       "      <td>3.99880</td>\n",
       "      <td>-0.004687</td>\n",
       "      <td>2.99375</td>\n",
       "      <td>-0.004687</td>\n",
       "      <td>1.99905</td>\n",
       "      <td>-0.004687</td>\n",
       "      <td>0.99920</td>\n",
       "      <td>-0.004687</td>\n",
       "      <td>0.00005</td>\n",
       "      <td>0.000000</td>\n",
       "      <td>8.99580</td>\n",
       "      <td>-0.004687</td>\n",
       "      <td>8.00245</td>\n",
       "      <td>0.000000</td>\n",
       "      <td>6.98790</td>\n",
       "      <td>-0.004687</td>\n",
       "      <td>5.99985</td>\n",
       "      <td>0.000000</td>\n",
       "    </tr>\n",
       "    <tr>\n",
       "      <th>2</th>\n",
       "      <td>4.99585</td>\n",
       "      <td>-0.004687</td>\n",
       "      <td>3.99885</td>\n",
       "      <td>0.000000</td>\n",
       "      <td>2.99380</td>\n",
       "      <td>-0.004687</td>\n",
       "      <td>1.99910</td>\n",
       "      <td>-0.004687</td>\n",
       "      <td>0.99925</td>\n",
       "      <td>-0.004687</td>\n",
       "      <td>0.00010</td>\n",
       "      <td>0.004687</td>\n",
       "      <td>8.99585</td>\n",
       "      <td>-0.004687</td>\n",
       "      <td>8.00250</td>\n",
       "      <td>-0.004687</td>\n",
       "      <td>6.98795</td>\n",
       "      <td>-0.014063</td>\n",
       "      <td>5.99990</td>\n",
       "      <td>0.000000</td>\n",
       "    </tr>\n",
       "    <tr>\n",
       "      <th>3</th>\n",
       "      <td>4.99590</td>\n",
       "      <td>-0.004687</td>\n",
       "      <td>3.99890</td>\n",
       "      <td>0.004687</td>\n",
       "      <td>2.99385</td>\n",
       "      <td>-0.018750</td>\n",
       "      <td>1.99915</td>\n",
       "      <td>0.000000</td>\n",
       "      <td>0.99930</td>\n",
       "      <td>-0.018750</td>\n",
       "      <td>0.00015</td>\n",
       "      <td>0.000000</td>\n",
       "      <td>8.99590</td>\n",
       "      <td>0.000000</td>\n",
       "      <td>8.00255</td>\n",
       "      <td>0.004687</td>\n",
       "      <td>6.98800</td>\n",
       "      <td>-0.004687</td>\n",
       "      <td>5.99995</td>\n",
       "      <td>-0.004687</td>\n",
       "    </tr>\n",
       "    <tr>\n",
       "      <th>4</th>\n",
       "      <td>4.99595</td>\n",
       "      <td>-0.004687</td>\n",
       "      <td>3.99895</td>\n",
       "      <td>0.009375</td>\n",
       "      <td>2.99390</td>\n",
       "      <td>-0.014063</td>\n",
       "      <td>1.99920</td>\n",
       "      <td>0.004687</td>\n",
       "      <td>0.99935</td>\n",
       "      <td>0.000000</td>\n",
       "      <td>0.00020</td>\n",
       "      <td>-0.023438</td>\n",
       "      <td>8.99595</td>\n",
       "      <td>0.009375</td>\n",
       "      <td>8.00260</td>\n",
       "      <td>-0.009375</td>\n",
       "      <td>6.98805</td>\n",
       "      <td>0.000000</td>\n",
       "      <td>6.00000</td>\n",
       "      <td>0.004687</td>\n",
       "    </tr>\n",
       "    <tr>\n",
       "      <th>...</th>\n",
       "      <td>...</td>\n",
       "      <td>...</td>\n",
       "      <td>...</td>\n",
       "      <td>...</td>\n",
       "      <td>...</td>\n",
       "      <td>...</td>\n",
       "      <td>...</td>\n",
       "      <td>...</td>\n",
       "      <td>...</td>\n",
       "      <td>...</td>\n",
       "      <td>...</td>\n",
       "      <td>...</td>\n",
       "      <td>...</td>\n",
       "      <td>...</td>\n",
       "      <td>...</td>\n",
       "      <td>...</td>\n",
       "      <td>...</td>\n",
       "      <td>...</td>\n",
       "      <td>...</td>\n",
       "      <td>...</td>\n",
       "    </tr>\n",
       "    <tr>\n",
       "      <th>20286</th>\n",
       "      <td>6.01005</td>\n",
       "      <td>0.000000</td>\n",
       "      <td>5.01305</td>\n",
       "      <td>-0.004687</td>\n",
       "      <td>4.00800</td>\n",
       "      <td>0.000000</td>\n",
       "      <td>3.01330</td>\n",
       "      <td>-0.004687</td>\n",
       "      <td>2.01345</td>\n",
       "      <td>-0.004687</td>\n",
       "      <td>1.01430</td>\n",
       "      <td>-0.004687</td>\n",
       "      <td>10.01005</td>\n",
       "      <td>0.000000</td>\n",
       "      <td>9.01670</td>\n",
       "      <td>0.000000</td>\n",
       "      <td>8.00215</td>\n",
       "      <td>-0.018750</td>\n",
       "      <td>7.01410</td>\n",
       "      <td>-0.004687</td>\n",
       "    </tr>\n",
       "    <tr>\n",
       "      <th>20287</th>\n",
       "      <td>6.01010</td>\n",
       "      <td>0.000000</td>\n",
       "      <td>5.01310</td>\n",
       "      <td>-0.004687</td>\n",
       "      <td>4.00805</td>\n",
       "      <td>0.000000</td>\n",
       "      <td>3.01335</td>\n",
       "      <td>-0.004687</td>\n",
       "      <td>2.01350</td>\n",
       "      <td>-0.004687</td>\n",
       "      <td>1.01435</td>\n",
       "      <td>-0.004687</td>\n",
       "      <td>10.01010</td>\n",
       "      <td>0.000000</td>\n",
       "      <td>9.01675</td>\n",
       "      <td>0.000000</td>\n",
       "      <td>8.00220</td>\n",
       "      <td>-0.004687</td>\n",
       "      <td>7.01415</td>\n",
       "      <td>-0.004687</td>\n",
       "    </tr>\n",
       "    <tr>\n",
       "      <th>20288</th>\n",
       "      <td>6.01015</td>\n",
       "      <td>0.000000</td>\n",
       "      <td>5.01315</td>\n",
       "      <td>-0.004687</td>\n",
       "      <td>4.00810</td>\n",
       "      <td>0.000000</td>\n",
       "      <td>3.01340</td>\n",
       "      <td>-0.004687</td>\n",
       "      <td>2.01355</td>\n",
       "      <td>-0.004687</td>\n",
       "      <td>1.01440</td>\n",
       "      <td>-0.004687</td>\n",
       "      <td>10.01015</td>\n",
       "      <td>0.000000</td>\n",
       "      <td>9.01680</td>\n",
       "      <td>0.000000</td>\n",
       "      <td>8.00225</td>\n",
       "      <td>0.000000</td>\n",
       "      <td>7.01420</td>\n",
       "      <td>-0.004687</td>\n",
       "    </tr>\n",
       "    <tr>\n",
       "      <th>20289</th>\n",
       "      <td>6.01020</td>\n",
       "      <td>0.000000</td>\n",
       "      <td>5.01320</td>\n",
       "      <td>-0.004687</td>\n",
       "      <td>4.00815</td>\n",
       "      <td>0.000000</td>\n",
       "      <td>3.01345</td>\n",
       "      <td>-0.004687</td>\n",
       "      <td>2.01360</td>\n",
       "      <td>-0.004687</td>\n",
       "      <td>1.01445</td>\n",
       "      <td>-0.004687</td>\n",
       "      <td>10.01020</td>\n",
       "      <td>0.000000</td>\n",
       "      <td>9.01685</td>\n",
       "      <td>0.000000</td>\n",
       "      <td>8.00230</td>\n",
       "      <td>-0.004687</td>\n",
       "      <td>7.01425</td>\n",
       "      <td>-0.004687</td>\n",
       "    </tr>\n",
       "    <tr>\n",
       "      <th>20290</th>\n",
       "      <td>6.01025</td>\n",
       "      <td>0.000000</td>\n",
       "      <td>5.01325</td>\n",
       "      <td>-0.004687</td>\n",
       "      <td>4.00820</td>\n",
       "      <td>0.000000</td>\n",
       "      <td>3.01350</td>\n",
       "      <td>-0.004687</td>\n",
       "      <td>2.01365</td>\n",
       "      <td>-0.004687</td>\n",
       "      <td>1.01450</td>\n",
       "      <td>-0.004687</td>\n",
       "      <td>10.01025</td>\n",
       "      <td>0.000000</td>\n",
       "      <td>9.01690</td>\n",
       "      <td>0.000000</td>\n",
       "      <td>8.00235</td>\n",
       "      <td>-0.004687</td>\n",
       "      <td>7.01430</td>\n",
       "      <td>-0.004687</td>\n",
       "    </tr>\n",
       "  </tbody>\n",
       "</table>\n",
       "<p>20291 rows × 20 columns</p>\n",
       "</div>"
      ],
      "text/plain": [
       "        time_5         5   time_4         4   time_3         3   time_2  \\\n",
       "0      4.99575  0.000000  3.99875  0.000000  2.99370  0.000000  1.99900   \n",
       "1      4.99580 -0.004687  3.99880 -0.004687  2.99375 -0.004687  1.99905   \n",
       "2      4.99585 -0.004687  3.99885  0.000000  2.99380 -0.004687  1.99910   \n",
       "3      4.99590 -0.004687  3.99890  0.004687  2.99385 -0.018750  1.99915   \n",
       "4      4.99595 -0.004687  3.99895  0.009375  2.99390 -0.014063  1.99920   \n",
       "...        ...       ...      ...       ...      ...       ...      ...   \n",
       "20286  6.01005  0.000000  5.01305 -0.004687  4.00800  0.000000  3.01330   \n",
       "20287  6.01010  0.000000  5.01310 -0.004687  4.00805  0.000000  3.01335   \n",
       "20288  6.01015  0.000000  5.01315 -0.004687  4.00810  0.000000  3.01340   \n",
       "20289  6.01020  0.000000  5.01320 -0.004687  4.00815  0.000000  3.01345   \n",
       "20290  6.01025  0.000000  5.01325 -0.004687  4.00820  0.000000  3.01350   \n",
       "\n",
       "              2   time_1         1   time_0         0    time_9         9  \\\n",
       "0      0.000000  0.99915  0.000000  0.00000  0.000000   8.99575  0.000000   \n",
       "1     -0.004687  0.99920 -0.004687  0.00005  0.000000   8.99580 -0.004687   \n",
       "2     -0.004687  0.99925 -0.004687  0.00010  0.004687   8.99585 -0.004687   \n",
       "3      0.000000  0.99930 -0.018750  0.00015  0.000000   8.99590  0.000000   \n",
       "4      0.004687  0.99935  0.000000  0.00020 -0.023438   8.99595  0.009375   \n",
       "...         ...      ...       ...      ...       ...       ...       ...   \n",
       "20286 -0.004687  2.01345 -0.004687  1.01430 -0.004687  10.01005  0.000000   \n",
       "20287 -0.004687  2.01350 -0.004687  1.01435 -0.004687  10.01010  0.000000   \n",
       "20288 -0.004687  2.01355 -0.004687  1.01440 -0.004687  10.01015  0.000000   \n",
       "20289 -0.004687  2.01360 -0.004687  1.01445 -0.004687  10.01020  0.000000   \n",
       "20290 -0.004687  2.01365 -0.004687  1.01450 -0.004687  10.01025  0.000000   \n",
       "\n",
       "        time_8         8   time_7         7   time_6         6  \n",
       "0      8.00240  0.000000  6.98785  0.000000  5.99980  0.000000  \n",
       "1      8.00245  0.000000  6.98790 -0.004687  5.99985  0.000000  \n",
       "2      8.00250 -0.004687  6.98795 -0.014063  5.99990  0.000000  \n",
       "3      8.00255  0.004687  6.98800 -0.004687  5.99995 -0.004687  \n",
       "4      8.00260 -0.009375  6.98805  0.000000  6.00000  0.004687  \n",
       "...        ...       ...      ...       ...      ...       ...  \n",
       "20286  9.01670  0.000000  8.00215 -0.018750  7.01410 -0.004687  \n",
       "20287  9.01675  0.000000  8.00220 -0.004687  7.01415 -0.004687  \n",
       "20288  9.01680  0.000000  8.00225  0.000000  7.01420 -0.004687  \n",
       "20289  9.01685  0.000000  8.00230 -0.004687  7.01425 -0.004687  \n",
       "20290  9.01690  0.000000  8.00235 -0.004687  7.01430 -0.004687  \n",
       "\n",
       "[20291 rows x 20 columns]"
      ]
     },
     "execution_count": 13,
     "metadata": {},
     "output_type": "execute_result"
    }
   ],
   "source": [
    "ndf = df.copy()\n",
    "delay = 50e-6\n",
    "for i, start_time in enumerate(start_times):\n",
    "    ndf[f\"time_{str(i)}\"] = df[f\"time_{str(i)}\"] - delay + start_time\n",
    "ndf = ndf.drop([0]).reset_index(drop=True)\n",
    "ndf"
   ]
  },
  {
   "cell_type": "code",
   "execution_count": 14,
   "id": "37bbd5f3",
   "metadata": {},
   "outputs": [],
   "source": [
    "import numpy as np"
   ]
  },
  {
   "cell_type": "code",
   "execution_count": 15,
   "id": "3b3d10f6",
   "metadata": {},
   "outputs": [
    {
     "data": {
      "text/plain": [
       "[          time    values\n",
       " 0      0.00000  0.000000\n",
       " 1      0.00005  0.000000\n",
       " 2      0.00010  0.004687\n",
       " 3      0.00015  0.000000\n",
       " 4      0.00020 -0.023438\n",
       " ...        ...       ...\n",
       " 19978  0.99890  0.004687\n",
       " 19979  0.99895 -0.009375\n",
       " 19980  0.99900  0.000000\n",
       " 19981  0.99905  0.000000\n",
       " 19982  0.99910 -0.004687\n",
       " \n",
       " [19983 rows x 2 columns],\n",
       "           time    values\n",
       " 0      0.99915  0.000000\n",
       " 1      0.99920 -0.004687\n",
       " 2      0.99925 -0.004687\n",
       " 3      0.99930 -0.018750\n",
       " 4      0.99935  0.000000\n",
       " ...        ...       ...\n",
       " 19992  1.99875  0.000000\n",
       " 19993  1.99880 -0.009375\n",
       " 19994  1.99885  0.009375\n",
       " 19995  1.99890  0.004687\n",
       " 19996  1.99895 -0.004687\n",
       " \n",
       " [19997 rows x 2 columns],\n",
       "           time    values\n",
       " 0      1.99900  0.000000\n",
       " 1      1.99905 -0.004687\n",
       " 2      1.99910 -0.004687\n",
       " 3      1.99915  0.000000\n",
       " 4      1.99920  0.004687\n",
       " ...        ...       ...\n",
       " 19889  2.99345 -0.004687\n",
       " 19890  2.99350 -0.004687\n",
       " 19891  2.99355 -0.004687\n",
       " 19892  2.99360 -0.009375\n",
       " 19893  2.99365 -0.004687\n",
       " \n",
       " [19894 rows x 2 columns],\n",
       "           time    values\n",
       " 0      2.99370  0.000000\n",
       " 1      2.99375 -0.004687\n",
       " 2      2.99380 -0.004687\n",
       " 3      2.99385 -0.018750\n",
       " 4      2.99390 -0.014063\n",
       " ...        ...       ...\n",
       " 20096  3.99850  0.004687\n",
       " 20097  3.99855  0.009375\n",
       " 20098  3.99860  0.004687\n",
       " 20099  3.99865  0.000000\n",
       " 20100  3.99870  0.000000\n",
       " \n",
       " [20101 rows x 2 columns],\n",
       "           time    values\n",
       " 0      3.99875  0.000000\n",
       " 1      3.99880 -0.004687\n",
       " 2      3.99885  0.000000\n",
       " 3      3.99890  0.004687\n",
       " 4      3.99895  0.009375\n",
       " ...        ...       ...\n",
       " 19935  4.99550 -0.009375\n",
       " 19936  4.99555 -0.004687\n",
       " 19937  4.99560 -0.009375\n",
       " 19938  4.99565 -0.009375\n",
       " 19939  4.99570 -0.004687\n",
       " \n",
       " [19940 rows x 2 columns],\n",
       "           time    values\n",
       " 0      4.99575  0.000000\n",
       " 1      4.99580 -0.004687\n",
       " 2      4.99585 -0.004687\n",
       " 3      4.99590 -0.004687\n",
       " 4      4.99595 -0.004687\n",
       " ...        ...       ...\n",
       " 20076  5.99955  0.000000\n",
       " 20077  5.99960  0.004687\n",
       " 20078  5.99965  0.000000\n",
       " 20079  5.99970  0.004687\n",
       " 20080  5.99975  0.000000\n",
       " \n",
       " [20081 rows x 2 columns],\n",
       "           time    values\n",
       " 0      5.99980  0.000000\n",
       " 1      5.99985  0.000000\n",
       " 2      5.99990  0.000000\n",
       " 3      5.99995 -0.004687\n",
       " 4      6.00000  0.004687\n",
       " ...        ...       ...\n",
       " 19756  6.98760  0.009375\n",
       " 19757  6.98765 -0.009375\n",
       " 19758  6.98770  0.004687\n",
       " 19759  6.98775  0.004687\n",
       " 19760  6.98780 -0.004687\n",
       " \n",
       " [19761 rows x 2 columns],\n",
       "           time    values\n",
       " 0      6.98785  0.000000\n",
       " 1      6.98790 -0.004687\n",
       " 2      6.98795 -0.014063\n",
       " 3      6.98800 -0.004687\n",
       " 4      6.98805  0.000000\n",
       " ...        ...       ...\n",
       " 20286  8.00215 -0.018750\n",
       " 20287  8.00220 -0.004687\n",
       " 20288  8.00225  0.000000\n",
       " 20289  8.00230 -0.004687\n",
       " 20290  8.00235 -0.004687\n",
       " \n",
       " [20291 rows x 2 columns],\n",
       "           time    values\n",
       " 0      8.00240  0.000000\n",
       " 1      8.00245  0.000000\n",
       " 2      8.00250 -0.004687\n",
       " 3      8.00255  0.004687\n",
       " 4      8.00260 -0.009375\n",
       " ...        ...       ...\n",
       " 19862  8.99550 -0.028125\n",
       " 19863  8.99555 -0.009375\n",
       " 19864  8.99560  0.000000\n",
       " 19865  8.99565 -0.009375\n",
       " 19866  8.99570  0.000000\n",
       " \n",
       " [19867 rows x 2 columns],\n",
       "           time    values\n",
       " 0      8.99575  0.000000\n",
       " 1      8.99580 -0.004687\n",
       " 2      8.99585 -0.004687\n",
       " 3      8.99590  0.000000\n",
       " 4      8.99595  0.009375\n",
       " ...        ...       ...\n",
       " 20080  9.99975  0.014063\n",
       " 20081  9.99980 -0.004687\n",
       " 20082  9.99985 -0.009375\n",
       " 20083  9.99990 -0.009375\n",
       " 20084  9.99995 -0.009375\n",
       " \n",
       " [20085 rows x 2 columns]]"
      ]
     },
     "execution_count": 15,
     "metadata": {},
     "output_type": "execute_result"
    }
   ],
   "source": [
    "list_df_chunks = []\n",
    "tolerance = 50e-6/2\n",
    "for i, end_time in enumerate(rounded_end_times):\n",
    "    seldf = ndf[[f\"time_{i}\",str(i)]].copy()\n",
    "    absolute_end_time = seldf[f\"time_{i}\"][0] + end_time\n",
    "    index = seldf.loc[np.abs(ndf[f\"time_{i}\"]-absolute_end_time)<tolerance].index.values[0]\n",
    "    list_df_chunks.append(seldf.iloc[0:index+1].rename(columns={f\"time_{i}\": \"time\", str(i): \"values\"}))\n",
    "list_df_chunks"
   ]
  },
  {
   "cell_type": "code",
   "execution_count": 16,
   "id": "58d8bb5a",
   "metadata": {},
   "outputs": [],
   "source": [
    "rdf = pd.concat(list_df_chunks)"
   ]
  },
  {
   "cell_type": "code",
   "execution_count": 17,
   "id": "7847dd33",
   "metadata": {},
   "outputs": [],
   "source": [
    "import matplotlib.pyplot as plt"
   ]
  },
  {
   "cell_type": "code",
   "execution_count": 18,
   "id": "5be24286",
   "metadata": {
    "scrolled": false
   },
   "outputs": [
    {
     "data": {
      "text/plain": [
       "[<matplotlib.lines.Line2D at 0x7f14b9f120b0>]"
      ]
     },
     "execution_count": 18,
     "metadata": {},
     "output_type": "execute_result"
    },
    {
     "data": {
      "image/png": "[encoded data removed]",
      "text/plain": [
       "<Figure size 864x432 with 1 Axes>"
      ]
     },
     "metadata": {
      "needs_background": "light"
     },
     "output_type": "display_data"
    }
   ],
   "source": [
    "fig= plt.figure(figsize=(12, 6))\n",
    "ax = fig.add_subplot(1,1,1)\n",
    "ax.plot(rdf[\"time\"],rdf[\"values\"])"
   ]
  },
  {
   "cell_type": "code",
   "execution_count": 19,
   "id": "e3ac10b4",
   "metadata": {},
   "outputs": [],
   "source": [
    "BASE_PATH = \"/mnt/Data/data\"\n",
    "base_dir = Path(BASE_PATH).resolve()\n",
    "\n",
    "config = {\n",
    "    \"config_folder\": \"../data/mearec\",\n",
    "    \"recordings_folder\": str(base_dir / \"output/recordings\"),\n",
    "    \"templates_folder\": str(base_dir / \"output/templates\")\n",
    "}\n",
    "channel_indexes=[21,27]\n",
    "fs_list = [24000, 20000, 16000]\n",
    "noise_levels = [5, 10, 15, 25]\n",
    "nthresholds = 50"
   ]
  },
  {
   "cell_type": "code",
   "execution_count": 20,
   "id": "e236b686",
   "metadata": {},
   "outputs": [],
   "source": [
    "from eapprocessor.mearec.api import generate_templates, generate_recordings, load_recordings"
   ]
  },
  {
   "cell_type": "code",
   "execution_count": 21,
   "id": "34a76b1c",
   "metadata": {},
   "outputs": [
    {
     "name": "stdout",
     "output_type": "stream",
     "text": [
      "Found file /mnt/Data/data/output/recordings/recordings_10cells_Neuronexus-32_10.0_5uV_24000Hz_2021-12-02_10-59.h5\n",
      "Loading recordings...\n",
      "Done loading recordings...\n",
      "Found file /mnt/Data/data/output/recordings/recordings_10cells_Neuronexus-32_10.0_10uV_24000Hz_2021-12-02_11-00.h5\n",
      "Loading recordings...\n",
      "Done loading recordings...\n",
      "Found file /mnt/Data/data/output/recordings/recordings_10cells_Neuronexus-32_10.0_15uV_24000Hz_2021-12-02_11-00.h5\n",
      "Loading recordings...\n",
      "Done loading recordings...\n",
      "Found file /mnt/Data/data/output/recordings/recordings_10cells_Neuronexus-32_10.0_25uV_24000Hz_2021-12-02_11-00.h5\n",
      "Loading recordings...\n",
      "Done loading recordings...\n",
      "Found file /mnt/Data/data/output/recordings/recordings_10cells_Neuronexus-32_10.0_5uV_20000Hz_2021-12-02_11-00.h5\n",
      "Loading recordings...\n",
      "Done loading recordings...\n",
      "Found file /mnt/Data/data/output/recordings/recordings_10cells_Neuronexus-32_10.0_10uV_20000Hz_2021-12-02_11-00.h5\n",
      "Loading recordings...\n",
      "Done loading recordings...\n",
      "Found file /mnt/Data/data/output/recordings/recordings_10cells_Neuronexus-32_10.0_15uV_20000Hz_2021-12-02_11-00.h5\n",
      "Loading recordings...\n",
      "Done loading recordings...\n",
      "Found file /mnt/Data/data/output/recordings/recordings_10cells_Neuronexus-32_10.0_25uV_20000Hz_2021-12-02_11-00.h5\n",
      "Loading recordings...\n",
      "Done loading recordings...\n",
      "Found file /mnt/Data/data/output/recordings/recordings_10cells_Neuronexus-32_10.0_5uV_16000Hz_2021-12-02_11-00.h5\n",
      "Loading recordings...\n",
      "Done loading recordings...\n",
      "Found file /mnt/Data/data/output/recordings/recordings_10cells_Neuronexus-32_10.0_10uV_16000Hz_2021-12-02_11-00.h5\n",
      "Loading recordings...\n",
      "Done loading recordings...\n",
      "Found file /mnt/Data/data/output/recordings/recordings_10cells_Neuronexus-32_10.0_15uV_16000Hz_2021-12-02_11-00.h5\n",
      "Loading recordings...\n",
      "Done loading recordings...\n",
      "Found file /mnt/Data/data/output/recordings/recordings_10cells_Neuronexus-32_10.0_25uV_16000Hz_2021-12-02_11-00.h5\n",
      "Loading recordings...\n",
      "Done loading recordings...\n"
     ]
    }
   ],
   "source": [
    "all_recgen_list = [[load_recordings(datafolder=config[\"recordings_folder\"],\n",
    "                verbose=True, noise_level=noise_level, fs=fs) for noise_level in noise_levels]\n",
    "               for fs in fs_list]\n",
    "recordings_20khz = all_recgen_list[1]\n",
    "recgen=recordings_20khz[0]"
   ]
  },
  {
   "cell_type": "code",
   "execution_count": 22,
   "id": "f90e1920",
   "metadata": {},
   "outputs": [],
   "source": [
    "recordings = recgen.recordings[:].T\n",
    "timestamps = np.array(recgen.timestamps)\n",
    "\n",
    "selected = recordings[channel_indexes[1]]\n",
    "odf = pd.DataFrame({\"time\":timestamps,\"vout\":selected})"
   ]
  },
  {
   "cell_type": "code",
   "execution_count": 23,
   "id": "9f378833",
   "metadata": {},
   "outputs": [
    {
     "data": {
      "text/plain": [
       "[<matplotlib.lines.Line2D at 0x7f14b1407430>]"
      ]
     },
     "execution_count": 23,
     "metadata": {},
     "output_type": "execute_result"
    },
    {
     "data": {
      "image/png": "[encoded data removed]",
      "text/plain": [
       "<Figure size 864x432 with 1 Axes>"
      ]
     },
     "metadata": {
      "needs_background": "light"
     },
     "output_type": "display_data"
    }
   ],
   "source": [
    "fig= plt.figure(figsize=(12, 6))\n",
    "ax = fig.add_subplot(1,1,1)\n",
    "ax.plot(odf[\"time\"],odf[\"vout\"])"
   ]
  },
  {
   "cell_type": "code",
   "execution_count": 24,
   "id": "e9f2572e",
   "metadata": {},
   "outputs": [],
   "source": [
    "from eapprocessor.tools.fft import fft"
   ]
  },
  {
   "cell_type": "code",
   "execution_count": 25,
   "id": "c20138fa",
   "metadata": {},
   "outputs": [],
   "source": [
    "Fs=20e3"
   ]
  },
  {
   "cell_type": "code",
   "execution_count": 26,
   "id": "1d592446",
   "metadata": {},
   "outputs": [
    {
     "data": {
      "text/plain": [
       "[<matplotlib.lines.Line2D at 0x7f14af306ad0>]"
      ]
     },
     "execution_count": 26,
     "metadata": {},
     "output_type": "execute_result"
    },
    {
     "data": {
      "image/png": "[encoded data removed]",
      "text/plain": [
       "<Figure size 432x288 with 1 Axes>"
      ]
     },
     "metadata": {
      "needs_background": "light"
     },
     "output_type": "display_data"
    }
   ],
   "source": [
    "xf, yf = fft(np.array(odf[\"vout\"]), Fs)\n",
    "plt.plot(xf,10*np.log10(np.power(yf,2)))"
   ]
  },
  {
   "cell_type": "code",
   "execution_count": 27,
   "id": "0bbd83ce",
   "metadata": {},
   "outputs": [
    {
     "data": {
      "text/plain": [
       "[<matplotlib.lines.Line2D at 0x7f14af37e1a0>]"
      ]
     },
     "execution_count": 27,
     "metadata": {},
     "output_type": "execute_result"
    },
    {
     "data": {
      "image/png": "[encoded data removed]",
      "text/plain": [
       "<Figure size 432x288 with 1 Axes>"
      ]
     },
     "metadata": {
      "needs_background": "light"
     },
     "output_type": "display_data"
    }
   ],
   "source": [
    "xf1, yf1 = fft(np.array(rdf[\"values\"])*1000, Fs)\n",
    "plt.plot(xf1,10*np.log10(np.power(yf1,2)))"
   ]
  },
  {
   "cell_type": "code",
   "execution_count": 28,
   "id": "3ed6b991",
   "metadata": {
    "scrolled": false
   },
   "outputs": [
    {
     "data": {
      "text/plain": [
       "<matplotlib.legend.Legend at 0x7f14af3cf460>"
      ]
     },
     "execution_count": 28,
     "metadata": {},
     "output_type": "execute_result"
    },
    {
     "data": {
      "image/png": "[encoded data removed]",
      "text/plain": [
       "<Figure size 864x720 with 1 Axes>"
      ]
     },
     "metadata": {
      "needs_background": "light"
     },
     "output_type": "display_data"
    }
   ],
   "source": [
    "fig = plt.figure(figsize=(12,10))\n",
    "ax = fig.add_subplot(1,1,1)\n",
    "ax.plot(xf,10*np.log10(np.power(yf,2)), label=\"original\")\n",
    "ax.plot(xf1,10*np.log10(np.power(yf1,2)), label=\"converted\",alpha=0.7)\n",
    "ax.legend()"
   ]
  },
  {
   "cell_type": "code",
   "execution_count": null,
   "id": "05d7a8db",
   "metadata": {},
   "outputs": [],
   "source": []
  }
 ],
 "metadata": {
  "kernelspec": {
   "display_name": "Python 3 (ipykernel)",
   "language": "python",
   "name": "python3"
  },
  "language_info": {
   "codemirror_mode": {
    "name": "ipython",
    "version": 3
   },
   "file_extension": ".py",
   "mimetype": "text/x-python",
   "name": "python",
   "nbconvert_exporter": "python",
   "pygments_lexer": "ipython3",
   "version": "3.10.8"
  }
 },
 "nbformat": 4,
 "nbformat_minor": 5
}
